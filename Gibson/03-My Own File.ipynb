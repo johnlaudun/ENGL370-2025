{
 "cells": [
  {
   "cell_type": "code",
   "execution_count": 3,
   "id": "b03d5c2f-2c8b-4f75-a783-9063e0d43a1b",
   "metadata": {},
   "outputs": [],
   "source": [
    "#Imports\n",
    "import nltk\n",
    "from unidecode import unidecode\n",
    "#Open and read the file to create a string object\n",
    "with open(r\"MyFriendDoggie.md\", mode=\"r\", encoding=\"utf-8\") as f:\n",
    "    mytext = f.read ()\n",
    "\n",
    "my_string = unidecode(mytext)"
   ]
  },
  {
   "cell_type": "code",
   "execution_count": 5,
   "id": "dcf131c6-4651-4192-a9c4-52b8805fb351",
   "metadata": {},
   "outputs": [
    {
     "name": "stderr",
     "output_type": "stream",
     "text": [
      "[nltk_data] Downloading package punkt_tab to\n",
      "[nltk_data]     C:\\Users\\ajaci\\AppData\\Roaming\\nltk_data...\n",
      "[nltk_data]   Unzipping tokenizers\\punkt_tab.zip.\n"
     ]
    },
    {
     "data": {
      "text/plain": [
       "True"
      ]
     },
     "execution_count": 5,
     "metadata": {},
     "output_type": "execute_result"
    }
   ],
   "source": [
    "nltk.download('punkt_tab')"
   ]
  },
  {
   "cell_type": "code",
   "execution_count": 6,
   "id": "a5e51e53-6262-4c3d-a6f0-736b36179ebf",
   "metadata": {},
   "outputs": [
    {
     "name": "stdout",
     "output_type": "stream",
     "text": [
      "The Project Gutenberg eBook of My friend Doggie\n",
      "This ebook is for the use of anyone anywhere in the United States and most other parts of the world at no cost and with almost no restrictions whatsoever.\n",
      "You may copy it, give it away or re-use it under the terms of the Project Gutenberg License included with this ebook or online at www.gutenberg.org.\n",
      "If you are not located in the United States, you will have to check the laws of the country where you are located before using this eBook.\n",
      "Title: My friend Doggie\n",
      "\n",
      "Author: G. R. Glasgow\n",
      "\n",
      "Release date: February 25, 2025 [eBook #75465]\n",
      "\n",
      "Language: English\n",
      "\n",
      "Original publication: London: Ernest Nister, 1890\n",
      "\n",
      "Credits: Bob Taylor, Mairi and the Online Distributed Proofreading Team at https://www.pgdp.net (This file was produced from images generously made available by The Internet Archive)\n",
      "\n",
      "*** START OF THE PROJECT GUTENBERG EBOOK MY FRIEND DOGGIE ***\n",
      "\n",
      "[Pg 1]\n",
      "\n",
      "MY FRIEND DOGGIE\n",
      "or\n",
      "An Only Child.\n",
      "Up at the Hall there was only one little girl.\n",
      "She was, however, such a very pretty little girl, and so very gentle and sweet-tempered, that she could hardly have been improved upon, and all the eight children at the Lodge loved her.\n",
      "Girl and dog\n",
      "The eight children at the Lodge were not particularly pretty, neither were they particularly good, but they had warm, affectionate little hearts, and I suppose that, as each baby brings love into the world with it, there was eight times the amount of love in the cottage that there was at the Hall.\n",
      "[Pg 2]\n",
      "\n",
      "Girl with two dogs\n",
      "\n",
      "When the children at the cottage looked curiously at the little lady in her velvet and fur, their mother used to be ashamed of them, and tell them that beauty was only skin-deep, and it was better to be good than pretty--and they all believed her except Bet, and on that dreadful day when Francey told the little lady to her face that she did not see she (the little lady) was a bit better than [Pg 3]she was, except for her clothes, poor Mrs. Smith had wept tears of sorrow and mortification, and Francey had dined on dry bread for a week--and they had all again implicitly believed, as their mother had told them, that they were only common children and Miss Dolly was a very superior being indeed--except Bet.\n",
      "Man with boy and girl\n",
      "Bet was the youngest but one, so it was the seventh time the Angel of Love had come to the cottage when he was born.\n",
      "He was particularly plain--bless his heart, just like his dear father, Mrs. Smith used to say to the servants at the Hall--and although he brought plenty of love into the poor home, unfortunately he did not bring any extra bread and butter with him.\n"
     ]
    }
   ],
   "source": [
    "#Testing out sentence tokenizing:\n",
    "MyFriendDoggie_sentences = nltk.tokenize.sent_tokenize (my_string)\n",
    "\n",
    "#Let's see some results:\n",
    "for sentence in MyFriendDoggie_sentences[0:10]:\n",
    "    print(sentence) "
   ]
  },
  {
   "cell_type": "code",
   "execution_count": 1,
   "id": "5b1609e5-d0cb-4fb6-a72a-cd5be8b5fc09",
   "metadata": {},
   "outputs": [
    {
     "ename": "NameError",
     "evalue": "name 'nltk' is not defined",
     "output_type": "error",
     "traceback": [
      "\u001b[1;31m---------------------------------------------------------------------------\u001b[0m",
      "\u001b[1;31mNameError\u001b[0m                                 Traceback (most recent call last)",
      "Cell \u001b[1;32mIn[1], line 2\u001b[0m\n\u001b[0;32m      1\u001b[0m \u001b[38;5;66;03m#And now testing out word tokenizing:\u001b[39;00m\n\u001b[1;32m----> 2\u001b[0m MyFriendDoggie_words \u001b[38;5;241m=\u001b[39m \u001b[43mnltk\u001b[49m\u001b[38;5;241m.\u001b[39mtokenize\u001b[38;5;241m.\u001b[39mword_tokenize(my_string)\n\u001b[0;32m      4\u001b[0m \u001b[38;5;66;03m#With the usual check: \u001b[39;00m\n\u001b[0;32m      5\u001b[0m \u001b[38;5;28;01mfor\u001b[39;00m word \u001b[38;5;129;01min\u001b[39;00m MyFriendDoggie_words[\u001b[38;5;241m0\u001b[39m:\u001b[38;5;241m5\u001b[39m]:\n",
      "\u001b[1;31mNameError\u001b[0m: name 'nltk' is not defined"
     ]
    }
   ],
   "source": [
    "#And now testing out word tokenizing:\n",
    "MyFriendDoggie_words = nltk.tokenize.word_tokenize(my_string)\n",
    "\n",
    "#With the usual check: \n",
    "for word in MyFriendDoggie_words[0:5]:\n",
    "    print(word)\n",
    "    "
   ]
  },
  {
   "cell_type": "code",
   "execution_count": null,
   "id": "37cb6c6c-d384-439b-827f-f30750201994",
   "metadata": {},
   "outputs": [],
   "source": []
  }
 ],
 "metadata": {
  "kernelspec": {
   "display_name": "Python 3 (ipykernel)",
   "language": "python",
   "name": "python3"
  },
  "language_info": {
   "codemirror_mode": {
    "name": "ipython",
    "version": 3
   },
   "file_extension": ".py",
   "mimetype": "text/x-python",
   "name": "python",
   "nbconvert_exporter": "python",
   "pygments_lexer": "ipython3",
   "version": "3.10.16"
  }
 },
 "nbformat": 4,
 "nbformat_minor": 5
}
