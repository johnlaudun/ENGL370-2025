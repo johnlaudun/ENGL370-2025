{
 "cells": [
  {
   "cell_type": "code",
   "execution_count": 1,
   "id": "0cb390ad-7769-405c-9927-0631f2777439",
   "metadata": {},
   "outputs": [
    {
     "ename": "SyntaxError",
     "evalue": "invalid syntax. Perhaps you forgot a comma? (3099269774.py, line 5)",
     "output_type": "error",
     "traceback": [
      "\u001b[1;36m  Cell \u001b[1;32mIn[1], line 5\u001b[1;36m\u001b[0m\n\u001b[1;33m    mdg_words = re.sub(\"[^a-zA-Z']\",\",\" mdg_string).lower().split()\u001b[0m\n\u001b[1;37m                                    ^\u001b[0m\n\u001b[1;31mSyntaxError\u001b[0m\u001b[1;31m:\u001b[0m invalid syntax. Perhaps you forgot a comma?\n"
     ]
    }
   ],
   "source": [
    "# Imports\n",
    "import re\n",
    "\n",
    "#Let regex do the heavy lifting:\n",
    "mdg_words = re.sub(\"[^a-zA-Z']\",\",\" mdg_string).lower().split()"
   ]
  },
  {
   "cell_type": "code",
   "execution_count": 3,
   "id": "6b2ec339-a10b-462a-a8d6-c696cfd053a0",
   "metadata": {},
   "outputs": [],
   "source": [
    "#Imports\n",
    "import re\n",
    "\n",
    "#Open and read the file to create a string object\n",
    "with open(\"../assets/mdg.txt\", mode=\"r\") as f:\n",
    "    mdg_string = f.read() "
   ]
  },
  {
   "cell_type": "code",
   "execution_count": 4,
   "id": "bc24f1f3-4d7a-45df-bdb7-326934fb39c3",
   "metadata": {},
   "outputs": [
    {
     "data": {
      "text/plain": [
       "str"
      ]
     },
     "execution_count": 4,
     "metadata": {},
     "output_type": "execute_result"
    }
   ],
   "source": [
    "type(mdg_string) "
   ]
  },
  {
   "cell_type": "code",
   "execution_count": 5,
   "id": "0c064c1a-a4cc-4ef7-a09d-bb9d26aad1a3",
   "metadata": {},
   "outputs": [
    {
     "name": "stdout",
     "output_type": "stream",
     "text": [
      "\"Off there to the right -- somewhere -- is a large island,\" said Whitn\n"
     ]
    }
   ],
   "source": [
    "#Check our work\n",
    "print(mdg_string[0:70]) "
   ]
  },
  {
   "cell_type": "code",
   "execution_count": 19,
   "id": "34c6bd0f-b22f-46c6-bdef-fa0c66955856",
   "metadata": {},
   "outputs": [
    {
     "name": "stdout",
     "output_type": "stream",
     "text": [
      "<class 'list'>\n",
      "['off', 'there', 'to', 'the', 'right', 'somewhere', 'is', 'a', 'large', 'island', 'said', 'whitney', \"it's\", 'rather', 'a', 'mystery', 'what', 'island', 'is', 'it', 'rainsford', 'asked', 'the', 'old', 'charts', 'call', 'it', \"'ship\", 'trap', 'island', \"'\", 'whitney', 'replied', 'a', 'suggestive', 'name', \"isn't\", 'it', 'sailors', 'have', 'a', 'curious', 'dread', 'of', 'the', 'place', 'i', \"don't\", 'know', 'why', 'some', 'superstition', \"can't\", 'see', 'it', 'remarked', 'rainsford', 'trying', 'to', 'peer', 'through', 'the', 'dank', 'tropical', 'night', 'that', 'was', 'palpable', 'as', 'it']\n"
     ]
    }
   ],
   "source": [
    "#Imports\n",
    "import re\n",
    "\n",
    "#Let regex do the heavy lifting:\n",
    "mdg_words = re.sub(\"[^a-zA-Z']\",\" \", mdg_string).lower().split() \n",
    "\n",
    "#Check our work\n",
    "print(type(mdg_words))\n",
    "print(mdg_words[0:70]) \n",
    " "
   ]
  },
  {
   "cell_type": "code",
   "execution_count": 20,
   "id": "daf2a724-c5cb-408c-b484-2115e4bd0ffb",
   "metadata": {},
   "outputs": [
    {
     "name": "stdout",
     "output_type": "stream",
     "text": [
      "mdg_dict is a <class 'dict'> of 1947 entries (tokens).\n"
     ]
    }
   ],
   "source": [
    "#Using a dictionary\n",
    "mdg_dict = {}\n",
    "for word in mdg_words:\n",
    "    try:\n",
    "        mdg_dict[word] += 1\n",
    "    except:\n",
    "        mdg_dict[word] = 1\n",
    "\n",
    "#When in doubt print something out\n",
    "print(f\"mdg_dict is a {type(mdg_dict)} of {len(mdg_dict)} entries (tokens).\") "
   ]
  },
  {
   "cell_type": "code",
   "execution_count": 21,
   "id": "167a7ad6-1f7c-4769-91a7-4441fb3fac2b",
   "metadata": {},
   "outputs": [
    {
     "data": {
      "text/plain": [
       "11"
      ]
     },
     "execution_count": 21,
     "metadata": {},
     "output_type": "execute_result"
    }
   ],
   "source": [
    "# To retrieve a value, enter the key:\n",
    "mdg_dict[\"hunter\"] "
   ]
  },
  {
   "cell_type": "code",
   "execution_count": null,
   "id": "1be3422d-2851-4504-8abc-a124ffc7e3e4",
   "metadata": {},
   "outputs": [],
   "source": []
  }
 ],
 "metadata": {
  "kernelspec": {
   "display_name": "Python 3 (ipykernel)",
   "language": "python",
   "name": "python3"
  },
  "language_info": {
   "codemirror_mode": {
    "name": "ipython",
    "version": 3
   },
   "file_extension": ".py",
   "mimetype": "text/x-python",
   "name": "python",
   "nbconvert_exporter": "python",
   "pygments_lexer": "ipython3",
   "version": "3.10.16"
  }
 },
 "nbformat": 4,
 "nbformat_minor": 5
}
