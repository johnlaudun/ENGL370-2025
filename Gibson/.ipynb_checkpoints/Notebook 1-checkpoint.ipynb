{
 "cells": [
  {
   "cell_type": "markdown",
   "id": "47d86492-335e-4707-8394-816bcaff08ed",
   "metadata": {},
   "source": [
    "# A'Jacia Gibson\n",
    "Hey My name is A'Jacia Gibson. I am currently a freshman at UL majoring in Nursing to become an Anesthelogist. I am the only girl out of three siblings. My oldest brother is 23 and my baby brother is 8. 10 years apart... Ikr lol. I love to color during my free time or shop. I'm excited to see what more this class has to offer."
   ]
  },
  {
   "cell_type": "markdown",
   "id": "3392b71d-701d-42af-a947-163ff8c73b7d",
   "metadata": {},
   "source": [
    "Bulleted List"
   ]
  },
  {
   "cell_type": "markdown",
   "id": "cea0d17b-3d6a-4185-84fa-23e9648720bd",
   "metadata": {},
   "source": [
    "I dont have a pet, but if I did, I would name it Bella."
   ]
  },
  {
   "cell_type": "markdown",
   "id": "a8d83b10-e23b-47fc-a9c5-a12e0de79c69",
   "metadata": {},
   "source": [
    "My favorite colors are yellow and baby blue"
   ]
  },
  {
   "cell_type": "markdown",
   "id": "edb85f3d-2815-447e-9d9d-00eff89cc393",
   "metadata": {},
   "source": [
    "I think the Chiefs will win the Super Bowl."
   ]
  }
 ],
 "metadata": {
  "kernelspec": {
   "display_name": "Python 3 (ipykernel)",
   "language": "python",
   "name": "python3"
  },
  "language_info": {
   "codemirror_mode": {
    "name": "ipython",
    "version": 3
   },
   "file_extension": ".py",
   "mimetype": "text/x-python",
   "name": "python",
   "nbconvert_exporter": "python",
   "pygments_lexer": "ipython3",
   "version": "3.10.16"
  }
 },
 "nbformat": 4,
 "nbformat_minor": 5
}
