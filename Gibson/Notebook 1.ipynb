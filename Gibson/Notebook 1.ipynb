{
 "cells": [
  {
   "cell_type": "code",
   "execution_count": null,
   "id": "b09291f4-1117-41ab-9684-d93bb0027256",
   "metadata": {},
   "outputs": [],
   "source": [
    "# A'Jacia Gibson\n",
    "Hey My name is A'Jacia Gibson. I am currently a freshman at UL majoring in Nursing to become an Anesthelogist. I am the only girl out of three siblings. My oldest brother is 23 and my baby brother is 8. 10 years apart... Ikr lol. I love to color during my free time or shop. I'm excited to see what more this class has to offer."
   ]
  },
  {
   "cell_type": "code",
   "execution_count": 1,
   "id": "d4f78378-0a47-40f8-ae50-1f1458b033d7",
   "metadata": {},
   "outputs": [
    {
     "ename": "SyntaxError",
     "evalue": "unterminated string literal (detected at line 1) (3579281829.py, line 1)",
     "output_type": "error",
     "traceback": [
      "\u001b[1;36m  Cell \u001b[1;32mIn[1], line 1\u001b[1;36m\u001b[0m\n\u001b[1;33m    I don't have a pet, but if I did, I would name it Bella\u001b[0m\n\u001b[1;37m         ^\u001b[0m\n\u001b[1;31mSyntaxError\u001b[0m\u001b[1;31m:\u001b[0m unterminated string literal (detected at line 1)\n"
     ]
    }
   ],
   "source": [
    "I don't have a pet, but if I did, I would name it Bella"
   ]
  },
  {
   "cell_type": "code",
   "execution_count": 2,
   "id": "242c432e-1f48-479c-b3b7-9ee489e54116",
   "metadata": {},
   "outputs": [
    {
     "ename": "SyntaxError",
     "evalue": "invalid syntax (4229232958.py, line 1)",
     "output_type": "error",
     "traceback": [
      "\u001b[1;36m  Cell \u001b[1;32mIn[2], line 1\u001b[1;36m\u001b[0m\n\u001b[1;33m    My favorite color is yellow and baby blue\u001b[0m\n\u001b[1;37m       ^\u001b[0m\n\u001b[1;31mSyntaxError\u001b[0m\u001b[1;31m:\u001b[0m invalid syntax\n"
     ]
    }
   ],
   "source": [
    "My favorite color is yellow and baby blue"
   ]
  },
  {
   "cell_type": "code",
   "execution_count": 3,
   "id": "3a54f28e-0446-47fa-b013-20654dff5c50",
   "metadata": {},
   "outputs": [
    {
     "ename": "SyntaxError",
     "evalue": "invalid syntax (87794862.py, line 1)",
     "output_type": "error",
     "traceback": [
      "\u001b[1;36m  Cell \u001b[1;32mIn[3], line 1\u001b[1;36m\u001b[0m\n\u001b[1;33m    I think the Chiefs will win the super bowl\u001b[0m\n\u001b[1;37m      ^\u001b[0m\n\u001b[1;31mSyntaxError\u001b[0m\u001b[1;31m:\u001b[0m invalid syntax\n"
     ]
    }
   ],
   "source": [
    "I think the Chiefs will win the super bowl"
   ]
  },
  {
   "cell_type": "code",
   "execution_count": null,
   "id": "04ae6a25-48cb-49ff-a6cb-774b734b3465",
   "metadata": {},
   "outputs": [],
   "source": []
  }
 ],
 "metadata": {
  "kernelspec": {
   "display_name": "Python 3 (ipykernel)",
   "language": "python",
   "name": "python3"
  },
  "language_info": {
   "codemirror_mode": {
    "name": "ipython",
    "version": 3
   },
   "file_extension": ".py",
   "mimetype": "text/x-python",
   "name": "python",
   "nbconvert_exporter": "python",
   "pygments_lexer": "ipython3",
   "version": "3.10.16"
  }
 },
 "nbformat": 4,
 "nbformat_minor": 5
}
