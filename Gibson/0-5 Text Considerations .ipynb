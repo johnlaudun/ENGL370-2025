{
 "cells": [
  {
   "cell_type": "markdown",
   "id": "70306b19-f01e-450d-8027-134d437b3f2c",
   "metadata": {},
   "source": [
    "What is a text? How do you know one when you see or hear one?"
   ]
  },
  {
   "cell_type": "code",
   "execution_count": null,
   "id": "86fc76f5-2292-485f-b731-8000092d88db",
   "metadata": {},
   "outputs": [],
   "source": [
    "A text refers to any piece of written or spoken data that contains meaningful information to process and extract insights from such data. A text also helps analyze patterns, relationships, and meaning from these \"texts\", reguardless of their format."
   ]
  },
  {
   "cell_type": "markdown",
   "id": "7e59b555-abe2-41a4-aee6-7e160c7a24f9",
   "metadata": {},
   "source": [
    "Why examine more than one text? What's the point of examining dozens, hundreds, thousands, or millions of texts? What does \"big data\" mean for the study of texts?"
   ]
  },
  {
   "cell_type": "code",
   "execution_count": null,
   "id": "81e96445-46f6-4c5e-881a-608f6503471b",
   "metadata": {},
   "outputs": [],
   "source": [
    "Examing more than one text is crucial in text analytics because it allows you to gain broader insights, identify patterns, and draw more valid conclusions about the subject. When you analyze larger volumes of text, several things happen that wouldn't occure with a smaller sample, such as better representation of data nad statistical reliabilty. Big data refers to datasets that are so large and complex that traditional methods of data analysis may not be sufficient. For text, this typically means having access to vast amounts of written content, such as billions of social media posts, hundreds of thousands of medical records, or millions of news aritcles."
   ]
  },
  {
   "cell_type": "markdown",
   "id": "9ee9c2c8-03cb-45b2-a1b6-458e05b44f26",
   "metadata": {},
   "source": [
    "If you could collect all of some kind of text, what would it be?"
   ]
  },
  {
   "cell_type": "code",
   "execution_count": null,
   "id": "ce397ae7-c07d-4d8f-b95f-5d92d00a9848",
   "metadata": {},
   "outputs": [],
   "source": [
    "If I could gather texts of a specific kind, i would choose news articles because they offer insight on current events, societal issues, and public problems around the world. Collections such as Washington Post's print articles daily that analyze trends and narratives over time."
   ]
  }
 ],
 "metadata": {
  "kernelspec": {
   "display_name": "Python 3 (ipykernel)",
   "language": "python",
   "name": "python3"
  },
  "language_info": {
   "codemirror_mode": {
    "name": "ipython",
    "version": 3
   },
   "file_extension": ".py",
   "mimetype": "text/x-python",
   "name": "python",
   "nbconvert_exporter": "python",
   "pygments_lexer": "ipython3",
   "version": "3.10.16"
  }
 },
 "nbformat": 4,
 "nbformat_minor": 5
}
