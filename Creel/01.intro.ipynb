{
 "cells": [
  {
   "cell_type": "markdown",
   "id": "ac52296f-159b-4bb3-b05b-d35c8cc19335",
   "metadata": {},
   "source": [
    "Cell 1:Introduction markdown\n",
    "Markdown cell – no code execution, just formatted text for clean presentation."
   ]
  },
  {
   "cell_type": "markdown",
   "id": "912ec031-9a04-4aec-9ee4-9a4f08e47b83",
   "metadata": {},
   "source": [
    "# introduction \n",
    "\n",
    "Hello! My name is beaux creel and I’m currently a sophomore who transferred from Northwestern State University. I’m now attending UL with the goal of graduating with a degree in petroleum engineering.I am also from Natchitoches and i have 6 siblings\n",
    "### A Few Things About Me:\n",
    "- 🏋️ I love working out and staying active.\n",
    "- 🎨 My favorite color: black or a cream color\n",
    "- 🐶 Pet's name: my boy fred\n",
    "- 🏈 Super Bowl Pick:  Eagles\n"
   ]
  },
  {
   "cell_type": "markdown",
   "id": "d4d70188-4603-42e5-9b82-dd4d7a7cc822",
   "metadata": {},
   "source": [
    "Cell 2: Count Words in a Text File\n",
    "This piece of code helps me count the number of words in a file called dickens.txt. First, it loads the content of the file and converts all the letters to lowercase, so that capital letters don’t make a difference. Then, it removes all the punctuation (like commas and periods), because we only want to count real words. After cleaning the text, it splits it into a list of individual words and counts how many words are in that list.\n",
    "\n",
    " Output: Shows how many words are in the file, excluding punctuation."
   ]
  },
  {
   "cell_type": "code",
   "execution_count": 1,
   "id": "079b7aa7-acc3-44f4-8612-1017d26f5569",
   "metadata": {},
   "outputs": [
    {
     "name": "stdout",
     "output_type": "stream",
     "text": [
      "Total number of words in the file (without punctuation): 60\n"
     ]
    }
   ],
   "source": [
    "# 📁 Load and process a text file to count total words (excluding punctuation)\n",
    "\n",
    "# Set the path to the text file\n",
    "file_path = 'dickens.txt'\n",
    "\n",
    "# Open the file and read the content\n",
    "with open(file_path, 'r', encoding='utf-8') as file:\n",
    "    text = file.read()\n",
    "\n",
    "# Import the string library to help remove punctuation\n",
    "import string\n",
    "\n",
    "# Step 1: Convert the text to lowercase so all words are treated equally (e.g., \"The\" = \"the\")\n",
    "text = text.lower()\n",
    "\n",
    "# Step 2: Remove punctuation using Python's string translation method\n",
    "text = text.translate(str.maketrans('', '', string.punctuation))\n",
    "\n",
    "# Step 3: Split the cleaned text into individual words\n",
    "words = text.split()\n",
    "\n",
    "# Step 4: Count the number of words and print the result\n",
    "word_count = len(words)\n",
    "print(f\"Total number of words in the file (without punctuation): {word_count}\")\n"
   ]
  },
  {
   "cell_type": "code",
   "execution_count": null,
   "id": "9af3d843-7dd8-4649-b1a5-7f63f98746f4",
   "metadata": {},
   "outputs": [],
   "source": []
  }
 ],
 "metadata": {
  "kernelspec": {
   "display_name": "Python 3 (ipykernel)",
   "language": "python",
   "name": "python3"
  },
  "language_info": {
   "codemirror_mode": {
    "name": "ipython",
    "version": 3
   },
   "file_extension": ".py",
   "mimetype": "text/x-python",
   "name": "python",
   "nbconvert_exporter": "python",
   "pygments_lexer": "ipython3",
   "version": "3.13.1"
  }
 },
 "nbformat": 4,
 "nbformat_minor": 5
}
