{
 "cells": [
  {
   "cell_type": "code",
   "execution_count": null,
   "id": "b7dd12a4-78c1-4e46-8438-7f83e686b0ff",
   "metadata": {},
   "outputs": [],
   "source": [
    "# Beaux Creel\n",
    "As you can see my name is beaux creel i am a sophomore that transfered from northwestern state univeristy. I am attending UL with the hope of graduating with a degree in petroleum engineering.\n",
    "A few things about me outside of academics if that i love working out,i am a me\n",
    "- my favorite color: Black\n",
    "- Pets name: Fred\n",
    "- Super Bowl: eagles"
   ]
  },
  {
   "cell_type": "code",
   "execution_count": 22,
   "id": "71e91c47-c332-4bc0-a34d-e2dd370a7b6b",
   "metadata": {},
   "outputs": [
    {
     "name": "stdout",
     "output_type": "stream",
     "text": [
      "Total number of words in the file (without punctuation): 60\n"
     ]
    }
   ],
   "source": [
    "\n",
    "file_path = 'dickens.txt' \n",
    "\n",
    "with open(file_path, 'r', encoding='utf-8') as file:\n",
    "    text = file.read()\n",
    "import string\n",
    "text = text.lower() \n",
    "text = text.translate(str.maketrans('', '', string.punctuation)) \n",
    "\n",
    "words = text.split()\n",
    "\n",
    "\n",
    "word_count = len(words)\n",
    "print(f\"Total number of words in the file (without punctuation): {word_count}\")\n",
    "\n",
    "\n",
    "\n"
   ]
  }
 ],
 "metadata": {
  "kernelspec": {
   "display_name": "Python 3 (ipykernel)",
   "language": "python",
   "name": "python3"
  },
  "language_info": {
   "codemirror_mode": {
    "name": "ipython",
    "version": 3
   },
   "file_extension": ".py",
   "mimetype": "text/x-python",
   "name": "python",
   "nbconvert_exporter": "python",
   "pygments_lexer": "ipython3",
   "version": "3.13.1"
  }
 },
 "nbformat": 4,
 "nbformat_minor": 5
}
