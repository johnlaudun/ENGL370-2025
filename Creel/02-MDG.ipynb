{
 "cells": [
  {
   "cell_type": "code",
   "execution_count": 7,
   "id": "cd1e69af-5318-4a07-a13a-efa1d375e76c",
   "metadata": {},
   "outputs": [
    {
     "data": {
      "text/plain": [
       "str"
      ]
     },
     "execution_count": 7,
     "metadata": {},
     "output_type": "execute_result"
    }
   ],
   "source": [
    "#imports \n",
    "import re\n",
    "\n",
    "#open and read the file to create a string onject\n",
    "with open(\"../assets/mdg.txt\", mode=\"r\") as f:\n",
    "    mdg_string=f.read()\n",
    "    \n",
    "type(mdg_string)\n",
    "    "
   ]
  },
  {
   "cell_type": "code",
   "execution_count": 9,
   "id": "aef90141-2c4c-408b-b41f-3e9b20087bb3",
   "metadata": {},
   "outputs": [
    {
     "name": "stdout",
     "output_type": "stream",
     "text": [
      "\"Off there to the right -- somewhere -- is a large\n"
     ]
    }
   ],
   "source": [
    "#check our work\n",
    "print(mdg_string[0:50])\n"
   ]
  },
  {
   "cell_type": "code",
   "execution_count": 12,
   "id": "b7bcd561-9f70-4cda-9f86-762741bacc0c",
   "metadata": {},
   "outputs": [
    {
     "name": "stdout",
     "output_type": "stream",
     "text": [
      "['off', 'there', 'to', 'the', 'right', 'somewhere', 'is', 'a', 'large', 'island', 'said', 'whitney', \"it's\", 'rather', 'a', 'mystery', 'what', 'island', 'is', 'it', 'rainsford', 'asked', 'the', 'old', 'charts', 'call', 'it', \"'ship\", 'trap', 'island', \"'\", 'whitney', 'replied', 'a', 'suggestive', 'name', \"isn't\", 'it', 'sailors', 'have', 'a', 'curious', 'dread', 'of', 'the', 'place', 'i', \"don't\", 'know', 'why']\n"
     ]
    }
   ],
   "source": [
    "#imports\n",
    "import re\n",
    "\n",
    "#let regex do the heavy lifting:\n",
    "mdg_words = re.sub(\"[^a-zA-Z']\",\" \", mdg_string).lower().split()\n",
    "\n",
    "#check our work \n",
    "print(mdg_words[0:50])\n"
   ]
  },
  {
   "cell_type": "code",
   "execution_count": 13,
   "id": "332127a0-c191-43b5-b4f5-dd9e436f099d",
   "metadata": {},
   "outputs": [
    {
     "name": "stdout",
     "output_type": "stream",
     "text": [
      "mdg_dict is a <class 'dict'> of 1947 entries (tokens).\n"
     ]
    }
   ],
   "source": [
    "#using a dictionary\n",
    "mdg_dict ={}\n",
    "for word in mdg_words:\n",
    "    try:\n",
    "        mdg_dict[word] += 1\n",
    "    except:\n",
    "        mdg_dict[word] =1\n",
    "\n",
    "#when in doubt print something out \n",
    "print(f\"mdg_dict is a {type(mdg_dict)} of {len(mdg_dict)} entries (tokens).\")"
   ]
  },
  {
   "cell_type": "code",
   "execution_count": 14,
   "id": "f389d29a-d8f0-43a2-a6aa-26a43c1643a7",
   "metadata": {},
   "outputs": [
    {
     "data": {
      "text/plain": [
       "1"
      ]
     },
     "execution_count": 14,
     "metadata": {},
     "output_type": "execute_result"
    }
   ],
   "source": [
    "# to retrieve a value,enter the key:\n",
    "mdg_dict[\"jaguars\"]"
   ]
  },
  {
   "cell_type": "code",
   "execution_count": null,
   "id": "cfa2e8ee-a5ff-4db6-9bc8-bf2c9a533b84",
   "metadata": {},
   "outputs": [],
   "source": [
    "l"
   ]
  }
 ],
 "metadata": {
  "kernelspec": {
   "display_name": "Python 3 (ipykernel)",
   "language": "python",
   "name": "python3"
  },
  "language_info": {
   "codemirror_mode": {
    "name": "ipython",
    "version": 3
   },
   "file_extension": ".py",
   "mimetype": "text/x-python",
   "name": "python",
   "nbconvert_exporter": "python",
   "pygments_lexer": "ipython3",
   "version": "3.13.1"
  }
 },
 "nbformat": 4,
 "nbformat_minor": 5
}
