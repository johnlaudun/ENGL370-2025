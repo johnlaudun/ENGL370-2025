{
 "cells": [
  {
   "cell_type": "markdown",
   "id": "4ccbee5f-656d-4cda-8178-073856bb7e05",
   "metadata": {
    "jp-MarkdownHeadingCollapsed": true
   },
   "source": [
    "## What is a text? How do you know one when you see, or hear, one?\n",
    "\n",
    "A text is essentially any form of communication, whether written, spoken, or even visual, that conveys information or meaning. It could be anything from a book, a social media post, a song, or a conversation. The defining characteristic of a text is that it serves to communicate something—an idea, a message, or an emotion. When you see or hear a text, you can recognize it because it will be composed of words, sentences, or other symbols that work together to convey meaning. Even if it's informal or fragmented, it still follows some kind of structure or organization that makes it recognizable as a text.\n",
    "\n",
    "In everyday life, we come across texts constantly, whether we're reading an article, listening to a podcast, or having a casual conversation. Each of these forms is a text in its own right because it communicates information through language. In essence, a text is any medium that uses language to transmit meaning, whether that's written or spoken.\n"
   ]
  },
  {
   "cell_type": "markdown",
   "id": "0685e64d-282b-42e6-a271-2ee8087abbf7",
   "metadata": {},
   "source": [
    "## Why examine more than one text? What's the point of examining dozens, hundreds, thousands, or millions of texts? That is, what does \"big data\" mean for the study of texts?\n",
    "\n",
    "Looking at more than one text is important because it allows us to see bigger patterns and trends that wouldn't be obvious from just one text. A single text might provide deep insight into a particular topic, but it offers only one perspective. When you examine many texts, you start to see broader trends, recurring themes, and even shifts in public opinion over time. For example, if you analyze hundreds of articles or social media posts about a political event, you might notice how public sentiment changes or how certain issues are framed differently in various places.\n",
    "\n",
    "Big data, in the context of text analytics, allows researchers to process and analyze huge amounts of text quickly and efficiently. Instead of manually reading and analyzing each individual text, algorithms can help detect patterns across vast amounts of data. This is especially helpful when you're trying to understand large-scale phenomena, like the spread of ideas or how language evolves. For instance, analyzing millions of tweets can show how people’s reactions to a particular event spread and change in real-time. Big data makes it possible to identify subtle shifts in language and meaning that would be impossible to catch by just looking at one or two texts. It helps us move from individual insights to a more holistic understanding of language and communication.\n"
   ]
  },
  {
   "cell_type": "markdown",
   "id": "6234030e-66f8-4627-8642-398c9d924767",
   "metadata": {},
   "source": [
    "## If you could collect all of some kind of text, what would it be? Answer without concern for APIs or accessibility, just out of pure curiosity. Why?\n",
    "\n",
    "If I could collect all of one kind of text, I’d choose personal stories—things like diaries, autobiographies, and memoirs. These types of texts give us a direct look into people's thoughts, feelings, and experiences. I find them fascinating because they show us how individuals understand and process their own lives. Personal narratives have a way of capturing both the universal and the unique aspects of being human, from everyday struggles to extraordinary moments, and they can reveal so much about the way people interact with the world around them.\n",
    "\n",
    "What’s really interesting to me is how these stories reflect personal identity, emotions, and even how people cope with societal expectations or major life events. Collecting all these personal accounts would allow us to see patterns in human behavior, emotions, and relationships, giving us a deeper understanding of how we navigate life. Additionally, these narratives often capture historical moments and cultural shifts through the lens of ordinary people, which can sometimes be more revealing than traditional history books. It’s a way of looking at human experience from the inside out, and I think that’s incredibly valuable for understanding ourselves and others.\n"
   ]
  }
 ],
 "metadata": {
  "kernelspec": {
   "display_name": "Python 3 (ipykernel)",
   "language": "python",
   "name": "python3"
  },
  "language_info": {
   "codemirror_mode": {
    "name": "ipython",
    "version": 3
   },
   "file_extension": ".py",
   "mimetype": "text/x-python",
   "name": "python",
   "nbconvert_exporter": "python",
   "pygments_lexer": "ipython3",
   "version": "3.13.1"
  }
 },
 "nbformat": 4,
 "nbformat_minor": 5
}
