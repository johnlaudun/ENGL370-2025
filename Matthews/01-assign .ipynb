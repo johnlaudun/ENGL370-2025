{
 "cells": [
  {
   "cell_type": "raw",
   "id": "4e1c9c4b-ca26-4d78-8d65-8fc1a76efacf",
   "metadata": {},
   "source": [
    "My name is amari . I am from Houma Louisiana. I went to Covent Christian academy high school. My major is business administration, i am currently a sophomore at Ul. \n",
    "\n",
    "My favorite color is blue \n",
    "\n",
    "I have no pets  \n",
    "\n",
    "I think the cheifs are going to win "
   ]
  },
  {
   "cell_type": "code",
   "execution_count": null,
   "id": "2f7755ab-e81d-4705-9cb2-a0b00d3e68e0",
   "metadata": {},
   "outputs": [],
   "source": [
    "# First open a file\n",
    "dickens = open(\"../assets/Dickens.txt\", \"r\").read()\n",
    "\n",
    "# Then check my work\n",
    "print(type(dickens))\n",
    "print(dickens)"
   ]
  },
  {
   "cell_type": "code",
   "execution_count": null,
   "id": "8b490a3f-c2b2-43cb-af90-6b27076eb7c2",
   "metadata": {},
   "outputs": [],
   "source": [
    "\n",
    "<class 'str'>\n",
    "It was the best of times, it was the worst of times, it was the age of wisdom, it was the age of foolishness, it was the epoch of belief, it was the epoch of incredulity, it was the season of light, it was the season of darkness, it was the spring of hope, it was the winter of despair."
   ]
  },
  {
   "cell_type": "code",
   "execution_count": 1,
   "id": "789208d0-f1be-4bcd-88a7-17dfac39b956",
   "metadata": {},
   "outputs": [
    {
     "ename": "NameError",
     "evalue": "name 'dickens' is not defined",
     "output_type": "error",
     "traceback": [
      "\u001b[1;31m---------------------------------------------------------------------------\u001b[0m",
      "\u001b[1;31mNameError\u001b[0m                                 Traceback (most recent call last)",
      "Cell \u001b[1;32mIn[1], line 1\u001b[0m\n\u001b[1;32m----> 1\u001b[0m words \u001b[38;5;241m=\u001b[39m dickens\u001b[38;5;241m.\u001b[39mlower()\u001b[38;5;241m.\u001b[39msplit(\u001b[38;5;124m\"\u001b[39m\u001b[38;5;124m \u001b[39m\u001b[38;5;124m\"\u001b[39m)\n\u001b[0;32m      2\u001b[0m \u001b[38;5;28mprint\u001b[39m(\u001b[38;5;28mtype\u001b[39m(words))\n\u001b[0;32m      3\u001b[0m \u001b[38;5;28mprint\u001b[39m(\u001b[38;5;28mlen\u001b[39m(words))\n",
      "\u001b[1;31mNameError\u001b[0m: name 'dickens' is not defined"
     ]
    }
   ],
   "source": [
    "words = dickens.lower().split(\" \")\n",
    "print(type(words))\n",
    "print(len(words))\n",
    "print(words)"
   ]
  },
  {
   "cell_type": "code",
   "execution_count": null,
   "id": "3141394c-c1e2-49c8-88a7-f1f85b18f31f",
   "metadata": {},
   "outputs": [],
   "source": []
  }
 ],
 "metadata": {
  "kernelspec": {
   "display_name": "Python 3 (ipykernel)",
   "language": "python",
   "name": "python3"
  },
  "language_info": {
   "codemirror_mode": {
    "name": "ipython",
    "version": 3
   },
   "file_extension": ".py",
   "mimetype": "text/x-python",
   "name": "python",
   "nbconvert_exporter": "python",
   "pygments_lexer": "ipython3",
   "version": "3.12.8"
  }
 },
 "nbformat": 4,
 "nbformat_minor": 5
}
