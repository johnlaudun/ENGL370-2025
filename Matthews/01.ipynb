{
 "cells": [
  {
   "cell_type": "markdown",
   "id": "fe01d3e6-24a9-44d2-b3a4-1b0216d3d1eb",
   "metadata": {},
   "source": [
    "My name is amari . I am from Houma Louisiana. I went to Covent Christian academy high school. My major is business administration, i am currently a sophomore at Ul.\n",
    "\n",
    "My favorite color is blue\n",
    "\n",
    "I have no pets\n",
    "\n",
    "I think the cheifs are going to win"
   ]
  },
  {
   "cell_type": "code",
   "execution_count": null,
   "id": "e7dff4da-0052-472b-810c-03f8a0c26d8e",
   "metadata": {},
   "outputs": [],
   "source": [
    "import string\n",
    "\n",
    "file = open (\"..//assets/Dickens.txt\" , \"r\")\n",
    "dickens = file.read()\n",
    "print(dickens)\n",
    "\n"
   ]
  },
  {
   "cell_type": "code",
   "execution_count": null,
   "id": "fe185d48-6861-4333-ab8c-105d3b68d8d3",
   "metadata": {},
   "outputs": [],
   "source": [
    "dickens2 = dickens.translate(str.maketrans (\"\" , \"\" , string.punctuation))\n",
    "words = dickens2. split()\n",
    "WordCount= len(words)\n",
    "print(\"Word Count = \" , WordCount)"
   ]
  },
  {
   "cell_type": "markdown",
   "id": "32de06dd-1a73-4c14-bac2-d87dec506768",
   "metadata": {},
   "source": [
    "it was the best of times, it was the worst of times, it was the age of wisdom, it was the age of foolishness, it was the epoch of belief, it was the epoch of incredulity, it was the season of light, it was the season of darkness, it was the spring of hope, it was the winter of despair. Word Count = 60"
   ]
  },
  {
   "cell_type": "code",
   "execution_count": null,
   "id": "66416e82-fe0e-480b-b711-af9d692f7082",
   "metadata": {},
   "outputs": [],
   "source": []
  }
 ],
 "metadata": {
  "kernelspec": {
   "display_name": "Python 3 (ipykernel)",
   "language": "python",
   "name": "python3"
  },
  "language_info": {
   "codemirror_mode": {
    "name": "ipython",
    "version": 3
   },
   "file_extension": ".py",
   "mimetype": "text/x-python",
   "name": "python",
   "nbconvert_exporter": "python",
   "pygments_lexer": "ipython3",
   "version": "3.10.16"
  }
 },
 "nbformat": 4,
 "nbformat_minor": 5
}
