{
 "cells": [
  {
   "cell_type": "code",
   "execution_count": null,
   "id": "5e153be5-1d85-4534-812c-6722d1bb6d8c",
   "metadata": {},
   "outputs": [],
   "source": [
    "https://www.gutenberg.org/\n",
    "https://www.gutenberg.org/ebooks/75585\n",
    "https://www.gutenberg.org/cache/epub/75585/pg75585.txt"
   ]
  },
  {
   "cell_type": "markdown",
   "id": "bfd4cfad-d631-422e-8876-1be7828d3063",
   "metadata": {},
   "source": [
    "To get from the main website( the first URL) , project gutenburg, to the page for a specific book, which is the second URL,you add /ebooks/75585, where 75585 is the uinque ID for that book. This URL takes you to the books main page, where you can find different formats of the book to read or download online. To go to the third link, which is the raw text of the book, the URL changes again. The /cache/epub/75585 part stores the different files for book. The last UR is the actual text (corpus) of the book, the second URL is the webpage that provides acesss to it."
   ]
  },
  {
   "cell_type": "code",
   "execution_count": null,
   "id": "3483a167-e15f-4a74-9053-ed6c68c31ef7",
   "metadata": {},
   "outputs": [],
   "source": [
    "## Introduction\n",
    "For this assignment, I explored two possible sources of text that could be used for text analytics. The goal was to identify collections that contain at least 100,000 tokens, analyze the structure of their URLs, and determine how easily texts can be accessed. This notebook documents my thought process, the sources I considered, the URL structures I explored, and the final viability of each source."
   ]
  },
  {
   "cell_type": "code",
   "execution_count": null,
   "id": "fb23286b-9e29-48e8-8a79-41ab339c8143",
   "metadata": {},
   "outputs": [],
   "source": [
    "# Source 1: Project Gutenberg (Literary Texts)\n"
   ]
  },
  {
   "cell_type": "code",
   "execution_count": null,
   "id": "45be8980-4080-41e4-af63-64b884eff2f0",
   "metadata": {},
   "outputs": [],
   "source": [
    "## Why Project Gutenberg?\n",
    "Project Gutenberg is a well-known source for public-domain books. It provides plain text versions of books, which makes them easy to process for text analytics."
   ]
  },
  {
   "cell_type": "code",
   "execution_count": null,
   "id": "51bb87cd-dbea-4ef4-b54e-07d9d5a9dfc0",
   "metadata": {},
   "outputs": [],
   "source": [
    "## URL Exploration\n",
    "Project Gutenberg assigns a unique ID to each book, which follows a structured URL pattern:\n",
    "- Book landing page: `https://www.gutenberg.org/ebooks/{book_id}`\n",
    "- Plain text file: `https://www.gutenberg.org/files/{book_id}/{book_id}-0.txt`\n"
   ]
  },
  {
   "cell_type": "code",
   "execution_count": null,
   "id": "9d12cfd8-6945-4657-9452-ebdc3fa13294",
   "metadata": {},
   "outputs": [],
   "source": [
    "### Example\n",
    "- **Pride and Prejudice** by Jane Austen\n",
    "  - Landing page: [https://www.gutenberg.org/ebooks/1342](https://www.gutenberg.org/ebooks/1342)\n",
    "  - Plain text: [https://www.gutenberg.org/files/1342/1342-0.txt](https://www.gutenberg.org/files/1342/1342-0.txt)\n"
   ]
  },
  {
   "cell_type": "code",
   "execution_count": null,
   "id": "172b2ce7-ac6e-4a93-a132-44236cb0e0bc",
   "metadata": {},
   "outputs": [],
   "source": [
    "## Viability Assessment\n",
    "- Books are readily available and downloadable in plain text format.\n",
    "- Two novels should be sufficient to meet the token requirement.\n",
    "- **Conclusion:** Project Gutenberg is a viable text source."
   ]
  },
  {
   "cell_type": "code",
   "execution_count": null,
   "id": "7e226101-12bc-4952-8697-561363b8a6f1",
   "metadata": {},
   "outputs": [],
   "source": [
    "# Source 2: BBC News (News Articles)"
   ]
  },
  {
   "cell_type": "code",
   "execution_count": null,
   "id": "ac4743de-291a-43fd-b1f2-80e74a2e2c83",
   "metadata": {},
   "outputs": [],
   "source": [
    "## Why BBC News?\n",
    "BBC News is a reputable source that publishes daily news articles on various topics."
   ]
  },
  {
   "cell_type": "code",
   "execution_count": null,
   "id": "072e9704-be09-4a39-8c11-d1e3952d5045",
   "metadata": {},
   "outputs": [],
   "source": [
    "## URL Exploration\n",
    "BBC News articles follow a structured URL pattern:\n",
    "- Homepage: [https://www.bbc.com/news](https://www.bbc.com/news)\n",
    "- Example article: [https://www.bbc.com/news/world-60525350](https://www.bbc.com/news/world-60525350"
   ]
  },
  {
   "cell_type": "code",
   "execution_count": null,
   "id": "a4755ff0-a959-4934-88ad-c57e4f2d717d",
   "metadata": {},
   "outputs": [],
   "source": [
    "## Viability Assessment\n",
    "- News articles are relatively short, requiring many to meet the 100,000-token requirement.\n",
    "- URL structures vary, making automated collection more challenging.\n",
    "- Some articles require user interaction to load the full text.\n",
    "- **Conclusion:** While possible, collecting enough text from BBC News is more challenging compared to Project Gutenberg.\n",
    "\"\"\"\n"
   ]
  },
  {
   "cell_type": "code",
   "execution_count": null,
   "id": "7ef74768-6022-4ba3-be40-b816feed6237",
   "metadata": {},
   "outputs": [],
   "source": [
    "# Final Decision\n",
    "- **Project Gutenberg is the preferred source** due to its accessibility and structured text format.\n",
    "- **BBC News is less viable** due to URL complexity and article length constraints.\n",
    "- If needed, another news source with an API (e.g., The Guardian or Reuters) could be considered for  work.\n"
   ]
  },
  {
   "cell_type": "code",
   "execution_count": null,
   "id": "4d74561d-6724-4462-aa13-4901bf3dd8fd",
   "metadata": {},
   "outputs": [],
   "source": [
    "# Next Steps\n",
    "- If proceeding with Project Gutenberg, select books that fit the research topic.\n",
    "- If using BBC News, explore structured ways to extract multiple articles.\n",
    "- Further exploration of APIs or web scraping methods may be necessary for large-scale collection."
   ]
  },
  {
   "cell_type": "code",
   "execution_count": null,
   "id": "0e369d96-fc43-4d06-8bb3-2c1a2b584fb5",
   "metadata": {},
   "outputs": [],
   "source": [
    "This notebook serves as a foundation for obtaining and processing text data for text analytics.\n",
    "\"\"\""
   ]
  },
  {
   "cell_type": "code",
   "execution_count": null,
   "id": "0c6be5ac-9cfe-4660-980b-3047b0cfaec7",
   "metadata": {},
   "outputs": [],
   "source": [
    "# Sample Short Story: \"The Tell-Tale Heart\" by Edgar Allan Poe\n"
   ]
  },
  {
   "cell_type": "code",
   "execution_count": null,
   "id": "d1800ac5-2b42-4a5c-a54c-6d77e74fbc80",
   "metadata": {},
   "outputs": [],
   "source": [
    "## Source Information\n",
    "- **Author**: Edgar Allan Poe\n",
    "- **Published**: 1843\n",
    "- **URL**: [https://www.gutenberg.org/ebooks/2148](https://www.gutenberg.org/ebooks/2148)\n",
    "- **Plain Text**: [https://www.gutenberg.org/files/2148/2148-0.txt](https://www.gutenberg.org/files/2148/2148-0.txt)\n",
    "\n"
   ]
  }
 ],
 "metadata": {
  "kernelspec": {
   "display_name": "Python 3 (ipykernel)",
   "language": "python",
   "name": "python3"
  },
  "language_info": {
   "codemirror_mode": {
    "name": "ipython",
    "version": 3
   },
   "file_extension": ".py",
   "mimetype": "text/x-python",
   "name": "python",
   "nbconvert_exporter": "python",
   "pygments_lexer": "ipython3",
   "version": "3.10.16"
  }
 },
 "nbformat": 4,
 "nbformat_minor": 5
}
