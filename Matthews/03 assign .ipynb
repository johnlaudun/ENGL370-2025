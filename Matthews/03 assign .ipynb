{
 "cells": [
  {
   "cell_type": "code",
   "execution_count": null,
   "id": "a614b9a5-14ee-4fa2-b1ce-6c528201e602",
   "metadata": {},
   "outputs": [],
   "source": [
    "# Open and read the Macbeth.txt file\n",
    "with open(\"The Stolen Bacillus and Other Incidents by H.G. Wells - Project Gutenberg\", \"r\", encoding=\"utf-8\") as file:\n",
    "    text = file.read()\n"
   ]
  },
  {
   "cell_type": "code",
   "execution_count": null,
   "id": "cead7a11-3f27-4781-be6f-1f1f49fb8627",
   "metadata": {},
   "outputs": [],
   "source": [
    "# Convert string to a list of words\n",
    "word_list = text.split()\n"
   ]
  },
  {
   "cell_type": "code",
   "execution_count": null,
   "id": "440784c3-f752-4a1c-af1f-138076642368",
   "metadata": {},
   "outputs": [],
   "source": [
    "# Quick check - print the first 10 words\n",
    "print(word_list[:10])"
   ]
  },
  {
   "cell_type": "code",
   "execution_count": null,
   "id": "042ad08c-2f08-4060-a166-0e2b36081467",
   "metadata": {},
   "outputs": [],
   "source": [
    "# Quick comparison - count the occurrences of each unique word\n",
    "from collections import Counter\n",
    "word_counts = Counter(word_list)"
   ]
  },
  {
   "cell_type": "raw",
   "id": "e41780b7-81fd-44a4-b4f3-ccae9054f2ff",
   "metadata": {},
   "source": [
    "The code above reads the Macbeth.txt, puts its text into a list of words, and analyzes the text most common words"
   ]
  },
  {
   "cell_type": "code",
   "execution_count": null,
   "id": "dcd071bd-8397-4ca6-8c54-5c6f480bb1d8",
   "metadata": {},
   "outputs": [],
   "source": [
    "# Calculate lexical diversity\n",
    "unique_words = set(word_list)  # Get unique words\n",
    "lexical_diversity = len(unique_words) / len(word_list)  # Compute ratio\n"
   ]
  },
  {
   "cell_type": "code",
   "execution_count": null,
   "id": "ae88d3bc-cee5-4d28-bdc6-b2a688a4f4bb",
   "metadata": {},
   "outputs": [],
   "source": [
    "# Print results\n",
    "print(f\"Total words: {len(word_list)}\")\n",
    "print(f\"Unique words: {len(unique_words)}\")\n",
    "print(f\"Lexical Diversity: {lexical_diversity:.4f}\")\n",
    "\n",
    "\n"
   ]
  },
  {
   "cell_type": "raw",
   "id": "4ea86e91-cd71-440a-a4f1-db258f286c79",
   "metadata": {},
   "source": [
    "This code calculates lexical diversity, which measures the variety of vocabulary used in the text."
   ]
  },
  {
   "cell_type": "code",
   "execution_count": 27,
   "id": "aaabe00f-54d3-407e-9480-65e7b33c1b3b",
   "metadata": {},
   "outputs": [
    {
     "ename": "SyntaxError",
     "evalue": "incomplete input (2663369471.py, line 4)",
     "output_type": "error",
     "traceback": [
      "\u001b[1;36m  Cell \u001b[1;32mIn[27], line 4\u001b[1;36m\u001b[0m\n\u001b[1;33m    nltk_text.dispersion_plot([\"Macbeth\"\u001b[0m\n\u001b[1;37m                                        ^\u001b[0m\n\u001b[1;31mSyntaxError\u001b[0m\u001b[1;31m:\u001b[0m incomplete input\n"
     ]
    }
   ],
   "source": [
    "import matplotlib.pyplot as plt\n",
    "\n",
    "# Generate a dispersion plot for selected words\n",
    "nltk_text.dispersion_plot([\"Macbeth\""
   ]
  },
  {
   "cell_type": "code",
   "execution_count": null,
   "id": "fba6b7a1-2db5-4322-8f33-92ca9e0abb26",
   "metadata": {},
   "outputs": [],
   "source": [
    "nltk_text.generate()"
   ]
  }
 ],
 "metadata": {
  "kernelspec": {
   "display_name": "Python 3 (ipykernel)",
   "language": "python",
   "name": "python3"
  },
  "language_info": {
   "codemirror_mode": {
    "name": "ipython",
    "version": 3
   },
   "file_extension": ".py",
   "mimetype": "text/x-python",
   "name": "python",
   "nbconvert_exporter": "python",
   "pygments_lexer": "ipython3",
   "version": "3.12.8"
  }
 },
 "nbformat": 4,
 "nbformat_minor": 5
}
