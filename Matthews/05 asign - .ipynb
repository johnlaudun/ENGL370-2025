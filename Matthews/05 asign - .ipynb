{
 "cells": [
  {
   "cell_type": "raw",
   "id": "6e3df835-d2c2-4716-8ad0-fec8bd57c4cf",
   "metadata": {},
   "source": [
    "What is a text? How do you know one when you see, or hear, one?\n",
    "\n",
    "A text is usally a structure , like a sentence or paragraphs that  follows the rules of language. it is also created with a purpose , like  to tell a story,explaning something, or express a thought or feeling. Even short texts, like captions or headlines, still count because they’re meant to be understood. Texts also usually have a clear structure. That might look like sentences and paragraphs in writing, or spoken patterns and pauses in speech.  A text could be a novel, a blog post, a movie script, a social media caption, or even lyrics in a song. It can be as long as a book or as short as a single sentence.\n"
   ]
  },
  {
   "cell_type": "raw",
   "id": "ff8f3606-aa7d-465b-9256-f02c6d80e4eb",
   "metadata": {},
   "source": [
    "Why examine more than one text? What's the point of examining dozens, hundreds, thousands, or millions of texts? What does \"big data\" mean for the study of texts?\n",
    "\n",
    "\n",
    "Text analytics can definitely be done on just one text, . But when you look at a bunch of texts together, it takes things to another level. Examining multiple texts helps you compare things—like how different authors write, how topics are talked about in different ways, or how language changes over time. When you only study one text, it’s easy to miss the bigger picture. But if you’re looking at dozens or even hundreds, patterns start to pop out. You might notice certain words keep coming up, or that a certain idea is common across a whole genre.  You might find out that certain words appear more in one time period than another, or that emotional language is used differently between genres\n"
   ]
  },
  {
   "cell_type": "raw",
   "id": "7e149764-737b-489c-aed2-c9b779ecba70",
   "metadata": {},
   "source": [
    "If you could collect all of some kind of text, what would it be? Answer without concern for APIs or accessibility, just out of pure curiosity. Why?\n",
    "\n",
    "if i  could collect all of one kind of text, I think I’d choose song lyrics—every genre, every artist, every language. I’d be curious to see how certain themes—like heartbreak, hope, freedom, or faith—show up across different genres or decades.  For example, does rap talk about struggle in a different way than folk music? What words show up the most in gospel versus pop or rock? , I just think it would be amazing to find patterns in something we usually experience emotionally.  Lyrics really  tell stories that we connect with, but when you step back and look at thousands or millions of them together, you can start to see what matters to people across time and space.\n"
   ]
  }
 ],
 "metadata": {
  "kernelspec": {
   "display_name": "Python 3 (ipykernel)",
   "language": "python",
   "name": "python3"
  },
  "language_info": {
   "codemirror_mode": {
    "name": "ipython",
    "version": 3
   },
   "file_extension": ".py",
   "mimetype": "text/x-python",
   "name": "python",
   "nbconvert_exporter": "python",
   "pygments_lexer": "ipython3",
   "version": "3.12.8"
  }
 },
 "nbformat": 4,
 "nbformat_minor": 5
}
