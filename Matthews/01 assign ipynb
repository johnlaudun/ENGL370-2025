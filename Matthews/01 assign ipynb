{
 "cells": [
  {
   "cell_type": "markdown",
   "id": "90158d3f-cead-4561-8372-55bd09f3b51a",
   "metadata": {},
   "source": [
    "amari matthews"
   ]
  },
  {
   "cell_type": "markdown",
   "id": "2eb3fef0-43bc-41fe-9312-6bb955e3a263",
   "metadata": {},
   "source": [
    "My name is amari . I am from Houma Louisiana. I went to Covent Christian academy high school. My major is business administration, i am currently a sophomore at Ul. \n",
    "\n",
    "My favorite color is blue \n",
    "\n",
    "I have no pets  \n",
    "\n",
    "I think the cheifs are going to win "
   ]
  },
  {
   "cell_type": "code",
   "execution_count": null,
   "id": "127e8a59-cf09-4dce-9c94-ce8ad2757657",
   "metadata": {},
   "outputs": [],
   "source": [
    "import string\n",
    "\n",
    "file = open (\"..//assets/Dickens.txt\" , \"r\")\n",
    "dickens = file.read()\n",
    "print(dickens)\n",
    "\n"
   ]
  },
  {
   "cell_type": "code",
   "execution_count": null,
   "id": "f446d988-496a-4ab2-a105-40082d116770",
   "metadata": {},
   "outputs": [],
   "source": [
    "dickens2 = dickens.translate(str.maketrans (\"\" , \"\" , string.punctuation))\n",
    "words = dickens2. split()\n",
    "WordCount= len(words)\n",
    "print(\"Word Count = \" , WordCount)"
   ]
  },
  {
   "cell_type": "markdown",
   "id": "c8430059-06cd-4f88-a3b4-ab0d22e00f11",
   "metadata": {},
   "source": [
    "It was the best of times, it was the worst of times, it was the age of wisdom, it was the age of foolishness, it was the epoch of belief, it was the epoch of incredulity, it was the season of light, it was the season of darkness, it was the spring of hope, it was the winter of despair.\n",
    "Word Count =  60"
   ]
  },
  {
   "cell_type": "code",
   "execution_count": null,
   "id": "26b9157f-cb12-4b5a-979f-b095eaf0689f",
   "metadata": {},
   "outputs": [],
   "source": []
  }
 ],
 "metadata": {
  "kernelspec": {
   "display_name": "Python 3 (ipykernel)",
   "language": "python",
   "name": "python3"
  },
  "language_info": {
   "codemirror_mode": {
    "name": "ipython",
    "version": 3
   },
   "file_extension": ".py",
   "mimetype": "text/x-python",
   "name": "python",
   "nbconvert_exporter": "python",
   "pygments_lexer": "ipython3",
   "version": "3.10.16"
  }
 },
 "nbformat": 4,
 "nbformat_minor": 5
}
