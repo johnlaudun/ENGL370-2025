{
 "cells": [
  {
   "cell_type": "code",
   "execution_count": 1,
   "id": "4cdb640e-3437-440a-9bda-7ff25e8ac6b7",
   "metadata": {},
   "outputs": [
    {
     "ename": "NameError",
     "evalue": "name 'mdg_string' is not defined",
     "output_type": "error",
     "traceback": [
      "\u001b[1;31m---------------------------------------------------------------------------\u001b[0m",
      "\u001b[1;31mNameError\u001b[0m                                 Traceback (most recent call last)",
      "Cell \u001b[1;32mIn[1], line 5\u001b[0m\n\u001b[0;32m      2\u001b[0m \u001b[38;5;28;01mimport\u001b[39;00m \u001b[38;5;21;01mre\u001b[39;00m\n\u001b[0;32m      4\u001b[0m \u001b[38;5;66;03m#Let regex do the heavy lifting:\u001b[39;00m\n\u001b[1;32m----> 5\u001b[0m mdg_words \u001b[38;5;241m=\u001b[39m re\u001b[38;5;241m.\u001b[39msub(\u001b[38;5;124m\"\u001b[39m\u001b[38;5;124m^a-zA-Z\u001b[39m\u001b[38;5;124m'\u001b[39m\u001b[38;5;124m]\u001b[39m\u001b[38;5;124m\"\u001b[39m,\u001b[38;5;124m\"\u001b[39m\u001b[38;5;124m \u001b[39m\u001b[38;5;124m\"\u001b[39m, \u001b[43mmdg_string\u001b[49m)\u001b[38;5;241m.\u001b[39mlower()\u001b[38;5;241m.\u001b[39msplit()\n",
      "\u001b[1;31mNameError\u001b[0m: name 'mdg_string' is not defined"
     ]
    }
   ],
   "source": [
    "#Imports\n",
    "import re\n",
    "\n",
    "#Let regex do the heavy lifting:\n",
    "mdg_words = re.sub(\"^a-zA-Z']\",\" \", mdg_string).lower().split() "
   ]
  },
  {
   "cell_type": "code",
   "execution_count": 3,
   "id": "bf68daa0-5a2d-4e0c-9807-119318afab08",
   "metadata": {},
   "outputs": [],
   "source": [
    "#Imports\n",
    "import re\n",
    "\n",
    "#Open and read the file to create a string object\n",
    "with open(\"../assets/mdg.txt\", mode=\"r\") as f:\n",
    "    mdg_string= f.read() "
   ]
  },
  {
   "cell_type": "code",
   "execution_count": 4,
   "id": "99f899cf-79b2-4d3c-9362-6e2dcdc5202c",
   "metadata": {},
   "outputs": [
    {
     "data": {
      "text/plain": [
       "str"
      ]
     },
     "execution_count": 4,
     "metadata": {},
     "output_type": "execute_result"
    }
   ],
   "source": [
    "type(mdg_string)"
   ]
  },
  {
   "cell_type": "code",
   "execution_count": 7,
   "id": "fdaa259f-063b-4c2f-97bb-3eff49c5d5fa",
   "metadata": {},
   "outputs": [
    {
     "name": "stdout",
     "output_type": "stream",
     "text": [
      "\"Off there to the right -- somewhere -- is a large island,\" said Whitney. \"It's rather a mystery -- \n"
     ]
    }
   ],
   "source": [
    "#Check our work\n",
    "print(mdg_string[0:100])"
   ]
  },
  {
   "cell_type": "code",
   "execution_count": 16,
   "id": "f28384d7-85c5-4f62-b506-a1d4c8767d9d",
   "metadata": {},
   "outputs": [],
   "source": [
    "#Imports\n",
    "import re\n",
    "\n",
    "# Let regex do the heavy lifiting:\n",
    "mdg_words = re.sub(\"[^a-zA-Z']\",\" \", mdg_string).lower().split() "
   ]
  },
  {
   "cell_type": "code",
   "execution_count": 17,
   "id": "6978cfa0-1e41-449d-9d98-9b10f8ed6330",
   "metadata": {},
   "outputs": [
    {
     "name": "stdout",
     "output_type": "stream",
     "text": [
      "<class 'list'>\n",
      "['off', 'there', 'to', 'the', 'right', 'somewhere', 'is', 'a', 'large', 'island', 'said', 'whitney', \"it's\", 'rather', 'a', 'mystery', 'what', 'island', 'is', 'it', 'rainsford', 'asked', 'the', 'old', 'charts', 'call', 'it', \"'ship\", 'trap', 'island', \"'\", 'whitney', 'replied', 'a', 'suggestive', 'name', \"isn't\", 'it', 'sailors', 'have', 'a', 'curious', 'dread', 'of', 'the', 'place', 'i', \"don't\", 'know', 'why']\n"
     ]
    }
   ],
   "source": [
    "# Check our work\n",
    "print(type(mdg_words))\n",
    "print(mdg_words[0:50]) "
   ]
  },
  {
   "cell_type": "code",
   "execution_count": 19,
   "id": "1696f87f-785e-4950-b599-17cc82d38e03",
   "metadata": {},
   "outputs": [
    {
     "name": "stdout",
     "output_type": "stream",
     "text": [
      "mdg_dict is a <class 'dict'> of 1947 entries (tokens).\n"
     ]
    }
   ],
   "source": [
    "#Using a dictionary \n",
    "mdg_dict = {}\n",
    "for word in mdg_words:\n",
    "    try:\n",
    "        mdg_dict[word] += 1\n",
    "    except:\n",
    "        mdg_dict[word] = 1\n",
    "\n",
    "# When in doubt print something out\n",
    "print(f\"mdg_dict is a {type(mdg_dict)} of {len(mdg_dict)} entries (tokens).\") "
   ]
  },
  {
   "cell_type": "code",
   "execution_count": 20,
   "id": "c8248c8e-2326-4bb0-b508-f8bcf8c3d8ce",
   "metadata": {},
   "outputs": [
    {
     "data": {
      "text/plain": [
       "14"
      ]
     },
     "execution_count": 20,
     "metadata": {},
     "output_type": "execute_result"
    }
   ],
   "source": [
    "# To retrieve a value, enter the key:\n",
    "mdg_dict [\"island\"]  "
   ]
  },
  {
   "cell_type": "code",
   "execution_count": null,
   "id": "05bf3f54-3b16-4391-8d73-ae225f28c06b",
   "metadata": {},
   "outputs": [],
   "source": []
  }
 ],
 "metadata": {
  "kernelspec": {
   "display_name": "Python 3 (ipykernel)",
   "language": "python",
   "name": "python3"
  },
  "language_info": {
   "codemirror_mode": {
    "name": "ipython",
    "version": 3
   },
   "file_extension": ".py",
   "mimetype": "text/x-python",
   "name": "python",
   "nbconvert_exporter": "python",
   "pygments_lexer": "ipython3",
   "version": "3.10.16"
  }
 },
 "nbformat": 4,
 "nbformat_minor": 5
}
