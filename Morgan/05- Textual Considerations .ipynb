{
 "cells": [
  {
   "cell_type": "markdown",
   "id": "8823b549-ba1c-49ed-b45a-9c6a8d5f414a",
   "metadata": {},
   "source": [
    "What is a text? How do you know one when you see, or hear, one?"
   ]
  },
  {
   "cell_type": "markdown",
   "id": "d35975c9-7bf9-45a8-b815-b7f90f9e70ad",
   "metadata": {},
   "source": [
    "A text is any written or spoken material that conveys information or ideas. It can be anything from a book, article, or essay to a conversation, speech, or even a social media post.You can recognize a text by its structure and the way it uses language to communicate meaning. Written texts often have sentences, paragraphs, and punctuation while spoken texts have a flow of speech with pauses and intonation. Essentially, if it communicates something through language, its a text."
   ]
  },
  {
   "cell_type": "markdown",
   "id": "fe548491-2a06-42d8-8658-0b762a439b97",
   "metadata": {},
   "source": [
    "WHy examine more than one text? What's the point of examining dozens, hundreds, thousands, or millions of texts? That is, what does \"big data\" mean for the study of texts?"
   ]
  },
  {
   "cell_type": "markdown",
   "id": "9e5de382-c910-45ad-9729-048f7f342118",
   "metadata": {},
   "source": [
    "Examining more than one text is important because it helps you see different perspectives and gain a deeper understanding of a subject. WHen you look at dozens, hundreds, or even thousands of texts, you can identify patterns, trends, and variations that would not be apparent from just one text.\n",
    "\"Big Data\" is the study of texts  means analyzing large volumes of written or spoken content to uncover these patterns and trends. By doing this, researchers can gain insights into how language is used, how ideas spread, and how different texts relate to each other. This can be incredibly valuable in fields like linguistics, literature, sociology, and more."
   ]
  },
  {
   "cell_type": "markdown",
   "id": "f510a39f-e81a-4bb7-acb2-0afba842cd1c",
   "metadata": {},
   "source": [
    "If you could collect all of some kind of text, what would it be? Answer without concern for APIs or accessibility, just out of pure curiosity. Why? "
   ]
  },
  {
   "cell_type": "markdown",
   "id": "a3f0c17a-7833-450d-9485-db88742703a0",
   "metadata": {},
   "source": [
    "If i could collect all of some kind of text, I would choose historical letters.These letters offer a personal glimpse into the past, revealing the thoughts, emotions, and daily lives of people from different eras. They can provide unique insights into historical evevents, social norms, and cultural changes over time. Plus, they often contain rich, authentic language that can be fascinating to study."
   ]
  }
 ],
 "metadata": {
  "kernelspec": {
   "display_name": "Python 3 (ipykernel)",
   "language": "python",
   "name": "python3"
  },
  "language_info": {
   "codemirror_mode": {
    "name": "ipython",
    "version": 3
   },
   "file_extension": ".py",
   "mimetype": "text/x-python",
   "name": "python",
   "nbconvert_exporter": "python",
   "pygments_lexer": "ipython3",
   "version": "3.10.16"
  }
 },
 "nbformat": 4,
 "nbformat_minor": 5
}
