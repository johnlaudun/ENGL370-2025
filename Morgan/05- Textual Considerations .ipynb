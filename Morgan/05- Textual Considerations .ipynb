{
 "cells": [
  {
   "cell_type": "markdown",
   "id": "8823b549-ba1c-49ed-b45a-9c6a8d5f414a",
   "metadata": {},
   "source": [
    "What is a text? How do you know one when you see, or hear, one?"
   ]
  },
  {
   "cell_type": "code",
   "execution_count": null,
   "id": "bd5337a0-26e7-4970-ad52-89e4e7579238",
   "metadata": {},
   "outputs": [],
   "source": [
    "A text is any written or spoken material that conveys information or ideas. It can be anything from a book, article, or essay to a conversation, speech, or even a social media post.You can recognize a text by its structure and the way it uses language to communicate meaning. Written texts often have sentences, paragraphs, and punctuation while spoken texts have a flow of speech with pauses and intonation. Essentially, if it communicates something through language, its a text."
   ]
  },
  {
   "cell_type": "code",
   "execution_count": null,
   "id": "9003f753-e266-4a39-83c3-e219ce00df6e",
   "metadata": {},
   "outputs": [],
   "source": [
    "WHy examine more than one text? What's the point of examining dozens, hundreds, thousands, or millions of texts? That is, what does \"big data\" mean for the study of texts?"
   ]
  },
  {
   "cell_type": "code",
   "execution_count": null,
   "id": "650971db-f2f1-4cb2-b025-4c40fd5001d4",
   "metadata": {},
   "outputs": [],
   "source": [
    "Examining more than one text is important because it helps you see different perspectives and gain a deeper understanding of a subject. WHen you look at dozens, hundreds, or even thousands of texts, you can identify patterns, trends, and variations that would not be apparent from just one text.\n",
    "\"Big Data\" is the study of texts  means analyzing large volumes of written or spoken content to uncover these patterns and trends. By doing this, researchers can gain insights into how language is used, how ideas spread, and how different texts relate to each other. This can be incredibly valuable in fields like linguistics, literature, sociology, and more."
   ]
  },
  {
   "cell_type": "code",
   "execution_count": null,
   "id": "abecf5e2-d413-4087-8fed-88a023eeed30",
   "metadata": {},
   "outputs": [],
   "source": [
    "If you could collect all of some kind of text, what would it be? Answer without concern for APIs or accessibility, just out of pure curiosity. Why? "
   ]
  },
  {
   "cell_type": "code",
   "execution_count": null,
   "id": "f4b9b409-d11d-42a2-948b-23a3f129ae77",
   "metadata": {},
   "outputs": [],
   "source": [
    "If i could collect all of some kind of text, I would choose historical letters.These letters offer a personal glimpse into the past, revealing the thoughts, emotions, and daily lives of people from different eras. They can provide unique insights into historical evevents, social norms, and cultural changes over time. Plus, they often contain rich"
   ]
  }
 ],
 "metadata": {
  "kernelspec": {
   "display_name": "Python 3 (ipykernel)",
   "language": "python",
   "name": "python3"
  },
  "language_info": {
   "codemirror_mode": {
    "name": "ipython",
    "version": 3
   },
   "file_extension": ".py",
   "mimetype": "text/x-python",
   "name": "python",
   "nbconvert_exporter": "python",
   "pygments_lexer": "ipython3",
   "version": "3.10.16"
  }
 },
 "nbformat": 4,
 "nbformat_minor": 5
}
