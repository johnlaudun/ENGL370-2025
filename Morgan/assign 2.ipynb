{
 "cells": [
  {
   "cell_type": "code",
   "execution_count": 8,
   "id": "37cc1a85-f933-4ee1-a80f-16f008bfe941",
   "metadata": {},
   "outputs": [
    {
     "name": "stderr",
     "output_type": "stream",
     "text": [
      "[nltk_data] Downloading package punkt_tab to\n",
      "[nltk_data]     C:\\Users\\kharl\\AppData\\Roaming\\nltk_data...\n",
      "[nltk_data]   Unzipping tokenizers\\punkt_tab.zip.\n"
     ]
    },
    {
     "data": {
      "text/plain": [
       "True"
      ]
     },
     "execution_count": 8,
     "metadata": {},
     "output_type": "execute_result"
    }
   ],
   "source": [
    "nltk.download(\"punkt_tab\")"
   ]
  },
  {
   "cell_type": "code",
   "execution_count": 7,
   "id": "deaa9608-fa1a-4aa4-849b-6c066e880799",
   "metadata": {},
   "outputs": [],
   "source": [
    "#Imports\n",
    "import nltk\n",
    "from unidecode import unidecode\n",
    "#Open and read the file to create a string object\n",
    "with open(\"yw.txt\", mode=\"r\", encoding=\"utf-8\") as f:\n",
    "    mytext = f.read()\n",
    "\n",
    "my_string = unidecode(mytext) \n"
   ]
  },
  {
   "cell_type": "code",
   "execution_count": 10,
   "id": "2cc5c265-f62a-408a-8744-aabfc58909de",
   "metadata": {},
   "outputs": [
    {
     "name": "stdout",
     "output_type": "stream",
     "text": [
      "It is very seldom that mere ordinary people like John and myself secure ancestral halls for the summer.\n",
      "A colonial mansion, a hereditary estate, I would say a haunted house, and reach the height of romantic felicity--but that would be asking too much of fate!\n",
      "Still I will proudly declare that there is something queer about it.\n",
      "Else, why should it be let so cheaply?\n",
      "And why have stood so long untenanted?\n",
      "John laughs at me, of course, but one expects that in marriage.\n",
      "John is practical in the extreme.\n",
      "He has no patience with faith, an intense horror of superstition, and he scoffs openly at any talk of things not to be felt and seen and put down in figures.\n",
      "John is a physician, and perhaps--(I would not say it to a living soul, of course, but this is dead paper and a great relief to my mind)--perhaps that is one reason I do not get well faster.\n",
      "You see, he does not believe I am sick!\n"
     ]
    }
   ],
   "source": [
    "#Testing out sentence tokenizing:\n",
    "yw_sentences = nltk.tokenize.sent_tokenize(my_string)\n",
    "#Let's see some results:\n",
    "for sentence in yw_sentences[0:10]:\n",
    "    print(sentence)\n",
    "    "
   ]
  },
  {
   "cell_type": "code",
   "execution_count": 2,
   "id": "e6d7085c-050b-4ff6-9b0d-4926e6243f92",
   "metadata": {},
   "outputs": [
    {
     "ename": "NameError",
     "evalue": "name 'nltk' is not defined",
     "output_type": "error",
     "traceback": [
      "\u001b[1;31m---------------------------------------------------------------------------\u001b[0m",
      "\u001b[1;31mNameError\u001b[0m                                 Traceback (most recent call last)",
      "Cell \u001b[1;32mIn[2], line 2\u001b[0m\n\u001b[0;32m      1\u001b[0m \u001b[38;5;66;03m#And now testing out word tokenizing\u001b[39;00m\n\u001b[1;32m----> 2\u001b[0m yw\u001b[38;5;241m.\u001b[39mtext_tokens \u001b[38;5;241m=\u001b[39m \u001b[43mnltk\u001b[49m\u001b[38;5;241m.\u001b[39mtokenize\u001b[38;5;241m.\u001b[39mword_tokenizing(my_string)\n\u001b[0;32m      4\u001b[0m \u001b[38;5;66;03m#With the usual check:\u001b[39;00m\n\u001b[0;32m      5\u001b[0m \u001b[38;5;28;01mfor\u001b[39;00m word \u001b[38;5;129;01min\u001b[39;00m mdg_tokens[\u001b[38;5;241m0\u001b[39m:\u001b[38;5;241m5\u001b[39m]:\n",
      "\u001b[1;31mNameError\u001b[0m: name 'nltk' is not defined"
     ]
    }
   ],
   "source": [
    "#And now testing out word tokenizing\n",
    "yw.text_tokens = nltk.tokenize.word_tokenizing(my_string)\n",
    "\n",
    "#With the usual check:\n",
    "for word in mdg_tokens[0:5]:\n",
    "    print(word)"
   ]
  },
  {
   "cell_type": "code",
   "execution_count": null,
   "id": "c5148699-a59a-442c-9c4d-6a0619713cd7",
   "metadata": {},
   "outputs": [],
   "source": []
  }
 ],
 "metadata": {
  "kernelspec": {
   "display_name": "Python 3 (ipykernel)",
   "language": "python",
   "name": "python3"
  },
  "language_info": {
   "codemirror_mode": {
    "name": "ipython",
    "version": 3
   },
   "file_extension": ".py",
   "mimetype": "text/x-python",
   "name": "python",
   "nbconvert_exporter": "python",
   "pygments_lexer": "ipython3",
   "version": "3.10.16"
  }
 },
 "nbformat": 4,
 "nbformat_minor": 5
}
