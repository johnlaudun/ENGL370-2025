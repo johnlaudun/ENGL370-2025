{
 "cells": [
  {
   "cell_type": "markdown",
   "id": "b9d601ee-f1bf-4726-ae3a-4d3d94538c0b",
   "metadata": {},
   "source": [
    "# A'Nyrion Morgan\n",
    "Tell me something about you and why are you in this class?"
   ]
  },
  {
   "cell_type": "code",
   "execution_count": null,
   "id": "e5106c6c-e836-46f8-8e4d-45d92b18dcef",
   "metadata": {},
   "outputs": [],
   "source": [
    "A'Nyrion Morgan"
   ]
  },
  {
   "cell_type": "code",
   "execution_count": null,
   "id": "23de3596-c63b-46d5-980e-2b73e9f319d0",
   "metadata": {},
   "outputs": [],
   "source": [
    "#First open a file\n"
   ]
  },
  {
   "cell_type": "markdown",
   "id": "ac52eb6e-c6b0-404f-a35c-1cda0f54939f",
   "metadata": {},
   "source": [
    "Hi! My name is A'Nyrion, I'm an only child and I was born at 29 1/2 weels weighing 1 pound.I played varsity volleyball througout highschool. I graduated number 19 in my class as cum laude with a 3.7 grade point average. I will be the first college graduate out of my family and I am working hard to make them and myself proud. My favorite colors at the moment is pink, yellow, and sometime orange. Unfortunately, I am  not a pet person so I do not have a pet name. As far as the Super Bowl, I really do not pay attention to football to know who is the greater team but from what I am seeing on social media I think the Philadelphia Eagles will win the Bowl.\n"
   ]
  }
 ],
 "metadata": {
  "kernelspec": {
   "display_name": "Python 3 (ipykernel)",
   "language": "python",
   "name": "python3"
  },
  "language_info": {
   "codemirror_mode": {
    "name": "ipython",
    "version": 3
   },
   "file_extension": ".py",
   "mimetype": "text/x-python",
   "name": "python",
   "nbconvert_exporter": "python",
   "pygments_lexer": "ipython3",
   "version": "3.10.16"
  }
 },
 "nbformat": 4,
 "nbformat_minor": 5
}
