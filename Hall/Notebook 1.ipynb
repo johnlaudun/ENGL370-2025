{
 "cells": [
  {
   "cell_type": "markdown",
   "id": "0447dae2-e2bb-4520-bbdf-40a5abd7d804",
   "metadata": {},
   "source": [
    "# Derriana Hall"
   ]
  },
  {
   "cell_type": "markdown",
   "id": "f57bce20-7b48-4c44-ad5a-8e647f21a439",
   "metadata": {},
   "source": [
    "I am from Atlanta, Georgia. I took this class because I want to stay in tune with my major (information systems). I always had a passion for computers and the human conscious. I can't wait to see where career is going to take me within the next feww years."
   ]
  },
  {
   "cell_type": "markdown",
   "id": "857add35-26da-4ebb-8d68-100fde82286e",
   "metadata": {},
   "source": [
    "+ Favrite color - Black\n",
    "+ No pet - if I did I would name it Chema\n",
    "+ Super bowl - THE EAGLES!"
   ]
  },
  {
   "cell_type": "code",
   "execution_count": 20,
   "id": "e14095a4-7184-41b0-974d-c16c6d5cee25",
   "metadata": {},
   "outputs": [
    {
     "name": "stdout",
     "output_type": "stream",
     "text": [
      "It was the best of times, it was the worst of times, it was the age of wisdom, it was the age of foolishness, it was the epoch of belief, it was the epoch of incredulity, it was the season of light, it was the season of darkness, it was the spring of hope, it was the winter of despair.\n",
      "Word Count =  60\n"
     ]
    }
   ],
   "source": [
    "import string \n",
    "\n",
    "file = open (\"../assets/Dickens.txt\" , \"r\")\n",
    "dickens = file.read()\n",
    "print(dickens)\n",
    "\n",
    "\n",
    "dickens2 = dickens.translate(str.maketrans(\"\" , \"\", string.punctuation))\n",
    "words = dickens2.split()\n",
    "WordCount= len(words)\n",
    "print(\"Word Count = \" , WordCount)"
   ]
  },
  {
   "cell_type": "code",
   "execution_count": null,
   "id": "dbde2977-391f-450a-93b3-910d939e726c",
   "metadata": {},
   "outputs": [],
   "source": []
  }
 ],
 "metadata": {
  "kernelspec": {
   "display_name": "Python 3 (ipykernel)",
   "language": "python",
   "name": "python3"
  },
  "language_info": {
   "codemirror_mode": {
    "name": "ipython",
    "version": 3
   },
   "file_extension": ".py",
   "mimetype": "text/x-python",
   "name": "python",
   "nbconvert_exporter": "python",
   "pygments_lexer": "ipython3",
   "version": "3.12.8"
  }
 },
 "nbformat": 4,
 "nbformat_minor": 5
}
