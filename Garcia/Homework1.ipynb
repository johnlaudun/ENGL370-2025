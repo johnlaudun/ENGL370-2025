{
 "cells": [
  {
   "cell_type": "markdown",
   "id": "991c434d-af5d-48e2-9c54-d58833e0ba69",
   "metadata": {},
   "source": [
    "# Alex Garcia\n",
    "Hello, my name is Alex Garcia and I am a junior pursuing a bachelors in mechanical engineering at the University of Louisiana at Lafayette. I really do enjoy understanding how some of the most important things in my life are engineered and designed to be as efficient as possible. One of my main goals throughout my career is to be a professional CAD designer as I find it very fascinating that creation is at my hands 24/7. Outside the classroom though, I really enjoy everything the outdoors has to offer.  I would much rather been on a boat somewheres on the coast of Louisiana, whether i'm fishing, hunting in the marsh, or just hanging with friends."
   ]
  },
  {
   "cell_type": "markdown",
   "id": "b54a1a4f-41a1-41bc-a855-96b10c8f0031",
   "metadata": {},
   "source": [
    "# Bulleted List\n",
    "- **Favorite Color:** Red\n",
    "- **Pets Name:** Vader, my pet betta fish\n",
    "- **Super Bowl Prediction:** Kansas City Chiefs because it is rigged and they win every year. "
   ]
  },
  {
   "cell_type": "code",
   "execution_count": 8,
   "id": "9f58c6ce-78b7-4182-976f-d9692409a72e",
   "metadata": {},
   "outputs": [
    {
     "name": "stdout",
     "output_type": "stream",
     "text": [
      "Total words (without punctuation): 60\n"
     ]
    }
   ],
   "source": [
    "import string\n",
    "\n",
    "with open(\"dickens.txt\", \"r\") as file:\n",
    "    words = [word.strip(string.punctuation) for word in file.read().split()]\n",
    "\n",
    "print(f\"Total words (without punctuation): {len(words)}\")"
   ]
  },
  {
   "cell_type": "markdown",
   "id": "2400e487-ae98-4aa6-8891-b0dda04c4a40",
   "metadata": {},
   "source": [
    "Test change\n"
   ]
  }
 ],
 "metadata": {
  "kernelspec": {
   "display_name": "Python 3 (ipykernel)",
   "language": "python",
   "name": "python3"
  },
  "language_info": {
   "codemirror_mode": {
    "name": "ipython",
    "version": 3
   },
   "file_extension": ".py",
   "mimetype": "text/x-python",
   "name": "python",
   "nbconvert_exporter": "python",
   "pygments_lexer": "ipython3",
   "version": "3.10.16"
  }
 },
 "nbformat": 4,
 "nbformat_minor": 5
}
