{
 "cells": [
  {
   "cell_type": "markdown",
   "metadata": {
    "editable": true,
    "slideshow": {
     "slide_type": "slide"
    },
    "tags": []
   },
   "source": [
    "# From Files to texts to nltk.Text"
   ]
  },
  {
   "cell_type": "markdown",
   "metadata": {},
   "source": [
    "In the beginning of the first chapter of _[Natural Language Processing with Python](https://www.nltk.org/book/ch01.html)_, the authors have you download and import a number of prepared texts, which the rest of the chapter then uses. We already have a text, so this notebook starts off by importing the `nltk` library and then making it into the particular kind of *Text* that many `nltk` operations expect. For now, simply run the code in the first cell and let it set up Richard Connell's \"The Most Dangerous Game\" as well as Joseph Conrad's _Heart of Darkness_ as two text objects you can then explore.\n",
    "\n",
    "This notebook is designed to allow you to explore the first section of the first chapter, \"Computing with Language: Texts and Words\" in the NLTK book."
   ]
  },
  {
   "cell_type": "markdown",
   "metadata": {},
   "source": [
    "As always, the first thing we do is import and load.\n",
    "\n",
    "Here we are importing the NLTK and then loading two texts, Richard Connell's \"The Most Dangerous Game\" and Joseph Conrad's _Heart of Darkness_. (Conrad's novel was published in 1899, but it features a very similar plot: the protagonist white man encounters another man who has seemingly lost his connection with civilization. (There is a lot to be said about the whiteness that runs through both texts, but that is for a different class.)"
   ]
  },
  {
   "cell_type": "markdown",
   "metadata": {},
   "source": [
    "## A Note about Pythonic Code and Research Notebooks\n",
    "\n",
    "As you work through these materials, try to practice two things: using markdown cells like this one to narrate what you are doing and then `# comments` in your code that describe what a line (or cluster of lines) do. For those still or somewhat new to Python, it's a language that \"likes\" white space and many pythonistas prefer things more vertical than horizontal.\n",
    "\n",
    "That is, you could write a line of code like below, but it is more difficult to read than the vertically organized code you see elsewhere in this notebook.\n",
    "\n",
    "```python\n",
    "hod = nltk.Text(nltk.tokenize.word_tokenize(open('../data/hod.txt', 'r').read()))\n",
    "```\n",
    "\n",
    "For our purposes, codes that is easier to read is better than code that is more compact. We are using code to *explore* human language and not (yet) building any kind of infrastructure where efficiency and compactness are more important than legibility and reproducibility.\n",
    "\n",
    "Another reason to write vertical code is that Python will often locate an error by line. If there is a lot happening on one line, it's harder to know what broke. If it's only one thing, then you know it's that thing which is broken."
   ]
  },
  {
   "cell_type": "markdown",
   "metadata": {},
   "source": [
    "## Recursion to Words, er, Tokens"
   ]
  },
  {
   "cell_type": "code",
   "execution_count": 4,
   "metadata": {},
   "outputs": [
    {
     "name": "stderr",
     "output_type": "stream",
     "text": [
      "[nltk_data] Downloading package punkt_tab to\n",
      "[nltk_data]     C:\\Users\\alex\\AppData\\Roaming\\nltk_data...\n",
      "[nltk_data]   Unzipping tokenizers\\punkt_tab.zip.\n"
     ]
    },
    {
     "data": {
      "text/plain": [
       "True"
      ]
     },
     "execution_count": 4,
     "metadata": {},
     "output_type": "execute_result"
    }
   ],
   "source": [
    "nltk.download('punkt_tab')"
   ]
  },
  {
   "cell_type": "code",
   "execution_count": 5,
   "metadata": {},
   "outputs": [
    {
     "name": "stdout",
     "output_type": "stream",
     "text": [
      "﻿The Project Gutenberg eBook of The Art of War\n",
      "\n",
      "    \n",
      "\n",
      "This ebook is for the use of anyone anywhere in the United States and\n",
      "\n",
      "most other parts of the world at no cost and with almost no restrictions\n",
      "\n",
      "whatsoever.\n",
      "You may copy it, give it away or re-use it under the terms\n",
      "\n",
      "of the Project Gutenberg License included with this ebook or online\n",
      "\n",
      "at www.gutenberg.org.\n",
      "If you are not located in the United States,\n",
      "\n",
      "you will have to check the laws of the country where you are located\n",
      "\n",
      "before using this eBook.\n",
      "Title: The Art of War\n",
      "\n",
      "\n",
      "\n",
      "Author: active 6th century B.C.\n",
      "Sunzi\n",
      "\n",
      "\n",
      "\n",
      "Translator: Lionel Giles\n",
      "\n",
      "\n",
      "\n",
      "Release date: May 1, 1994 [eBook #132]\n",
      "\n",
      "                Most recently updated: October 29, 2024\n",
      "\n",
      "\n",
      "\n",
      "Language: English\n",
      "\n",
      "\n",
      "\n",
      "Original publication: , 1910\n",
      "\n",
      "\n",
      "\n",
      "\n",
      "\n",
      "*** START OF THE PROJECT GUTENBERG EBOOK THE ART OF WAR ***\n",
      "\n",
      "Sun Tzŭ\n",
      "\n",
      "on\n",
      "\n",
      "The Art of War\n",
      "\n",
      "\n",
      "\n",
      "THE OLDEST MILITARY TREATISE IN THE WORLD\n",
      "\n",
      "Translated from the Chinese with Introduction and Critical Notes\n",
      "\n",
      "\n",
      "\n",
      "BY\n",
      "\n",
      "LIONEL GILES, M.A.\n",
      "Assistant in the Department of Oriental Printed Books and MSS.\n",
      "in the British Museum\n",
      "\n",
      "\n",
      "\n",
      "\n",
      "\n",
      "\n",
      "\n",
      "\n",
      "\n",
      "1910\n",
      "\n",
      "\n",
      "\n",
      "\n",
      "\n",
      "\n",
      "\n",
      "To my brother\n",
      "\n",
      "Captain Valentine Giles, R.G.\n",
      "in the hope that\n",
      "\n",
      "a work 2400 years old\n",
      "\n",
      "may yet contain lessons worth consideration\n",
      "\n",
      "by the soldier of today\n",
      "\n",
      "this translation\n",
      "\n",
      "is affectionately dedicated.\n",
      "Contents\n",
      "\n",
      "\n",
      "\n",
      "\n",
      "\n",
      " Preface to the Project Gutenberg Etext\n",
      "\n",
      " Preface by Lionel Giles\n",
      "\n",
      " INTRODUCTION\n",
      "\n",
      " Sun Wu and his Book\n",
      "\n",
      " The Text of Sun Tzŭ\n",
      "\n",
      " The Commentators\n",
      "\n",
      " Appreciations of Sun Tzŭ\n",
      "\n",
      " Apologies for War\n",
      "\n",
      " Bibliography\n",
      "\n",
      " Chapter I. Laying plans\n",
      "\n",
      " Chapter II.\n",
      "Waging War\n",
      "\n",
      " Chapter III.\n"
     ]
    }
   ],
   "source": [
    "# Imports\n",
    "import nltk\n",
    "\n",
    "from nltk.tokenize import PunktSentenceTokenizer\n",
    "\n",
    "# Open and read the file with utf-8 encoding to handle special characters\n",
    "with open(r\"C:\\Users\\alex\\code\\ENGL370-2025\\ENGL370-2025\\Garcia\\The_Art_of_War.txt\", mode=\"r\", encoding=\"utf-8\") as f:\n",
    "    my_string = f.read()\n",
    "\n",
    "# Manually import the Punkt tokenizer\n",
    "tokenizer = PunktSentenceTokenizer()\n",
    "\n",
    "# Tokenize the sentences\n",
    "warSentences = tokenizer.tokenize(my_string)\n",
    "\n",
    "# Let's see some results:\n",
    "for sentence in warSentences[0:10]:\n",
    "    print(sentence)\n"
   ]
  },
  {
   "cell_type": "code",
   "execution_count": 6,
   "metadata": {},
   "outputs": [
    {
     "name": "stdout",
     "output_type": "stream",
     "text": [
      "﻿The\n",
      "Project\n",
      "Gutenberg\n",
      "eBook\n",
      "of\n"
     ]
    }
   ],
   "source": [
    "# And now testing out word tokenizing:\n",
    "war_tokens = nltk.tokenize.word_tokenize(my_string)\n",
    "\n",
    "# With the usual check:\n",
    "for word in war_tokens[0:5]:\n",
    "    print(word)"
   ]
  },
  {
   "cell_type": "markdown",
   "metadata": {},
   "source": [
    "It is important to note that we are not getting just words, we are getting whatever our code tells Python is a sub-string we can shove into a list. That is why the double back ticks are showing up in our list. \n",
    "\n",
    "The NLTK's `word_tokenize()` function may or may not align with what you think should be included: that is why it is important to be able to tokenize as you think is appropriate."
   ]
  },
  {
   "cell_type": "markdown",
   "metadata": {},
   "source": [
    "With the basics of tokenization out of the way, let's take a look at how we might count words from within the NLTK. \n",
    "\n",
    "To do this, we are going to use some built-in functionality, frequency distribution, called via `FreqDist()`. Note how we still iterate through out string using a `for` loop. As we did when we created our own dictionary of terms, first we create an empty container and then we fill it. This first time around we do it by sentence.\n",
    "\n",
    "**Note**: I have used a very clear naming convention for my variables (objects)."
   ]
  },
  {
   "cell_type": "code",
   "execution_count": 7,
   "metadata": {},
   "outputs": [
    {
     "name": "stdout",
     "output_type": "stream",
     "text": [
      "7943\n"
     ]
    }
   ],
   "source": [
    "# import nltk\n",
    "from nltk.tokenize import word_tokenize\n",
    "\n",
    "# Ensure 'punkt' is downloaded\n",
    "# nltk.download('punkt', quiet=True)\n",
    "\n",
    "# Open and read the file with utf-8 encoding to handle special characters\n",
    "with open(r\"C:\\Users\\alex\\code\\ENGL370-2025\\ENGL370-2025\\Garcia\\The_Art_of_War.txt\", mode=\"r\", encoding=\"utf-8\") as f:\n",
    "    mdg_string = f.read()\n",
    "\n",
    "# Create the object\n",
    "mdg_fd = nltk.FreqDist()\n",
    "\n",
    "# Manually import the Punkt tokenizer\n",
    "tokenizer = PunktSentenceTokenizer()\n",
    "\n",
    "# Populate the object\n",
    "for sentence in tokenizer.tokenize(mdg_string):\n",
    "    for word in word_tokenize(sentence):\n",
    "        mdg_fd[word] += 1\n",
    "\n",
    "# Let's see the count\n",
    "print(len(mdg_fd))\n"
   ]
  },
  {
   "cell_type": "code",
   "execution_count": 8,
   "metadata": {},
   "outputs": [
    {
     "data": {
      "text/plain": [
       "[(',', 3712),\n",
       " ('the', 3485),\n",
       " ('.', 3318),\n",
       " ('of', 2130),\n",
       " ('to', 1692),\n",
       " ('and', 1467),\n",
       " ('in', 1096),\n",
       " ('a', 1008),\n",
       " ('’', 994),\n",
       " ('is', 963)]"
      ]
     },
     "execution_count": 8,
     "metadata": {},
     "output_type": "execute_result"
    }
   ],
   "source": [
    "mdg_fd.most_common(10)"
   ]
  },
  {
   "cell_type": "markdown",
   "metadata": {},
   "source": [
    "It looks like the difference of 90 tokens can somewhat be explained by punctuation and, and this is a guess, capitalization. (Remember, when we created our dictionary of tokens, we not only dropped all non-letter characters, save the apostrophe, but we also normalized to all lowercase."
   ]
  },
  {
   "cell_type": "code",
   "execution_count": 9,
   "metadata": {},
   "outputs": [
    {
     "data": {
      "text/plain": [
       "7408"
      ]
     },
     "execution_count": 9,
     "metadata": {},
     "output_type": "execute_result"
    }
   ],
   "source": [
    "mdg_fd_alt = nltk.FreqDist()\n",
    "for word in nltk.tokenize.word_tokenize(mdg_string.lower()):\n",
    "        mdg_fd_alt[word] += 1\n",
    "\n",
    "# Let's see what the count is now:\n",
    "len(mdg_fd_alt)"
   ]
  },
  {
   "cell_type": "markdown",
   "metadata": {},
   "source": []
  },
  {
   "cell_type": "markdown",
   "metadata": {},
   "source": [
    "*Oh! Now we have dropped below our earlier count!*\n",
    "\n",
    "Repeat after me: tokenization depends on the analyst preferences. The only thing that really matters here is you have some explanation for why you are tokenizing in this fashion and that you use the same method across your entire set of texts, or *corpus*."
   ]
  },
  {
   "cell_type": "markdown",
   "metadata": {},
   "source": [
    "We can subtract the difference between the using sets. (See, you can math language.)"
   ]
  },
  {
   "cell_type": "code",
   "execution_count": 10,
   "metadata": {},
   "outputs": [
    {
     "name": "stdout",
     "output_type": "stream",
     "text": [
      "{'_Ssu', 'Chuang', 'Yu-chang', 'Make', 'Mo', 'I', 'Whenever', 'Trafalgar', 'TREATISE', 'Alas', 'Omissions', 'Mafeking', 'Science', '_T', 'WEAK', 'Though', 'Shou-chieh', 'THOSE', 'While', 'South', 'Feng', 'Twenty-eight', 'Caesar', 'Nicias', 'Just', 'Manœuvering', '656', 'Hsiang', '_P', 'Five', 'Commentators', 'Other', '_Chan', 'Sonshi', '1.E.3', 'going—Not', 'Hsia', 'Making', 'Ju-nan', 'INCLUDING', 'Kuang', 'CH', 'Te', 'And', 'Feign', 'Many', 'ASCII', 'TO', 'Chien-te', 'Movement', '1.E.9', 'When', 'Danger', 'Disciplined', 'Commentary', 'Casilinum', 'X', 'Wen-su', 'GILES', 'NEGLIGENCE', 'Tsu', '_Shih', 'REFUND', 'Su', 'Hsin-', '_Liu', 'Homeric', 'MERCHANTABILITY', 'Fire', 'Fa_', 'Pensees', 'Gutenberg', 'UAN', 'Giles', '\\ufeffThe', 'IV', 'POINTS', 'Military', 'Generals', 'eBook', 'Kung-sun', 'IN', 'Owing', 'Chih', 'Sometimes', 'Burn', 'Weak', 'CONTRACT', 'THE', 'INTRODUCTION', 'Accordingly', 'Heaven', 'Like', 'Ping', 'Peking', 'Kuang-pi', 'Facing', 'Fabius', 'Needless', '_Yu', 'Country', 'Better', 'OTHER', 'SUCH', 'Pu', 'Mu', 'Po-teng.', 'Kuei', 'Luzac', 'XXX', 'True', 'With', 'Assistant', 'British', 'Thereupon', 'Between', 'PGLAF', '_Heaven_', 'Thousand', 'City', 'LAYING', 'Literally', 'Sagittarius', 'WAR', 'I.', '_Chiang', '_Art', 'Latin', 'Père', 'Lu', 'MENG', 'Warring', 'Later', 'Assuming', 'Lou', 'Yao-', 'PROVIDED', 'Written', 'Valentine', 'Emperor', 'Erh-chu', 'Each', 'Yes', 'Ten', 'Chia-ku', 'Jun-yu', 'Kiangnan', 'FULL', 'Impartial', 'Service', 'E.', 'Haste', 'Hai', 'Joseph', 'DISCLAIMER', 'Rapidity', 'PLANS', 'Wu', 'Shou-cheng', 'Lo-an', 'Government', 'Yen-ch', 'One', 'Hsuan', '1.F.4', 'Hsiung', 'Estimation', 'Well', 'Palace', '_Chou', 'Repeated', 'Raising', 'XIII', 'Nature', 'Of', 'Hsiung-no', 'CONSEQUENTIAL', 'WAGING', 'Khotan', 'HAVE', 'Prime', 'Indirect', 'Straightway', 'Once', 'Gen', 'Ti', 'AS-IS', 'Tzŭ-fang', '_I.e._', 'WORK', 'O', 'Hai_', 'Capt', 'Take', 'Strong', 'Wrongly', 'V', 'Stonewall', 'Kung', 'Shin', 'Sheridan', 'UT', 'Spells', 'Quantities', 'Chiang-ling', 'Tzŭ-shang', '1.E.6', 'Griffith', 'Faites', 'TRADEMARK', 'Keep', 'Rather', 'Ming-shih', 'Chap', 'Hannibal', 'Humanity', 'Left', 'Chien', 'DISPOSITIONS', 'Nine', 'Ni', 'Convinced', 'Redistribution', 'Lo-yang', 'Direct', 'Fu-', 'Local', 'Ta', 'Men', 'T', 'Release', 'Equally', 'Classics', 'Advantages', '_Kuang', 'Voilà', 'Hupeh', 'Casinum', 'Under', 'Kuo', 'Kiangsu', 'Hu', 'Rome', 'Not', 'Roberts', 'Prohibit', 'Signal', 'Simultaneously', 'IF', 'Nien-hu', 'Lionel', 'Wakefield_', 'Tzŭ_', 'Besides', 'Over', 'Being', 'MANŒUVERING', 'Dynasties', 'Wei-kung', 'Yuan_', 'FOR', 'IRS', 'Concentrate', 'Bestow', 'Always', 'Invincible', 'Ying-ch', 'Probably', 'Reduce', 'Huang', 'VIII', 'AGREE', 'Pretend', 'Sun', 'Les', 'Officials', 'Dr', 'London', 'His', '_Wei', 'For', 'State', 'Lan_', 'Port', 'Lü', 'Master', 'Position', 'Europeans', 'Hua-pi', 'Who', 'From', 'Kao-ch', 'Autumn', 'Foundation.', 'Flight', 'Wang-tzu', 'XII', 'Ku-mo', 'Wei', 'Only', '1.E.1', 'Yangtsze', 'Popularly', 'Europe', 'Lei', 'Valley', 'Compliance', 'Throw', 'Ssu-ma', 'eBooks', 'Plain', 'Hui_', 'Jen-shi', 'Moor', 'Defect', 'Cannae', 'EVEN', 'Humble', 'Troupes._', 'Fortunately', 'ANYTHING', 'LI', 'UNDER', 'Lake', 'Moreover', 'Co.', 'Strike', 'Prince', 'Chapters_', 'Steadily', 'Have', 'Athenians', 'Hart', 'Camp', 'Pelliot', 'Shih-kung', 'Notes', '1.B', 'Word', 'Ma', 'PLEASE', 'Method', 'Turks', 'Napoleon', 'Let', 'Wei-t', 'Updated', 'Jesuit', 'Pien_', 'Confucius', 'Wellington', 'Oh', 'MILITARY', 'Apparently', 'Chih-wu', 'Why', 'Success', 'GIVE', 'Waterloo', '1.F.2', 'Chi_', 'Chin', 'Pi-yang', 'Tsung-t', 'Scheme', '_San', '_Tung', 'Grottos', 'Tzŭ—we', 'Chi-mo', 'Email', 'Treize', 'If', 'Army', '_Mencius_', 'Hua-shan', 'Christian', 'Ayez', 'African', 'Royalty', 'Entice', 'Meanwhile', 'Concealment', 'Japanese', 'WARRANTIES', 'Nang', 'BE', 'X.', 'Chang', 'Ch', 'Grounds', '_Shuai-jan_', 'Defined', 'BEFORE', 'Worthy', 'Wan', 'Hold', 'Unless', 'Ts', 'Yuan', 'Far', 'Students', 'Goods', 'Copyright', 'Chinaman', 'Therefore', 'India', 'Know', 'Yu-hsien', 'DAMAGES', 'Others', 'Chen-sun', 'Kao-wu', 'Second', '_I', '_Sung', 'Turkic', 'START', 'Kutcha', 'Appreciations', 'Meng', 'Years', 'ARMY', '_Hsu', 'Moltke', 'Anger', 'E.F', 'Teng', 'Huo', 'Unhappy', 'STRATAGEM', 'Jang-chu', 'Officers', 'B.C.', 'Classic—', 'Is', 'I.e.', 'Shang', 'Yao-ch', 'Eleven', 'Conceal', 'Tzŭ-ch', 'Fierce', 'Literary', 'OR', 'Words', 'Nevertheless', 'Sire', 'LIONEL', 'KIND', 'Gap', 'Demonsthenes', 'None', 'Museum', 'Chao-i', 'U.S', 'Refund', 'After', '_Yuan', 'Regarding', 'OF', 'But', 'REMEDIES', 'You', '1.F.3', 'Decrees', 'Tao', 'TACTICAL', 'Attributed', '_Huang', '_Mémoires', 'Sections', 'Wu-tu', 'Most', 'A.D.', 'Po-chu', 'Hsu', 'Ho-yang', 'Chi-sun', 'Water', 'Waging', 'Energy', 'They', 'Going', 'Hsing-chien', 'Fa', 'Yao_', 'Otherwise', 'Abide', 'Hsieh', 'Vacillation', 'Bibliography', 'BREACH', '1.F.6', 'Vicar', 'Wen', '_Wu_', 'Decisive', 'EXCEPT', 'Khitans', 'Yarkand', 'Sophanes', 'Neither', 'Arthur', 'Kung-wu', 'Archive', 'Jang', 'Belgian', 'Ho', '—The', 'Asked', 'Again', 'It', 'There', 'International', 'Chinese', '_Tao', 'B.', 'Chao', 'Sung', 'MSS', 'Spies', 'Father', 'Tsai', 'Suddenly', 'Fei', 'Asian', 'Given', 'Tien', 'Pei', 'Chu', 'Cf', 'BUT', 'Foundation', 'Project', 'Birds', 'Right', 'Where', 'YOU', 'Simply', 'Further', 'Six', 'Tan', 'Defects', 'Sun-tse', 'Hostile', 'TU', 'FIRE', 'PARAGRAPH', 'Information', 'Yang-p', 'WITH', 'Ku', 'North', 'Cho', 'Ssu-ming', 'Gibbon', 'Wu-lao', 'Officiers', 'George', 'Weapons', 'Kimberley', 'Hua-yin', 'According', 'Marshal', 'Ming', 'Whether', 'Kung-tzu', 'Yang', '1.C', 'March', '1.E.5', 'S.', 'Rewards', 'Reviewing', 'VI', '1.F.1', 'Salt', '_Tso', 'Shortly', 'Yin', 'These', 'I.e', 'Ching-hsing', 'Hao', 'ATTACK', 'Trebia', 'Should', 'Pass', 'Both', '_Chin', 'Replacement', 'Formerly', 'Minister', 'VII', 'Volunteers', 'W.', 'Lu_', 'Instances', 'Accessible', 'Tsung', 'Moral', 'Except', 'Whereas', 'Herodotus', 'Ladysmith', 'United', 'Northern', 'Lung', 'CHIA', 'Appear', 'Lastly', 'INCIDENTAL', '1.E.2', 'Thus', 'DONATIONS', 'READ', 'Tien_', 'LICENSE', 'Pi', 'Wing', 'Kotal', 'PROJECT', 'Appended', 'Additional', 'Frederick', 'Contact', 'Marquis', 'Walk', 'Boers', '1.A', 'Gutenberg™', 'Wang', 'Recklessness', 'O-yu', '_Ku', 'Printed', 'Yeh', 'TACTICS', 'During', 'XI', 'Tung-p', 'Competent', 'Standing', 'Duke', 'Manœuvers', 'Had', 'Sir', 'Manuscripts', 'Sage', '_Han', 'Confucianism', 'Sicilian', 'Chinois_', 'Regard', 'Turenne', 'On', 'River', 'Revenue', 'SPIES', 'Ying', 'San-yuan', 'Intendant', 'Author', '_Instructions', 'Hsiang-ju', 'Without', 'Introduction', 'Literature', 'Contributing', 'Hsiu', 'Julius', '_Ssu-ma', '_Chiu', 'Col', 'Which', '1.E', 'Force', 'Measurement', 'Hsi', 'Cheng', 'Attacking', 'OWNER', 'I-hsun', 'Sui', 'Constitution', 'THAT', 'Ground', 'Secure', 'Lin-chin', '_The', 'War', 'The', 'EXPRESS', '77', 'Sheng-yu', 'Shih-ch', 'NINE', 'Calculation', 'LIABLE', 'Law', 'Chou', 'Huang-fu', 'Chi', 'Title', '64-6221541', 'EN', 'Can', 'New', 'Maxims', 'I-wu', 'Emperors', 'WANG', 'Lo', 'Some', 'Although', 'Teacher', 'DISTRIBUTOR', 'Turning', 'Shu', 'Ta-hsing', 'Tseng', 'Boer', 'Our', 'Ponder', 'Marengo', 'Their', 'Situations', 'I-ho', 'Hsun', 'Because', 'Note', 'Disturb', 'Commander-in-chief', 'Chieh', 'Cross-bar', 'Terrain', 'ON', '_Lun', 'Yao', 'Han', 'Napoleonic', 'WILL', 'Lien', 'IMPLIED', 'Fu', 'Translator', 'Chu-ko', 'Afghan', 'Full', 'Book', 'High', 'Governor', 'Donations', 'Tzŭ-hsu', 'Wealth', 'Text', 'Throughout', 'Chieh-li', 'Hsu-chou', 'Wen-tzu', 'Ningpo', 'Yu-Hsien', 'Whoever', 'At', 'Biographical', 'License', 'Final', 'Move', 'Plataea', 'Fu-ch', 'I-chi', 'Foment', 'Po-ts', 'Seeing', 'Translated', '1.E.8', 'Its', 'All', 'King', 'Mission', 'Dispersive', 'Among', 'Library', 'Ssu-ch', 'B.C', 'Gongs', 'Applying', 'STRICT', 'Polybius', 'Rouse', 'History', 'Nelson', 'As', 'Those', 'Forestall', 'Huai-nan', 'Victory', 'First', 'Apologies', 'Nearly', 'INDEMNITY', 'Special', 'Chancellors', 'Liang-chou', 'Shih-hsien', 'Towards', 'Articles', 'Hung', 'Bello', 'Contents', 'Keng', 'Shan-shan', 'Tao-ch', 'Even', '_Shu', 'Or', 'Kao-fan', 'Practice', 'TS', 'Be', '_Method', '_Sui', 'Thermopylae', 'Do', 'Lives', 'Violent', 'Wu-hou', 'DISTRIBUTE', 'Profiting', 'Fu-k', 'Kao', 'Pegasus', 'Mansfield', 'Shui-hsin', 'M.', 'NOT', 'Likewise', 'Follow', 'Turkish', 'Po', 'Cromwell', 'Art', 'Supposing', 'Give', 'Spring', 'Hsin', 'Simulated', 'Longmans', 'Now', 'Corvus', 'My', 'Hsing-yen', 'Tou', 'Yun', 'Ling', 'Professor', 'Legge', 'Ching_', 'Lao', 'Hsin-ch', 'Hoa-yin', 'Points', 'Place', 'World', 'Accustomed', 'Fan', 'Imperial', 'Great', 'Confront', 'Accession', 'Pao', 'Use', '_Yüeh', 'Li', 'Chilly', 'Startled', 'Management', 'Through', 'Romans', 'She', 'Try', 'MARCH', 'Before', 'Bring', 'Still', 'Kuo_', 'I-Chou', 'XXXII', 'Set', 'Turban', 'To', 'Law_', 'Greek', 'Introduce', 'Implied', 'English', 'Tui_', 'Gallico', 'Chuan_', 'Oriental', 'LIN', 'Wylie', 'More', 'May', 'Huai', 'Yet', 'Presence', '22-24', 'VARIATION', 'Tu', 'SITUATIONS', 'Yu_', 'INDIRECT', 'Lure', 'Crater', 'Roman', 'Attack', 'USE', 'Isolating', 'Yu', 'AGREEMENT', 'Draw', 'English-speaking', 'Hoodwink', 'FITNESS', 'Bonaparte', 'Stellar', 'WARRANTY', 'POSSIBILITY', 'HSI', 'Hiding', 'END', 'M.A', 'Nowadays', 'TERRAIN', 'Hsiung-nu', 'DIRECT', 'Department', 'Ou-yang', 'Commander', 'V.', 'Poverty', 'Either', 'Considering', 'Plunge', 'Especially', '_Hsin', 'Lueh_', 'Lai', 'Cho-ku', 'French', 'Knowing', 'HO', 'Bravery', 'Alps—that', 'Shih', 'Garden', 'Chuan', 'Balancing', 'Terror-stricken', 'About', 'XXI', 'Sieve', 'Italy', 'Liang', 'Compare', 'Aids', 'Laying', 'Mississippi', '_Sun', 'Eyes', 'Redistributing', 'Original', 'Completer', 'IX', 'MU', 'Advancing', 'Turkestan', 'Chien…', 'Less', 'Tan.', 'Yüeh', 'Viscount', '_Wu', 'Liu', 'Yo', 'Nota', 'Death', 'What', 'Athenian', 'Grant', 'Huang-shih', 'Shih_', 'Whence', 'By', 'Greeks', 'Terms', 'Mansions', '_Yung', 'Every', '421', 'Sages', 'F.', 'Majesty', 'THIS', 'Somebody', 'Last', 'West', 'October', 'WORLD', 'Ching-chou', 'Danube', 'Variation', 'PUNITIVE', 'Your', 'However', 'AO', 'Fraser', 'Prolegomena', 'Jan', 'Stratagem', '_Wen', 'Commander_', 'ACTUAL', 'Sunzi', 'War_', 'Inasmuch', 'Generals_', 'Chung-wei', 'Section', 'Swoop', 'Unfortunately', 'Peace', 'RIGHT', 'Indeed', 'B.E.F.E.O.', 'R.G', 'Supra', 'Hsing', 'Shen-wu', 'Sedan', 'Net-like', 'Dispositions', 'We', 'Begin', 'Nor', 'Liao', 'Conform', 'Emerge', 'Cunctator', 'In', 'Fighting', 'Hsiao', 'Tactical', 'That', 'REPLACEMENT', 'NO', 'Amiot', 'XV', '_Chung', 'K', 'Books', 'Said', 'Ta_', 'Scouting', 'See', 'GUTENBERG™', 'Hans', 'AND', '1.F.5', 'Knowledge', 'Pan', 'Eastern', 'Corrupt', 'Yellow', 'Tung', 'tomorrow—I', '1.D', 'Then', 'Wall', '_Ch', 'Earth', 'Kou', 'Han_', 'YU', 'She-chu', 'Shu_', 'DAMAGE', 'States', 'XXII', 'LIABILITY', '596-1887', '490', 'Wa', 'Hou', '_Earth_', 'Te-ming', 'Native', 'Clearly', 'Baden-Powell', 'Shih-min', 'Show', 'Tzŭ', '_Hou', 'Her', 'Lord', 'Yuan-hao', 'Kai', 'Three', '1877', 'Hence', 'Taken', 'Bob', 'FOUNDATION', '1.E.4', 'NOTICE', 'R.F.A.', 'Western', 'Mencius', 'Ya', 'Mei', 'Shao', 'Jackson', 'Michael', 'Forty-one', 'Buddhas', 'Critical', 'Sacred', 'Iliad', 'Thucydides', 'Such', 'Huns', 'Never', 'Here', 'Lengthy', 'Calthrop', 'Much', 'Kuan', '_Surviving', 'SHIH', 'Too', 'How', 'Forthwith', 'Tso', 'Creating', 'Numerical', 'This', 'Clamour', 'Court', 'Provisions', 'YAO-CH', 'Etext', 'Central', 'A', 'Chih_', 'Shanghai', 'No', 'Powerful', 'Ta-hsi', 'Huan', 'HAO', 'Catalogue', 'P', 'Vanilla', 'Variations', 'YEN-HSI', 'Please', 'ART', 'Internal', 'PG', 'Opinions', 'ANY', 'Shensi', 'Pet', 'Chapter', 'Captain', 'GUTENBERG', 'MEI', 'Uxbridge', 'Piao', 'Suppose', 'Perhaps', 'Li_', 'Yung_', 'R.F.A', 'An', 'PURPOSE', 'Dictionary', 'Kua', 'Soldiers', 'Sha-yuan', 'Fabian', 'Hsien', 'Judgments', 'Lin', 'He', 'Carthaginian', 'Livy', 'Kahn', 'Don', '1.E.7', 'Talk', 'Chung', 'OLDEST', 'Footnotes', 'Shuo_', 'De', 'EIN', 'Soochow', 'Calamities', 'CHANG', 'Gentlemen', 'Chia', 'EBOOK', 'Any', 'Samuel', 'Another', 'Henderson', 'Pin', 'A.D', '_De', 'II', 'Manœuvring', 'House', 'Security', '_Kuan', 'Yen', 'Replying', 'Attaquez', 'China', 'Tactics', 'Tuan-lin', 'q.v', 'Blucher', 'Tokyo', 'Contributions', 'Ching', 'STRONG', 'Carefully', 'General', 'Morally', 'Hannibals', 'Language', 'Famous', 'Sutton', 'Several', 'Despite', 'Peiwar', 'Questioned', 'SEND', 'Having', 'III', 'So', 'Kuei-ku', 'Wishing', 'Son', 'Shen', 'Tsui-li', 'Amid', '_Li', 'Preface', 'Caspian', 'ENERGY', 'LIMITED', 'Mountain', 'Empire', 'BY', 'Get', '1.F'}\n"
     ]
    }
   ],
   "source": [
    "mdg_diff = set(mdg_fd) - set(mdg_fd_alt)\n",
    "\n",
    "print(mdg_diff)"
   ]
  },
  {
   "cell_type": "markdown",
   "metadata": {},
   "source": [
    "If you ask Python what kind of data structure freq_dist is, you'll get a rather unhelpful response, but look at the output of `mdg_fd.most_common(10)` again (above). What does it look like?"
   ]
  },
  {
   "cell_type": "code",
   "execution_count": 13,
   "metadata": {},
   "outputs": [
    {
     "name": "stdout",
     "output_type": "stream",
     "text": [
      "<class 'nltk.probability.FreqDist'>\n"
     ]
    },
    {
     "ename": "TypeError",
     "evalue": "unhashable type: 'slice'",
     "output_type": "error",
     "traceback": [
      "\u001b[1;31m---------------------------------------------------------------------------\u001b[0m",
      "\u001b[1;31mTypeError\u001b[0m                                 Traceback (most recent call last)",
      "Cell \u001b[1;32mIn[13], line 5\u001b[0m\n\u001b[0;32m      2\u001b[0m \u001b[38;5;28mprint\u001b[39m(\u001b[38;5;28mtype\u001b[39m(mdg_fd))\n\u001b[0;32m      4\u001b[0m \u001b[38;5;66;03m# What's it look like inside?\u001b[39;00m\n\u001b[1;32m----> 5\u001b[0m \u001b[38;5;28;01mfor\u001b[39;00m i \u001b[38;5;129;01min\u001b[39;00m \u001b[43mmdg_fd\u001b[49m\u001b[43m[\u001b[49m\u001b[38;5;241;43m0\u001b[39;49m\u001b[43m:\u001b[49m\u001b[38;5;241;43m5\u001b[39;49m\u001b[43m]\u001b[49m:\n\u001b[0;32m      6\u001b[0m     \u001b[38;5;28mprint\u001b[39m(i)\n",
      "\u001b[1;31mTypeError\u001b[0m: unhashable type: 'slice'"
     ]
    }
   ],
   "source": [
    "# Let's see what kind of data structure this is:\n",
    "print(type(mdg_fd))\n",
    "\n",
    "# What's it look like inside?\n",
    "for i in mdg_fd[0:5]:\n",
    "    print(i)"
   ]
  },
  {
   "cell_type": "code",
   "execution_count": 14,
   "metadata": {},
   "outputs": [
    {
     "name": "stdout",
     "output_type": "stream",
     "text": [
      ", :  3712\n",
      "the :  3485\n",
      ". :  3318\n",
      "of :  2130\n",
      "to :  1692\n",
      "and :  1467\n",
      "in :  1096\n",
      "a :  1008\n",
      "’ :  994\n",
      "is :  963\n"
     ]
    }
   ],
   "source": [
    "# Treating freqdist as a tuple\n",
    "# And using f-strings to make it easy to print our results\n",
    "for word, frequency in mdg_fd.most_common(10):\n",
    "    print(f\"{word} :  {frequency}\")"
   ]
  },
  {
   "cell_type": "code",
   "execution_count": 15,
   "metadata": {},
   "outputs": [
    {
     "name": "stdout",
     "output_type": "stream",
     "text": [
      "(',', 3712), 0\n",
      "('the', 3485), 0\n",
      "('.', 3318), 0\n",
      "('of', 2130), 0\n",
      "('to', 1692), 0\n"
     ]
    }
   ],
   "source": [
    "# The built-in way to do this:\n",
    "# for token in mdg_fd:\n",
    "#    print(token, ',', mdg_fd[token], '\\n')\n",
    "\n",
    "# If you run the above you will get a LOOOONNNG list.\n",
    "# So we are going to go for the shorter version:\n",
    "for token in mdg_fd.most_common(5):\n",
    "    print(f\"{token}, {mdg_fd[token]}\")"
   ]
  },
  {
   "cell_type": "markdown",
   "metadata": {},
   "source": [
    "#The code above exposes functionality we can use, namely `mdg_fd[token]`. Let's try it out with a word we know is in our text."
   ]
  },
  {
   "cell_type": "code",
   "execution_count": 16,
   "metadata": {},
   "outputs": [
    {
     "data": {
      "text/plain": [
       "5"
      ]
     },
     "execution_count": 16,
     "metadata": {},
     "output_type": "execute_result"
    }
   ],
   "source": [
    "#change the word to Victory\n",
    "\n",
    "mdg_fd[\"Victory\"]"
   ]
  },
  {
   "cell_type": "markdown",
   "metadata": {},
   "source": [
    "That suggests that we could develop a list of words (tokens!) in which we are interested and get back their counts."
   ]
  },
  {
   "cell_type": "code",
   "execution_count": 17,
   "metadata": {},
   "outputs": [
    {
     "name": "stdout",
     "output_type": "stream",
     "text": [
      "Victory , 5\n",
      "Victor , 0\n",
      "Victories , 0\n"
     ]
    }
   ],
   "source": [
    "# First, a list of words: I changed this for victory\n",
    "words = [\"Victory\", \"Victor\", \"Victories\"]\n",
    "\n",
    "# Now to try out our functinality:\n",
    "for word in words:\n",
    "    print(word, \",\", mdg_fd[word])"
   ]
  },
  {
   "cell_type": "markdown",
   "metadata": {},
   "source": [
    "This does seem rather repetitive, since we had to include 5 different forms of the same word. There is a way to reduce words to their *lemma*s, and we will explore that a little later in the course."
   ]
  },
  {
   "cell_type": "code",
   "execution_count": 18,
   "metadata": {},
   "outputs": [
    {
     "data": {
      "text/plain": [
       "<Axes: xlabel='Samples', ylabel='Counts'>"
      ]
     },
     "execution_count": 18,
     "metadata": {},
     "output_type": "execute_result"
    },
    {
     "data": {
      "image/png": "[encoded data removed]",
      "text/plain": [
       "<Figure size 640x480 with 1 Axes>"
      ]
     },
     "metadata": {},
     "output_type": "display_data"
    }
   ],
   "source": [
    "# freq_dist comes with a lot of functionality\n",
    "# (See Table 3.1 in Chapter 1 of the NLTK book for more ideas.)\n",
    "mdg_fd.plot()"
   ]
  },
  {
   "cell_type": "markdown",
   "metadata": {},
   "source": [
    "## Creating and Working with an NLTK `Text`"
   ]
  },
  {
   "cell_type": "markdown",
   "metadata": {},
   "source": [
    "You can do more than simply count words, though as we will see over the next few modules there is a lot you can do with frequencies. *A lot.* You can also look at where words occur in a text, both locally and globally. We will start with locals, using something called *Key Word in Context* (aka KWiC), which the NLTK makes available through the `concordance` function."
   ]
  },
  {
   "cell_type": "code",
   "execution_count": 30,
   "metadata": {},
   "outputs": [],
   "source": [
    "# First, we re-create our token list\n",
    "# and we include lowercasing our text\n",
    "# And now testing out word tokenizing:\n",
    "war_tokens = nltk.tokenize.word_tokenize(mdg_string.lower())\n",
    "\n",
    "# Now we create our Text object\n",
    "warSentences = nltk.Text(war_tokens)"
   ]
  },
  {
   "cell_type": "code",
   "execution_count": 31,
   "metadata": {},
   "outputs": [
    {
     "name": "stdout",
     "output_type": "stream",
     "text": [
      "Displaying 25 of 72 matches:\n",
      "y I submit your theory of managing soldiers to a slight test ? '' Sun Tzŭ repl\n",
      "f his orders _are_ clear , and the soldiers nevertheless disobey , then it is \n",
      "enger to the King saying : `` Your soldiers , Sire , are now properly drilled \n",
      "s time onward , a number of famous soldiers arose , one after the other : Kao-\n",
      "hough according to my estimate the soldiers of Yüeh exceed our own in number ,\n",
      " be marching an army , or handling soldiers , or estimating the enemy , or con\n",
      ", and a hundred thousand mail-clad soldiers , [ The `` swift chariots '' were \n",
      "are necessary in order to make the soldiers see the advantage of beating the e\n",
      "njunction with ours . The captured soldiers should be kindly treated and kept \n",
      " This shakes the confidence of the soldiers . [ I follow Mei Yao-ch ’ en here \n",
      "arrived . The analogous quality in soldiers is the highly important one of bei\n",
      "d horses , and only allowed infirm soldiers and emaciated cattle to be seen . \n",
      "al is lacking in capacity , or the soldiers in spirit ; where the walls are no\n",
      "hough according to my estimate the soldiers of Yüeh exceed our own in number ,\n",
      "passage refers particularly to the soldiers of Yüeh who , according to Sun Tzŭ\n",
      "[ Ch ’ en Hao says `` quarter your soldiers on the land , and let them sow and\n",
      "evolutions of as many as a million soldiers will be like those of a single man\n",
      " the battle had begun , one of his soldiers , a man of matchless daring , sall\n",
      " . Now the spirit of the enemy ’ s soldiers will be keenest when they have new\n",
      "o simulates flight ; do not attack soldiers whose temper is keen . 35 . Do not\n",
      " town when the same expenditure of soldiers will gain a province . '' [ 1 ] ] \n",
      "ch exchequer , harmony amongst the soldiers , punctual fulfillment of commands\n",
      "as that the fighting spirit of his soldiers was utterly quenched , and when th\n",
      "t once act for the benefit of your soldiers and utilise the natural advantages\n",
      "enly shoot upwards , it means that soldiers are in ambush at the spot beneath \n"
     ]
    }
   ],
   "source": [
    "mdg_text.concordance(\"soldiers\")"
   ]
  },
  {
   "cell_type": "code",
   "execution_count": 22,
   "metadata": {},
   "outputs": [
    {
     "name": "stdout",
     "output_type": "stream",
     "text": [
      "army men time people passage officers troops forces enemy chinese work\n",
      "they field commentators plans tactics words we end chapters\n"
     ]
    }
   ],
   "source": [
    "mdg_text.similar(\"soldiers\")"
   ]
  },
  {
   "cell_type": "markdown",
   "metadata": {},
   "source": [
    "**Note**: The authors introduce `concordance`, `similar`, `common_context`, `dispersion_plot`, and `generate` in this section. When you get to the dispersion plot, please note that, as the authors warn, you have to have other Python libraries installed for it to work i.e., `matplotlib`). \n",
    "\n",
    "Try moving back and forth between concordance and dispersion to see how much you can narrow in on the meaning of \"The Most Dangerous Game\" through finding the contexts / placement of 4-6 \"key words.\" (Oh how the notion of \"key\" is going to haunt us!)"
   ]
  },
  {
   "cell_type": "code",
   "execution_count": 35,
   "metadata": {},
   "outputs": [
    {
     "name": "stdout",
     "output_type": "stream",
     "text": [
      "Displaying 8 of 8 matches:\n",
      "d states and most other parts of the world at no cost and with almost no restri\n",
      " the oldest military treatise in the world translated from the chinese with int\n",
      "ince it took the start of the second world war to renew interest in his work . \n",
      "fore the _shih chi_ was given to the world . liu hsiang ( 80-9 b.c . ) says : `\n",
      " greatest military geniuses that the world has seen , and napoleonic in the sca\n",
      "s approbation for things that '' the world ’ s coarse thumb and finger fail to \n",
      "es that have not come to light , the world as large knows nothing of them , and\n",
      "d states and most other parts of the world at no cost and with almost no restri\n"
     ]
    }
   ],
   "source": [
    "warSentences.concordance(\"world\")"
   ]
  },
  {
   "cell_type": "code",
   "execution_count": 37,
   "metadata": {},
   "outputs": [
    {
     "name": "stdout",
     "output_type": "stream",
     "text": [
      "be use make victory fight the on defeat enemy defend of it give\n",
      "chinese march words him people ch them\n"
     ]
    }
   ],
   "source": [
    "warSentences.similar(\"attack\")"
   ]
  },
  {
   "cell_type": "code",
   "execution_count": 38,
   "metadata": {},
   "outputs": [
    {
     "data": {
      "image/png": "[encoded data removed]",
      "text/plain": [
       "<Figure size 640x480 with 1 Axes>"
      ]
     },
     "metadata": {},
     "output_type": "display_data"
    }
   ],
   "source": [
    "warSentences.dispersion_plot([\"Victory\", \"fight\", \"gun\"])"
   ]
  },
  {
   "cell_type": "code",
   "execution_count": 40,
   "metadata": {},
   "outputs": [
    {
     "data": {
      "image/png": "[encoded data removed]",
      "text/plain": [
       "<Figure size 640x480 with 1 Axes>"
      ]
     },
     "metadata": {},
     "output_type": "display_data"
    }
   ],
   "source": [
    "# We can also create our list in advance:\n",
    "characters = [\"Yao\", \"Yu-Chang\", \"Joseph\", \"Wang\"]\n",
    "\n",
    "# And then feed the list to the function:\n",
    "warSentences.dispersion_plot(characters)"
   ]
  },
  {
   "cell_type": "markdown",
   "metadata": {},
   "source": [
    "So, it would appear that the nltk.Text knows something about the contexts within which words occur. That is, it has some sense of what words go with other words: that is how it calcuate similarity and common contexts. Does that mean we can also use that \"knowledge\" generatively?"
   ]
  },
  {
   "cell_type": "code",
   "execution_count": 41,
   "metadata": {},
   "outputs": [
    {
     "name": "stderr",
     "output_type": "stream",
     "text": [
      "Building ngram index...\n"
     ]
    },
    {
     "name": "stdout",
     "output_type": "stream",
     "text": [
      "interesting , perhaps , but only mentions five , namely : `` Abide not\n",
      "in existence , a spirit of sympathetic cooperation . , secretly spying\n",
      "out our weaknesses and overhearing our instructions . '' achieved by\n",
      "man , his account would be divided amongst your men have any regular\n",
      "routine . '' 26 . then he will weaken his right ; should he strengthen\n",
      "his van ; should he strengthen his van , he might escape , actually\n",
      "made a deep and lasting impression on all sides , and took care that\n",
      "they are at once set off with\n"
     ]
    },
    {
     "data": {
      "text/plain": [
       "\"interesting , perhaps , but only mentions five , namely : `` Abide not\\nin existence , a spirit of sympathetic cooperation . , secretly spying\\nout our weaknesses and overhearing our instructions . '' achieved by\\nman , his account would be divided amongst your men have any regular\\nroutine . '' 26 . then he will weaken his right ; should he strengthen\\nhis van ; should he strengthen his van , he might escape , actually\\nmade a deep and lasting impression on all sides , and took care that\\nthey are at once set off with\""
      ]
     },
     "execution_count": 41,
     "metadata": {},
     "output_type": "execute_result"
    }
   ],
   "source": [
    "mdg_text.generate()"
   ]
  },
  {
   "cell_type": "markdown",
   "metadata": {
    "jp-MarkdownHeadingCollapsed": true
   },
   "source": [
    "## Comparing Texts"
   ]
  },
  {
   "cell_type": "code",
   "execution_count": null,
   "metadata": {},
   "outputs": [],
   "source": []
  },
  {
   "cell_type": "code",
   "execution_count": null,
   "metadata": {},
   "outputs": [],
   "source": []
  },
  {
   "cell_type": "markdown",
   "metadata": {},
   "source": [
    "Hold for now."
   ]
  },
  {
   "cell_type": "code",
   "execution_count": null,
   "metadata": {
    "editable": true,
    "slideshow": {
     "slide_type": "fragment"
    },
    "tags": []
   },
   "outputs": [],
   "source": [
    "# Create a list of substrings, aka words\n",
    "mdg_tokens = nltk.tokenize.word_tokenize(mdg_string.lower())\n",
    "\n",
    "# Create the NLTK Text object\n",
    "mdgText = nltk.Text(mdg_words)\n",
    "\n",
    "# Repeat the 3 steps for \"Heart of Darkness\"\n",
    "with open(\"../data/hod.txt\", mode=\"r\") as f:\n",
    "    hod_string = f.read()\n",
    "    \n",
    "hod_words = nltk.tokenize.word_tokenize(hod_string.lower())\n",
    "\n",
    "hodText = nltk.Text(hod_words)\n",
    "\n",
    "# Check our output and compare lengths\n",
    "print(len(mdg), len(hod))"
   ]
  },
  {
   "cell_type": "markdown",
   "metadata": {},
   "source": [
    "We have a long-ish short story of almost ten thousand words, and short-ish novel of forty-six thousand words. How can we go about comparing them? \n",
    "\n",
    "One place to start is to get a sense of the total number of unique words. For that we are going to use Python `set()` function."
   ]
  },
  {
   "cell_type": "code",
   "execution_count": null,
   "metadata": {},
   "outputs": [],
   "source": [
    "# This is a long list:\n",
    "print(len(set(mdg)), len(set(hod)))"
   ]
  },
  {
   "cell_type": "markdown",
   "metadata": {},
   "source": [
    "If we do the math, _Heart of Darkness_, which is four and a half time longer than \"The Most Dangerous Game,\" only uses three times the number of words. Interesting. Let's store that information away for further exploration. "
   ]
  },
  {
   "cell_type": "code",
   "execution_count": null,
   "metadata": {},
   "outputs": [],
   "source": [
    "def lex_div (text):\n",
    "    lexdiv =len(set(text)) / len(text)\n",
    "    return lexdiv\n"
   ]
  },
  {
   "cell_type": "code",
   "execution_count": null,
   "metadata": {},
   "outputs": [],
   "source": [
    "lex_div(mdg)"
   ]
  },
  {
   "cell_type": "code",
   "execution_count": null,
   "metadata": {},
   "outputs": [],
   "source": [
    "lex_div(hod)"
   ]
  },
  {
   "cell_type": "code",
   "execution_count": null,
   "metadata": {},
   "outputs": [],
   "source": [
    "len(set(hod))/len(set(mdg))"
   ]
  }
 ],
 "metadata": {
  "kernelspec": {
   "display_name": "Python 3 (ipykernel)",
   "language": "python",
   "name": "python3"
  },
  "language_info": {
   "codemirror_mode": {
    "name": "ipython",
    "version": 3
   },
   "file_extension": ".py",
   "mimetype": "text/x-python",
   "name": "python",
   "nbconvert_exporter": "python",
   "pygments_lexer": "ipython3",
   "version": "3.10.16"
  }
 },
 "nbformat": 4,
 "nbformat_minor": 4
}
