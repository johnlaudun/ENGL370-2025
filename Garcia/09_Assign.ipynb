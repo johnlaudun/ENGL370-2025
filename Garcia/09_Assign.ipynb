{
 "cells": [
  {
   "cell_type": "markdown",
   "id": "a878311b-d009-4903-abe8-694b7e73d05f",
   "metadata": {},
   "source": [
    "<h2>First i imported all necessary libraries. Then i found my ghostbusters text to tokenize. I tokenized the ghostbusters text by strings. \n",
    "Next i divided the strings into categories of the English language. Such as Adjectives, nouns, pronouns, etc. Next I gathered all the screenplays in my comedies folder and then \n",
    "divided each word into a table with their English category next to them.</h2>"
   ]
  },
  {
   "cell_type": "code",
   "execution_count": 15,
   "id": "50f0eb4d-f97a-4e04-acc9-32e18d53e783",
   "metadata": {},
   "outputs": [],
   "source": [
    "# IMPORTS\n",
    "import re\n",
    "import nltk\n",
    "from pathlib import Path N ext \n",
    "\n",
    "# CUSTOM TOKENIZER \n",
    "# This function takes a string and returns a list of tokens\n",
    "# QUIZ COMMENT: Could this function be improved?\n",
    "def tknize (a_string):\n",
    "    words = re.sub('[^a-zA-Z \\.]', ' ', a_string).split()\n",
    "    return words\n",
    "\n",
    "# TEST DATA\n",
    "##with open(\"../data/mdg.txt\", mode=\"r\", encoding=\"utf-8\") as f:\n",
    "##    mdg = f.read()\n",
    "\n",
    "# SINGLE TEXT\n",
    "with open(\"C:/Users/alex/code/ENGL370-2025/ENGL370-2025/Garcia/Data/Comedy/ghostbusters.txt\", mode=\"r\", encoding=\"utf-8\") as f:\n",
    "    ghost = f.read()"
   ]
  },
  {
   "cell_type": "code",
   "execution_count": 16,
   "id": "658fabcb-80e1-4cc8-b119-938c592baa2f",
   "metadata": {},
   "outputs": [
    {
     "name": "stdout",
     "output_type": "stream",
     "text": [
      "['THE', 'REAL', 'GHOSTBUSTERS', 'Poultrygeist', 'by']\n"
     ]
    }
   ],
   "source": [
    "# Test our tokenizer\n",
    "ghost = tknize(ghost)\n",
    "print(ghost[0:5])"
   ]
  },
  {
   "cell_type": "code",
   "execution_count": 17,
   "id": "e6bb86a7-e21a-4fcf-a5a5-bf9ffc7ce2db",
   "metadata": {},
   "outputs": [
    {
     "data": {
      "text/plain": [
       "[('THE', 'DT'),\n",
       " ('REAL', 'NNP'),\n",
       " ('GHOSTBUSTERS', 'NNP'),\n",
       " ('Poultrygeist', 'NNP'),\n",
       " ('by', 'IN'),\n",
       " ('Duane', 'NNP'),\n",
       " ('Capizzi', 'NNP'),\n",
       " ('and', 'CC'),\n",
       " ('Steven', 'NNP'),\n",
       " ('Roberts', 'NNP')]"
      ]
     },
     "execution_count": 17,
     "metadata": {},
     "output_type": "execute_result"
    }
   ],
   "source": [
    "# mdg_ is our cleaned list of tokens which keeps only periods.\n",
    "ghost_tagged = nltk.pos_tag(ghost)\n",
    "ghost_tagged[0:10]"
   ]
  },
  {
   "cell_type": "code",
   "execution_count": 18,
   "id": "a5fc9c4c-7f47-4f29-b64f-c9f1554a124d",
   "metadata": {},
   "outputs": [
    {
     "name": "stdout",
     "output_type": "stream",
     "text": [
      "Last\n",
      "dirt\n",
      "numerous\n"
     ]
    }
   ],
   "source": [
    "for t in ghost_tagged[0:100]:\n",
    "    if t[1] == 'JJ':\n",
    "        print(t[0])"
   ]
  },
  {
   "cell_type": "code",
   "execution_count": 19,
   "id": "54a6a156-8b7e-4410-9f6e-58378db7d0fe",
   "metadata": {},
   "outputs": [
    {
     "name": "stdout",
     "output_type": "stream",
     "text": [
      "['REAL', 'GHOSTBUSTERS', 'Poultrygeist', 'Duane', 'Capizzi', 'Steven', 'Roberts', 'May', 'ACT', 'ONE', 'FADE', 'IN', 'EXT.', 'A', 'FARMHOUSE', 'OUTSIDE', 'NEW', 'YORK', 'CITY', 'NIGHT', 'CHICKEN', 'SHAPED', 'WEATHERVANE', 'FULL', 'BLOOD', 'RED', 'MOON.', 'HOWLS', 'EERIE', 'SQUEAK.', 'ANIMAL', 'CRY', 'HOWLING.', 'WERECHICKEN', 'VO', 'A', 'CROWING', 'HOWL', 'CAMERA', 'PANS', 'DOWN', 'TO', 'CHICKEN', 'PEN', 'A', 'CHICKENS', 'CLUCKING', 'WERECHICKEN', 'VO', 'ANOTHER', 'HOWL', 'WERECHICKEN', 'S', 'POV', 'MOVING', 'A', 'RED', 'MOVING', 'CAMERA', 'TRUCK', 'IN', 'POV', 'SHOTS', 'WOLFEN.', 'Magnified', 'GURGLING', 'HEAVY', 'BREATHING', 'Werechicken', 'WERECHICKEN', 'VO', 'GURGLING', 'HEAVY', 'BREATHING', 'INTO', 'CAMERA', 'Werechicken', 'SQUAWKING', 'INT.', 'FARMHOUSE', 'LIVING', 'ROOM', 'NIGHT', 'MAUDE', 'ZEKE', 'CHICKENS', 'SQUAWKING.', 'ZEKE', 'Sump', 'Maude.', 'MAUDE', 'Jes', 'Zeke.', 'Zeke', 'TV.', 'EXT.', 'FARMHOUSE', 'NIGHT', 'WERECHICKEN', 'S', 'POV', 'Werechicken', 'Maude', 'CAMERA', 'STARTS', 'MOVING', 'IN', 'Maude', 'WERECHICKEN', 'VO', 'GURGLING', 'HEAVY', 'BREATHING', 'ANGLE', 'WITHIN', 'CHICKEN', 'PEN', 'Maude', 'MAUDE', 'INT.', 'CHICKEN', 'COOP', 'OTS', 'MAUDE', 'AS', 'Maude', 'ENTERS', 'OUT', 'OF', 'CAMERA', 'CLUCK', 'MAUDE', 'Werechicken', 'Maude', 'WERECHICKEN', 'VO', 'Low', 'CLU', 'UCK', 'Maude', 'AT', 'CAMERA', 'MAUDE', 'GASP', 'MAUDE', 'S', 'POV', 'THE', 'WERECHICKEN', 'Red', 'SHRIEK', 'AT', 'CAMERA', 'WERECHICKEN', 'Frightening', 'SHRIEK', 'INT.', 'FARMHOUSE', 'LIVING', 'ROOM', 'CLOSE', 'ON', 'Old', 'MELODRAMATIC', 'MUSIC', 'HOWL', 'Werechicken', 'SHRIEK.', 'TV', 'WEREWOLF', 'HOWL', 'WIDER', 'ANGLE', 'ZEKE', 'Maude', 'ZEKE', 'Everythin', 'Maude', 'WAIST', 'SHOT', 'MAUDE', 'CLUCKS', 'MAUDE', 'CHICKEN', 'CLUCKS', 'ZEKE', 'VO', 'PAN', 'DOWN', 'Maude', 'First', 'RIP', 'SWELLS', 'SPLITS', 'MAUDE', 'CHICKEN', 'VO', 'CLUCKS', 'WIDER', 'ANGLE', 'FULLSHOT', 'OF', 'MAUDE', 'CHICKEN', 'THRUSTING', 'Zeke', 'Zeke', 'Werechicken.', 'Werechicken', 'Zeke', 'ZEKE', 'SCREAMS', 'EXT.', 'FARMHOUSE', 'NIGHT', 'WERECHICKEN', 'S', 'POV', 'SCENE', 'RED', 'ZEKE', 'VO', 'YELLING', 'Get', 'Scat', 'Shoo', 'MAUDE', 'CHICKEN', 'VO', 'SQUAWKING', 'CLOSE', 'ANGLE', 'WERECHICKEN', 'Watching', 'ZEKE', 'VO', 'CUT', 'TO', 'EXT.', 'ESTABLISHING', 'GHOSTBUSTERS', 'HQ', 'NIGHT', 'CAMERA', 'MOVES', 'IN', 'PETER', 'VO', 'Egon', 'DISSOLVE', 'THRU', 'TO', 'INT.', 'LABORATORY', 'ON', 'PETER', 'AND', 'RAY', 'O.S.', 'Egon.', 'Ray', 'SLIMER', 'PETER', 'CONT', 'Your', 'RAY', 'Winston', 'ANGLE', 'ON', 'EGON', 'WEATHER', 'BALLOON', 'EGON', 'Be', 'ANOTHER', 'ANGLE', 'Peter', 'Ray', 'Peter', 'Ray', 'PAN', 'WITH', 'THEM', 'Egon', 'INTO', 'FRAME.', 'PETER', 'AND', 'RAY', 'AD', 'LIB', 'REACTIONS', 'NEW', 'ANGLE', 'Peter', 'Slimer', 'SQUEALS', 'SLIMER', 'VO', 'SQUEAL', 'Frisbee.', 'SLIMER', 'Peter.', 'PETER', 'Thanks', 'Slimer.', 'SLIMER', 'Sorreee', 'ANOTHER', 'ANGLE', 'Ray', 'Peter', 'RINGS', 'RINGS.', 'RAY', 'Egon', 'ON', 'EGON', 'RINGING', 'EGON', 'Ray.', 'ANGLE', 'ON', 'WINSTON', 'WINSTON', 'Nevermind', 'Egon', 'Ghostbusters', 'Central.', 'VOICE', 'OVER', 'PHONE', 'CHATTER', 'WINSTON', 'Calm', 'BEAT', 'WIDER', 'ANGLE', 'Peter', 'Ray', 'Slimer', 'WINSTON', 'Ready', 'PETER', 'Hey', 'Egon', 'Let', 'Ray', 'Slimer', 'EXIT', 'Peter', 'Winston.', 'REAR', 'VIEW', 'ON', 'EGON', 'EGON', 'Watch', 'BEAT', 'Guys', 'WIPE', 'TO', 'EXT.', 'COUNTRY', 'ROAD', 'ESTABLISHING', 'NIGHT', 'ECTO', 'INTO', 'CAMERA', 'INT.', 'ECTO', 'MOVING', 'Ghostbusters', 'Egon', 'Slimer', 'RAY', 'Egon', 'PETER', 'ON', 'WINSTON', 'Driving.', 'WINSTON', 'ON', 'PETER', 'Arms', 'PETER', 'Good.', 'EXT.', 'ECTO', 'NIGHT', 'OUT', 'OF', 'CAMERA', 'PAN', 'OVER', 'TO', 'Maude', 'Chicken', 'IN', 'TO', 'CLOSER', 'ANGLE', 'ON', 'MAUDE', 'CHICKEN', 'Her', 'MAUDE', 'CHICKEN', 'Egg', 'CLUCKS', 'Maude', 'SQUAWKS', 'CLUCKS', 'MAUDE', 'CHICKEN', 'SQUAWKS', 'CLUCKS', 'CUT', 'TO', 'INT.', 'FARMHOUSE', 'LIVING', 'ROOM', 'NIGHT', 'Ray', 'Winston', 'Slimer', 'Zeke', 'Peter', 'ZEKE', 'Had', 'Biggest', 'Mebbe', 'Peter', 'WINSTON', 'Shouldn', 'RAY', 'RAY', 'Did', 'ANOTHER', 'ANGLE', 'PETER', 'Ray', 'Peter', 'Ray', 'PETER', 'CONT', 'Thank', 'EXT.', 'FARMHOUSE', 'NIGHT', 'Slimer', 'Ecto', 'PETER', 'Old', 'Zeke', 'CLOSER', 'ANGLE', 'MOVING', 'RAY', 'No', 'Peter', 'CLOSER', 'ANGLE', 'Peter', 'Winston', 'Ray', 'WINSTON', 'A', 'PETER', 'Get', 'Ray.', 'RAY', 'Ray', 'Peter', 'Winston', 'Slimer', 'THEIR', 'POV', 'Peter', 'SMASH', 'CUT', 'TO', 'EXT.', 'OPEN', 'FIELD', 'NIGHT', 'Maude', 'Slimer', 'SLIMER', 'SNIFFS', 'ANGLE', 'ON', 'SLIMER', 'BONK', 'SLIMER', 'VO', 'Ow', 'Slimer', 'INTO', 'SHOT', 'SLIMER', 'GASP', 'LOW', 'ANGLE', 'ON', 'GIANT', 'EGG', 'Ghostbusters', 'ENTER', 'SHOT', 'RAY', 'Peter', 'A', 'Gimme', 'Winston', 'WIDER', 'ANGLE', 'Ray', 'Winston', 'Peter', 'PETER', 'Look', 'CLOSER', 'ANGLE', 'METER', 'Nothing', 'PETER', 'CONT', '...how', 'PKE', 'THREESHOT', 'Ray', 'Winston', 'RAY', 'Peter', 'WINSTON', 'Let', 'Headquarters', 'ON', 'RAY', 'RAY', 'Oh', 'ON', 'PETER', 'AND', 'SLIMER', 'PETER', 'SIGH', 'C', 'Slimer.', 'Ray', 'Winston', 'Ecto', 'PETER', 'CONT', 'Werechickens.', 'WERECHICKEN', 'S', 'POV', 'EYES', 'Peter', 'Slimer', 'Ray', 'Winston', 'WERECHICKEN', 'VO', 'BREATHING', 'SLOBBERING', 'SMASH', 'CUT', 'TO', 'INT.', 'GHOSTBUSTERS', 'HQ', 'LAB', 'NIGHT', 'Egon', 'Peter', 'Slimer', 'PETER', 'Yo', 'ANOTHER', 'ANGLE', 'Egon', 'EGON', 'Interesting.', 'Peter', 'Slimer', 'Egon', 'PETER', 'Egon.', 'Peter', 'EXITS', 'Slimer', 'ZIPS', 'Egon', 'Egon', 'Egon', 'CAMERA', 'MOVES', 'IN', 'MATCH', 'DISSOLVE', 'TO', 'EXT.', 'FULL', 'MOON', 'IN', 'COUNTRY', 'SKY', 'NIGHT', 'CAMERA', 'PANS', 'DOWN', 'Ray', 'Winston', 'WINSTON', 'Ray', 'RAY', 'Shh', 'CLOSER', 'ANGLE', 'Ray', 'PKE', 'BEEPS', 'RAY', 'WINSTON', 'INT.', 'BARN', 'HIGH', 'ANGLE', 'ON', 'MAIN', 'DOOR', 'WERECHICKEN', 'S', 'POV', 'EYES', 'CREAK', 'Ray', 'Winston', 'CLOSER', 'ANGLE', 'RAY', 'AND', 'WINSTON', 'Ray', 'WOOD', 'CREAKS', 'HAY', 'RUSTLES', 'JUNKY', 'SQUEAL.', 'WINSTON', 'WHISPER', 'Man', 'RAY', 'WHISPER', 'ANOTHER', 'ANGLE', 'SLAMS', 'FLAP', 'OF', 'BEATING', 'WINGS', 'SCURRIES', 'Winston', 'JUMPS.', 'WINSTON', 'Look', 'Ray', 'WHISTLING.', 'REACTION', 'SHOT', 'RAY', 'AND', 'WINSTON', 'RAY', 'WINSTON', 'SIGHS', 'WERECHICKEN', 'S', 'POV', 'RED', 'TINTED', 'Ray', 'Winston', 'WERECHICKEN', 'VO', 'HEAVY', 'BREATHING', 'CLOSE', 'ON', 'RAY', 'AND', 'WINSTON', 'PKE', 'BEEPING.', 'Ray', 'RAY', 'Something', 'Very', 'WERECHICKEN', 'S', 'POV', 'Closing', 'Ray', 'Winston.', 'WERECHICKEN', 'VO', 'HEAVY', 'BREATHING', 'THEIR', 'POV', 'ON', 'WERECHICKEN', 'WERECHICKEN', 'HEAVY', 'RASPY', 'BREATHING', 'ZOOM', 'BACK', 'TO', 'WIDER', 'ANGLE', 'ON', 'WERECHICKEN', 'CAMERA.', 'WERECHICKEN', 'CONT', 'HEAVY', 'PANTING', 'RAY', 'VO', 'ANGLE', 'ON', 'RAY', 'WINSTON', 'Backing', 'WINSTON', 'ANGLE', 'ON', 'WERECHICKEN', 'WERECHICKEN', 'ROARS', 'ON', 'RAY', 'WINSTON', 'RAY', 'Bad', 'Winston.', 'THE', 'WERECHICKEN', 'AT', 'CAMERA.', 'WERECHICKEN', 'SHRIEKING', 'SQUAWK', 'WERECHICKEN', 'S', 'POV', 'ZOOM', 'IN', 'Winston', 'Ray.', 'FULL', 'SHOT', 'Werechicken', 'mid', 'Ray', 'Winston', 'WERECHICKEN', 'SHRIEKS', 'A', 'HIDEOUS', 'SPIRIT', 'ROAR', 'Werechicken', 'SPIRIT', 'ROAR', 'CLOSER', 'ANGLE', 'Ray', 'POPS', 'RAY', 'Trap', 'ANOTHER', 'ANGLE', 'Ray', 'Winston', 'Spirit', 'Spirit', 'WINSTON', 'Hang', 'RAY', 'CLOSE', 'ON', 'TRAP', 'Spirit', 'SLAMS', 'WIDER', 'ANGLE', 'RAY', 'AND', 'WINSTON', 'A', 'Werechicken', 'CLUCKS', 'CHICKEN', 'Normal', 'CLUCKING', 'RAY', 'Well', 'CLOSER', 'ON', 'THE', 'GUYS', 'Ray', 'RAY', 'CONT', 'Zeke', 'Winston', 'WINSTON', 'Ray', 'Ray', 'Winston.', 'WINSTON', 'CONT', 'Zeke', 'CUT', 'TO', 'INT.', 'GHOSTBUSTERS', 'HQ', 'KITCHEN', 'NIGHT', 'Egon', 'Slimer', 'EGON', 'Slimer', 'ANOTHER', 'ANGLE', 'Egon', 'EGON', 'CONT', 'SLIMER', 'Yeah.', 'Egon', 'SLIMER', 'YAWN', 'G', 'Egon.', 'Slimer', 'EGON', 'Goodnight', 'Slimer.', 'WIPE', 'TO', 'INT.', 'BEDROOM', 'Slimer', 'SNORING', 'Peter', 'SLIMER', 'SNORING', 'CLOSE', 'ON', 'SLIMER', 'BUBBLE', 'DREAM', 'SINGING', 'Los', 'Lobos', 'LA', 'BAMBA', 'California', 'Raisins', 'Grapevine.', 'Slimer', 'CHOMP', 'EXPLODES', 'Slimer', 'SLIMER', 'Fooooood.', 'INT.', 'KITCHEN', 'Dark.', 'Lights', 'Slimer', 'SKIDS', 'SLIMER', 'Yummy', 'Slimer', 'Slimer', 'SLIMER', 'SQUEALS', 'GRUNTS', 'ANGLE', 'ON', 'OVEN', 'Slimer', 'O.S.', 'ON', 'SLIMER', 'Slimer', 'HUMS', 'SLIMER', 'HUMMING', 'ANGLE', 'ON', 'OVEN', 'RESUME', 'ON', 'SLIMER', 'Hovering', 'SLIMER', 'BANG', 'Out', 'BABY', 'WERECHICKEN', 'SNARLING', 'CACKLING.', 'BABY', 'WERECHICKEN', 'SNARLING', 'CACKLING', 'ON', 'SLIMER', 'SLIMER', 'SCREAM', 'Slimer', 'INT.', 'SHOWER', 'Peter', 'PETER', 'AD', 'LIB', 'SINGING', 'Slimer', 'Peter', 'PETER', 'YELL', 'Slimer', 'How', 'SLIMER', 'Monster', 'Inna', 'PETER', 'Monster', 'SLIMER', 'Uh', 'Uh', 'SNARLING', 'CACKLING', 'INT.', 'LAB', 'Egon', 'Werechicken', 'CLOSER', 'ANGLE', 'REAR', 'VIEW', 'ON', 'EGON', 'Werechicken', 'OUT', 'OF', 'CAMERA', 'Egon', 'CLATTERING', 'EGON', 'Ow', 'BABY', 'WERECHICKEN', 'VO', 'CACKLING', 'ON', 'EGON', 'Dazed', 'CLOSE', 'ON', 'EGON', 'S', 'SHOES', 'Chicken', 'EGON', 'VO', 'CLOSE', 'SHOTS', 'Egon', 'RIP', 'EGON', 'CHICKEN', 'Weird', 'CLUCK', 'SMASH', 'CUT', 'TO', 'INT.', 'HALL', 'OUTSIDE', 'LAB', 'NIGHT', 'Peter', 'Slimer', 'INT.', 'LAB', 'Peter', 'Slimer', 'Egon', 'PETER', 'CALLS', 'Egon', 'Slimer', 'Well', 'Slimer', 'Egon', 'Chicken', 'Peter', 'Slimer.', 'EGON', 'CHICKEN', 'CHICKEN', 'HOWL', 'ANOTHER', 'ANGLE', 'Slimer', 'SLIMER', 'SQUEALS', 'PETER', 'Holy', 'Peter', 'CLOSE', 'ON', 'EGON', 'CHICKEN', 'GROWLS', 'EGON', 'CHICKEN', 'LOUD', 'GROWL', 'END', 'ACT', 'ONE', 'ACT', 'TWO', 'INT.', 'GHOSTBUSTERS', 'LAB', 'NIGHT', 'Egon', 'Werechicken', 'Peter', 'EGON', 'CHICKEN', 'SNARLING', 'PETER', 'Egon', 'Chicken', 'SNAPS', 'HUMS', 'PETER', 'RAY', 'VO', 'Peter', 'Wait', 'A', 'Peter', 'PETER', 'Hey', 'INT.', 'CORRIDOR', 'OUTSIDE', 'LAB', 'Ray', 'Peter', 'Winston', 'Egon', 'Chicken', 'Slimer', 'EGON', 'CHICKEN', 'VO', 'SNARLS', 'CLOSE', 'ANGLE', 'SHAKES', 'SHUDDERS', 'Egon', 'Chicken', 'PETER', 'Egon', 'RAY', 'Peter', 'Egon', 'Egon', 'Chicken.', 'PETER', 'BEAT', 'Come', 'WINSTON', 'ON', 'RAY', 'Looking', 'RAY', 'ANOTHER', 'ANGLE', 'Ray', 'Beyond', 'Peter', 'Winston', 'Slimer', 'RAY', 'CONT', 'Tonight', 'CLOSE', 'ON', 'MOON', 'RAY', 'VO', 'CONT', 'ON', 'GHOSTBUSTERS', 'AND', 'SLIMER', 'All', 'PETER', 'Ray', 'Egon', 'RAY', 'Werechickens', 'INT.', 'LAB', 'ON', 'DOOR', 'Door', 'Ray', 'RAY', 'Egon', 'ANGLE', 'ON', 'EGON', 'Seen', 'Ray.', 'EGON', 'Ray', 'WIDER', 'ANGLE', 'Egon', 'EGON', 'CONT', 'Slimer', 'INTO', 'SHOT', 'Egon', 'SLIMER', 'Egon', 'KISSING', 'SOUNDS', 'ON', 'PETER', 'AND', 'WINSTON', 'PETER', 'Sit', 'Egon', 'EGON', 'Bad', 'WINSTON', 'ON', 'EGON', 'EGON', 'A', 'ON', 'RAY', 'TOBIN', 'SPIRIT', 'GUIDE.', 'RAY', 'Were', 'Egon', 'That', 'Peter', 'ON', 'EGON', 'EGON', 'How', 'ON', 'RAY', 'WINSTON', 'PETER', 'Looking', 'Tobin', 'Guide.', 'RAY', 'Tobin', 'Guide', 'INT.', 'FIREHOUSE', 'KITCHEN', 'Slimer', 'Winston', 'Ray', 'Tobin', 'Guide.', 'RAY', 'ANGLE', 'ON', 'WINDOW', 'INT.', 'LAB', 'ANGLE', 'ON', 'EGON', 'EGON', 'Peter', 'INTO', 'SHOT', 'Egon', 'PETER', 'Take', 'Egon.', 'SHOUTS', 'O.S.', 'Hurry', 'INT.', 'KITCHEN', 'ON', 'WINSTON', 'AND', 'RAY', 'RAY', 'ON', 'SLIMER', 'Ray.', 'SLIMER', 'No', 'ANOTHER', 'ANGLE', 'Ray', 'RAY', 'C', 'Slimer', 'INT.', 'LAB', 'CLOSE', 'ON', 'EGON', 'S', 'LEGS', 'Toes', 'PETER', 'VO', 'YELLS', 'Come', 'Ray', 'WIDER', 'ANGLE', 'Peter', 'Egon', 'PETER', 'CONT', 'YELLS', 'Ray', 'Slimer', 'Winston', 'INTO', 'SHOT.', 'RAY', 'Quick', 'Egon', 'Winston', 'Egon', 'EGON', 'GULPING', 'Egon', 'WINSTON', 'CLOSER', 'EGON', 'DRAMATIC', 'MUSIC', 'STOPS', 'ON', 'PETER', 'RAY', 'WINSTON', 'AND', 'SLIMER', 'BEAT', 'PETER', 'WIDER', 'ANGLE', 'Egon', 'Egon', 'RAY', 'PETER', 'Well', 'EGON', 'Don', 'Peter.', 'BABY', 'WERECHICKEN', 'VO', 'HOWL', 'CLOSER', 'ANGLE', 'Strands', 'Slimer', 'Egon', 'SLIMER', 'SQUEALS', 'ON', 'RAY', 'AND', 'WINSTON', 'WINSTON', 'RAY', 'ANOTHER', 'ANGLE', 'PETER', 'Egon', 'Un', 'Ghostbusters', 'SMASH', 'CUT', 'TO', 'EXT.', 'AERIAL', 'VIEW', 'MANHATTAN', 'NIGHT', 'ECTO', 'INT.', 'ECTO', 'MOVING', 'Peter', 'Slimer', 'PETER', 'INT.', 'ECTO', 'MOVING', 'Winston', 'Ray', 'RAY', 'WINSTON', 'Ray', 'No', 'EXT.', 'SUPERMARKET', 'NIGHT', 'Several', 'SCREAMING', 'ECTO', 'PEOPLE', 'SCREAMING', 'INT.', 'ECTO', 'MOVING', 'Winston', 'Ray', 'WINSTON', 'Winston', 'EXT.', 'ECTO', 'SCREECHING', 'U', 'EXT.', 'SUPERMARKET', 'Ecto', 'SKIDS', 'Ray', 'Winston', 'INT.', 'SUPERMARKET', 'Ray', 'BOX', 'BOY', 'BOX', 'BOY', 'A', 'CLOSER', 'ANGLE', 'Ray', 'Winston', 'WINSTON', 'Ten', 'BOX', 'BOY', 'RAY', 'Winston', 'Let', 'ON', 'RAY', 'PAN', 'WITH', 'Winston', 'ANOTHER', 'ANGLE', 'No', 'Ray', 'Winston.', 'WINSTON', 'How', 'BUTCHER', 'VO', 'SCREAM', 'RAY', 'Come', 'INT.', 'MEAT', 'DEPT.', 'ON', 'BUTCHER', 'Ray', 'Winston', 'INTO', 'SHOT.', 'Butcher', 'BUTCHER', 'A', 'CLOSER', 'ANGLE', 'WINSTON', 'Thirty', 'ANOTHER', 'ANGLE', 'Butcher', 'Beyond', 'BUTCHER', 'CONT', 'Yeah', 'Look', 'Ray', 'Winston', 'EXT.', 'INDUSTRIAL', 'DISTRICT', 'WIDE', 'ON', 'ECTO', 'FLYING', 'NIGHT', 'PETER', 'VO', 'Okay', 'Ray', 'INT.', 'ECTO', 'MOVING', 'Peter', 'Slimer', 'PETER', 'CONT', '...but', 'SLIMER', 'LAUGHTER', 'FIZZING', 'How', 'Werechicken', 'INTO', 'SHOT', 'Ray', 'Slimer.', 'SLIMER', 'SCREAMS', 'WERECHICKEN', 'HOWL', 'ECTO', 'Peter', 'WIDER', 'ON', 'ECTO', 'Werechicken', 'SNAPS', 'Ecto', 'INT.', 'ECTO', 'MOVING', 'Peter', 'Slimer', 'Jell', 'O.', 'PETER', 'Ray', 'INT.', 'ECTO', 'NIGHT', 'MOVING', 'RAY', 'Peter.', 'Winston', 'Ray', 'INTO', 'CAMERA.', 'INT.', 'BUNKROOM', 'GHOSTBUSTERS', 'HQ', 'MORNING', 'Egon', 'BEAT', 'JANINE', 'VO', 'SCREAM', 'EGON', 'CLUCK', 'Startled', 'Egon', 'WIDER', 'ANGLE', 'Revealing', 'Janine', 'JANINE', 'Egon', 'EGON', 'Janine.', 'Can', 'CLUCK', '...minutes.', 'ON', 'JANINE', 'Egon', 'JANINE', 'Nevermind.', 'ANOTHER', 'ANGLE', 'Janine', 'JANINE', 'Are', 'EGON', 'Trust', 'ANGLE', 'ON', 'EGON', 'EXITS', 'CLUCKING.', 'EGON', 'CLUCKING', 'CLOSE', 'JANINE', 'Staring', 'EXT.', 'MID', 'TOWN', 'MANHATTAN', 'ANGLE', 'ON', 'WERECHICKEN', 'Godzilla.', 'SHAKE.', 'Panicky', 'Werechicken', 'CROWD', 'WALLA', 'INT.', 'ECTO', 'MOVING', 'Peter', 'Slimer', 'PETER', 'Empire', 'State', 'Building.', 'EXT.', 'THE', 'STREETS', 'DAWN', 'Ecto', 'SPEEDS', 'SIREN', 'RAY', 'VO', 'Check', 'EXT.', 'EMPIRE', 'STATE', 'BLDG.', 'DAWN', 'Sun', 'HOWL', 'SHAKE.', 'WERECHICKEN', 'VO', 'HOWLS', 'LOW', 'ANGLE', 'ON', 'ECTO', 'Approaching', 'CAMERA', 'SCREECHES', 'Doors', 'Ray', 'Winston', 'LEAP', 'LOW', 'ANGLE', 'POV', 'WERECHICKEN', 'Moving', 'Ecto', 'INT.', 'ECTO', 'PETER', 'Take', 'Slimer', 'SLIMER', 'Roger', 'Slimer', 'Peter', 'ANGLE', 'ON', 'WERECHICKEN', 'Caught', 'FLAILS', 'HOWL.', 'A', 'MONSTROUS', 'SPIRIT', 'WERECHICKEN', 'HOWLS', 'ON', 'RAY', 'AND', 'WINSTON', 'Ray', 'RAY', 'Let', 'WIDER', 'ANGLE', 'Ray', 'Winston', 'Peter', 'Spirit', 'SPIRIT', 'HOWLS', 'CLOSER', 'ON', 'TRAP', 'Ray', 'Spirit', 'STORM', 'ERUPTS', 'SPARKS', 'LIGHTNING', 'BOLTS', 'HURRICANE', 'WIND', 'BLOWS.', 'ON', 'RAY', 'AND', 'WINSTON', 'Being', 'SHOUT', 'NOISE.', 'WINSTON', 'Trap', 'ON', 'ECTO', 'Slimer', 'Peter', 'RAY', 'YELLS', 'Whose', 'RAY', 'AND', 'WINSTON', 'RAY', 'AND', 'WINSTON', 'EGON', 'S', 'CLOSE', 'ON', 'TRAP', 'Light', 'FLASHES', 'Trap', 'RAY', 'VO', 'LOW', 'ANGLE', 'ECTO', 'WINSTON', 'VO', 'Peter', 'RAY', 'AND', 'WINSTON', 'KNOCKED', 'Monstrous', 'Spirit', 'STORM', 'SUCKED', 'SNAPS', 'ANGLE', 'ON', 'WERECHICKEN', 'Spirit', 'POPS', 'JARRING', 'ANGER.', 'WERECHICKEN', 'HOWLS', 'WIDER', 'ANGLE', 'Empire', 'State', 'Building.', 'EXT.', 'EMPIRE', 'STATE', 'BUILDING', 'MORNING', 'PULL', 'BACK', 'Peter', 'Slimer', 'Winston', 'Ray', 'Ecto', 'PETER', 'So', 'RAY', 'SNAPS', 'Peter', 'Chicken', 'CLOSER', 'ANGLE', 'WINSTON', 'Yeah', 'August', 'A', 'BEAT', 'RAY', 'WINSTON', 'PETER', 'Egon', 'EXT.', 'BUILDING', 'ROOFTOP', 'MORNING', 'Empire', 'State', 'Building.', 'Egon', 'MEN', 'WOMEN', 'THE', 'WEATHER', 'BOARD', 'EGON', 'Distinguished', 'Weather', 'Board', 'ANGLE', 'ON', 'EGON', 'Empire', 'State', 'Building', 'EGON', 'CONT', 'ANGLE', 'ON', 'BOARD', 'MEMBERS', 'BOARD', 'MUTTERING', 'WALLA', 'RESUME', 'ON', 'EGON', 'EGON', 'VO', 'CONT', 'BAWK', '...snow.', 'Ecto', 'Egon', 'ANGLE', 'ON', 'AUDIENCE', 'Their', 'Egon', 'BOARD', 'MEMBERS', 'WALLA', 'ANGLE', 'ON', 'EGON', 'EGON', 'Board', 'Slimer', 'INTO', 'SHOT', 'Egon', 'WHISPERS', 'SLIMER', 'WHISPERING', 'MUTTERS', 'EGON', 'Slimer', 'EGON', 'S', 'POV', 'Werechicken', 'Empire', 'State', 'Building.', 'WERECHICKEN', 'SQUAWKS', 'NEW', 'ANGLE', 'Weather', 'Board', 'Werechicken', 'SCREAM.', 'WEATHER', 'BOARD', 'MEMBERS', 'SCREAMING', 'ON', 'EGON', 'JUMPS', 'Ecto', 'Slimer', 'Ecto', 'OUT', 'OF', 'SHOT.', 'INT.', 'ECTO', 'MOVING', 'Egon', 'Slimer', 'PETER', 'Egon', 'EGON', 'PETER', 'Piece', 'EXT.', 'ECTO', 'Empire', 'State', 'Building', 'Werechicken', 'ON', 'WERECHICKEN', 'Maude', 'WERECHICKEN', 'CROW', 'ON', 'RAY', 'AND', 'WINSTON', 'WINSTON', 'RAY', 'Winston', 'Ray', 'WINSTON', 'ANGLE', 'ON', 'WEATHER', 'BALLOON', 'Empire', 'State', 'Building.', 'INT.', 'ECTO', 'MOVING', 'Peter', 'Egon', 'Slimer', 'Peter', 'Slimer', 'EGON', 'Okay', 'Peter', 'CLOSE', 'UP', 'ON', 'WEATHER', 'CONTROL', 'BOX', 'Peter', 'ANGLE', 'ON', 'BALLOON', 'ON', 'SLIMER', 'ANGLE', 'ON', 'WERECHICKEN', 'Blizzard', 'WERECHICKEN', 'SQUAWKS', 'ANGLE', 'ON', 'STREETS', 'Snow', 'Ray', 'Winston', 'RAY', 'AND', 'WINSTON', 'All', 'WIPE', 'TO', 'EXT.', 'FIREHOUSE', 'NIGHT', 'A', 'CAMERA', 'MOVES', 'IN', 'MAUDE', 'VO', 'Anyone', 'INT', 'FIREHOUSE', 'DINING', 'AREA', 'Maude', 'Egon', 'Peter', 'Winston', 'Ray', 'Zeke.', 'No', 'Slimer.', 'Slimer.', 'EGON', 'Maude.', 'ON', 'PETER', 'Maude', 'PETER', 'Lemme', 'ON', 'EGON', 'EGON', 'ON', 'MAUDE', 'MAUDE', 'No', 'Egon', 'CHUCKLES', 'WERECHICKEN', 'VO', 'HOWL', 'WIDER', 'ANGLE', 'Everyone', 'WINSTON', 'Uh', 'INT.', 'HALLWAY', 'OUTSIDE', 'LAB', 'Ghostbusters', 'INT.', 'LAB', 'ON', 'DOOR', 'Ghostbusters', 'WERECHICKEN', 'VO', 'HOWL', 'SWISH', 'PAN', 'A', 'HUGE', 'SHADOW', 'PAN', 'DOWN', 'Slimer', 'Walkman', 'Slimer', 'HOWLS', 'SLIMER', 'HOWLS', 'ON', 'GHOSTBUSTERS', 'WINSTON', 'SIGH', 'Slimer', 'James', 'Brown', 'ON', 'SLIMER', 'SLIMER', 'James', 'Brown', 'James', 'Brown', 'HOWL', 'GHOSTBUSTERS', 'Peter', 'PETER', 'Tell', 'FADE', 'OUT', 'THE']\n"
     ]
    }
   ],
   "source": [
    "# Let's find all the proper nouns:\n",
    "ghost_nouns = []\n",
    "for i in ghost_tagged:\n",
    "    if i[1] == \"NNP\":\n",
    "        ghost_nouns.append(i[0])\n",
    "\n",
    "print(ghost_nouns)"
   ]
  },
  {
   "cell_type": "code",
   "execution_count": 20,
   "id": "402cc73b-e030-40e4-9a74-4c902edf9188",
   "metadata": {},
   "outputs": [],
   "source": [
    "def getPOS (POS, a_string):\n",
    "    \"\"\"\n",
    "    Takes a string and returns a list of tuples with the word \n",
    "    and its part of speech\n",
    "    \"\"\"\n",
    "    tokens = tknize(a_string)\n",
    "    tagged = nltk.pos_tag(tokens)\n",
    "    the_list = []\n",
    "    for i in tagged:\n",
    "        if i[1] == POS:\n",
    "            the_list.append(i[0])\n",
    "    return the_list"
   ]
  },
  {
   "cell_type": "code",
   "execution_count": 21,
   "id": "214bc607-05c9-4567-9f9a-7e7b024d184f",
   "metadata": {},
   "outputs": [
    {
     "name": "stdout",
     "output_type": "stream",
     "text": [
      "['Casper']\n"
     ]
    }
   ],
   "source": [
    "ghost = \"Casper is a friendly ghost who lives in a haunted house.\"\n",
    "# Test on toy data\n",
    "\n",
    "\n",
    "nouns = getPOS(\"NNP\", ghost)\n",
    "print(nouns)\n",
    "\n",
    "# I NEED HELP WITH THIS CODE"
   ]
  },
  {
   "cell_type": "code",
   "execution_count": 22,
   "id": "30e8f530-29af-4519-a9ca-5fbea0a343cb",
   "metadata": {},
   "outputs": [],
   "source": [
    "\n",
    "# Read in all screenplays\n",
    "screenplays = []\n",
    "for p in Path('C:/Users/alex/code/ENGL370-2025/ENGL370-2025/Garcia/Data/Comedy').glob('*.txt'):\n",
    "    with open(p, encoding=\"utf8\", errors='ignore') as f:\n",
    "        contents = f.read()\n",
    "        screenplays.append(contents)"
   ]
  },
  {
   "cell_type": "code",
   "execution_count": 23,
   "id": "a56842f5-9389-426a-a313-c6cccab94347",
   "metadata": {},
   "outputs": [],
   "source": [
    "\n",
    "# The one function to rule them all\n",
    "def removePNs(a_string):\n",
    "    \"\"\"\n",
    "    Roundtrips a string to remove proper nouns\n",
    "    \"\"\"\n",
    "    tokens = re.sub('[^a-zA-Z \\.]', ' ', a_string).split()\n",
    "    tagged = nltk.pos_tag(tokens)\n",
    "    the_list = []\n",
    "    for i in tagged:\n",
    "        if i[1] == \"NNP\":\n",
    "            the_list.append(i[0])\n",
    "    toremove = list(set(the_list))\n",
    "    filtered = []\n",
    "    for token in tokens:\n",
    "        if token not in toremove:\n",
    "            filtered.append(token)\n",
    "    return \" \".join(filtered)"
   ]
  },
  {
   "cell_type": "code",
   "execution_count": 24,
   "id": "d4fdbcfc-6960-4ad6-a035-f0b384401bd9",
   "metadata": {},
   "outputs": [
    {
     "name": "stdout",
     "output_type": "stream",
     "text": [
      "Casper is a friendly ghost who lives in a haunted house.\n"
     ]
    }
   ],
   "source": [
    "# Test on a single text from our corpus\n",
    "alien = removePNs(ghost)\n",
    "print(ghost[0:100])"
   ]
  },
  {
   "cell_type": "code",
   "execution_count": 25,
   "id": "8262365b-4f3a-4097-a96a-7f8fc8578451",
   "metadata": {},
   "outputs": [],
   "source": [
    "# Use on all screenplays\n",
    "texts = [removePNs(text) for text in screenplays]"
   ]
  },
  {
   "cell_type": "markdown",
   "id": "a033e2cb-ba55-49c1-8493-fb78af407629",
   "metadata": {},
   "source": [
    "### IMPORTS\n",
    "# For NMF Topic Models\n",
    "from sklearn.feature_extraction.text import TfidfVectorizer\n",
    "from sklearn.decomposition import NMF\n",
    "\n",
    "# Our custom function for displaying topics\n",
    "def display_topics(model, feature_names, n_top_words):\n",
    "    for topic_idx, topic in enumerate(model.components_):\n",
    "        message = \"{:d}: \".format(topic_idx)\n",
    "        message += \" \".join([feature_names[i] + ' ' + str(round(topic[i], 2)) + ','\n",
    "                             for i in topic.argsort()[:-n_top_words - 1:-1]])\n",
    "        print(message)\n",
    "    print()"
   ]
  },
  {
   "cell_type": "code",
   "execution_count": 26,
   "id": "9a3777d6-0a54-41d3-9f59-e9f5fa17aec4",
   "metadata": {},
   "outputs": [
    {
     "ename": "NameError",
     "evalue": "name 'TfidfVectorizer' is not defined",
     "output_type": "error",
     "traceback": [
      "\u001b[1;31m---------------------------------------------------------------------------\u001b[0m",
      "\u001b[1;31mNameError\u001b[0m                                 Traceback (most recent call last)",
      "Cell \u001b[1;32mIn[26], line 2\u001b[0m\n\u001b[0;32m      1\u001b[0m \u001b[38;5;66;03m# Set the parameters for the DTM\u001b[39;00m\n\u001b[1;32m----> 2\u001b[0m vectorizer \u001b[38;5;241m=\u001b[39m \u001b[43mTfidfVectorizer\u001b[49m(lowercase \u001b[38;5;241m=\u001b[39m \u001b[38;5;28;01mTrue\u001b[39;00m,\n\u001b[0;32m      3\u001b[0m                              min_df \u001b[38;5;241m=\u001b[39m \u001b[38;5;241m2\u001b[39m,\n\u001b[0;32m      4\u001b[0m                              stop_words\u001b[38;5;241m=\u001b[39m\u001b[38;5;124m'\u001b[39m\u001b[38;5;124menglish\u001b[39m\u001b[38;5;124m'\u001b[39m)\n\u001b[0;32m      6\u001b[0m \u001b[38;5;66;03m# fit the model to the data \u001b[39;00m\n\u001b[0;32m      7\u001b[0m dtm \u001b[38;5;241m=\u001b[39m vectorizer\u001b[38;5;241m.\u001b[39mfit_transform(texts)\n",
      "\u001b[1;31mNameError\u001b[0m: name 'TfidfVectorizer' is not defined"
     ]
    }
   ],
   "source": [
    "# Set the parameters for the DTM\n",
    "vectorizer = TfidfVectorizer(lowercase = True,\n",
    "                             min_df = 2,\n",
    "                             stop_words='english')\n",
    "\n",
    "# fit the model to the data \n",
    "dtm = vectorizer.fit_transform(texts)\n",
    "\n",
    "# We'll need these later\n",
    "vocabulary = vectorizer.get_feature_names_out()\n",
    "\n",
    "# see how many features we have\n",
    "dtm.shape"
   ]
  },
  {
   "cell_type": "code",
   "execution_count": 27,
   "id": "37a6a9fe-2d1a-4b7e-9820-60b2c12e2a34",
   "metadata": {},
   "outputs": [
    {
     "ename": "NameError",
     "evalue": "name 'NMF' is not defined",
     "output_type": "error",
     "traceback": [
      "\u001b[1;31m---------------------------------------------------------------------------\u001b[0m",
      "\u001b[1;31mNameError\u001b[0m                                 Traceback (most recent call last)",
      "Cell \u001b[1;32mIn[27], line 2\u001b[0m\n\u001b[0;32m      1\u001b[0m \u001b[38;5;66;03m# Set the parameters for creating the NMF model\u001b[39;00m\n\u001b[1;32m----> 2\u001b[0m nmf \u001b[38;5;241m=\u001b[39m \u001b[43mNMF\u001b[49m(n_components\u001b[38;5;241m=\u001b[39m\u001b[38;5;241m30\u001b[39m, \n\u001b[0;32m      3\u001b[0m           max_iter\u001b[38;5;241m=\u001b[39m\u001b[38;5;241m500\u001b[39m)\u001b[38;5;241m.\u001b[39mfit(dtm)\n\u001b[0;32m      4\u001b[0m nmf_W \u001b[38;5;241m=\u001b[39m nmf\u001b[38;5;241m.\u001b[39mtransform(dtm)\n\u001b[0;32m      5\u001b[0m nmf_H \u001b[38;5;241m=\u001b[39m nmf\u001b[38;5;241m.\u001b[39mcomponents_\n",
      "\u001b[1;31mNameError\u001b[0m: name 'NMF' is not defined"
     ]
    }
   ],
   "source": [
    "\n",
    "# Set the parameters for creating the NMF model\n",
    "nmf = NMF(n_components=30, \n",
    "          max_iter=500).fit(dtm)\n",
    "nmf_W = nmf.transform(dtm)\n",
    "nmf_H = nmf.components_\n",
    "nmf_W.shape"
   ]
  },
  {
   "cell_type": "code",
   "execution_count": null,
   "id": "e56fbf93-3ed2-46cc-a388-172582919cbd",
   "metadata": {},
   "outputs": [],
   "source": [
    "display_topics(nmf, vocabulary, 7)"
   ]
  }
 ],
 "metadata": {
  "kernelspec": {
   "display_name": "Python 3 (ipykernel)",
   "language": "python",
   "name": "python3"
  },
  "language_info": {
   "codemirror_mode": {
    "name": "ipython",
    "version": 3
   },
   "file_extension": ".py",
   "mimetype": "text/x-python",
   "name": "python",
   "nbconvert_exporter": "python",
   "pygments_lexer": "ipython3",
   "version": "3.10.16"
  }
 },
 "nbformat": 4,
 "nbformat_minor": 5
}
