{
 "cells": [
  {
   "cell_type": "markdown",
   "id": "95686521-e43b-4570-be72-9e436f22078c",
   "metadata": {},
   "source": [
    "<h4>This is a class in text analytics. What is a text? How do you know one when you see, or hear, one?  </h4>"
   ]
  },
  {
   "cell_type": "markdown",
   "id": "b0992f5e-569b-467d-8ca1-74a3a25275f8",
   "metadata": {},
   "source": [
    "Text is a series of words that are connected together. Each individual word has a direct meaning from the dictionary but using a diverse and large amount of words strung together can create a text. In all, a text is a series of words and/or strings that are combined to portray a thought, story, and so much more. A text can be seen or heard when their is an amount of words or strings that are connected in some way. Often text can be analyzed by using punctuation, frequency of words, and other fundamental elements."
   ]
  },
  {
   "cell_type": "markdown",
   "id": "b2cf8e8b-6c75-4ad6-b98d-584f1d369ffe",
   "metadata": {},
   "source": [
    "<h4>Text analytics can, and has, focused on single texts of various sizes, and we have explored some of the possibilities. Why examine more than one text? What's the point of examining dozens, hundreds, thousands, or millions of texts? That is, what does \"big data\" mean for the study of texts?</h4>"
   ]
  },
  {
   "cell_type": "markdown",
   "id": "b8cd81c6-a58c-41e6-acc1-81376f8784da",
   "metadata": {},
   "source": [
    "Texts are compiled over hundreds, thousands, or even millions of characters, words, and sentences. To a computer, this information is just 0's and 1's, nothing more. Yet, the computer compiles this information to then make characters and then to make words, then strings and so forth. In the eyes of the computer, it just knows what you put in. On the other hand, we can utilize the particular set of strings and words to analyze the key concepts and key words in a text. We can examine a singular text to find the most frequent words. The more frequent the word occurs,the more likely the word is more important to the main plot or idea of the text. Examining separate text is also valuable because it can differientate main goal and ideas of the text via the measurement you base it off of. For example, a text about engineering may have a large of amount of words that are very different than a text about cooking. These differentating words help \"big data\" by allow the computer to filter out content that may not pertain to what the user is looking for."
   ]
  },
  {
   "cell_type": "markdown",
   "id": "5e468c78-46c3-4025-b18e-49f931097474",
   "metadata": {},
   "source": [
    "<h4>If you could collect all of some kind of text, what would it be? Answer without concern for APIs or accessibility, just out of pure curiosity. Why?</h4>"
   ]
  },
  {
   "cell_type": "markdown",
   "id": "92ef3e31-00ae-400a-a63e-feffbaf2e57f",
   "metadata": {},
   "source": [
    "I would collect a series of text concerning all political negotiations and contracts ever written. This would be so incredibaly mind blowing. Nobody who have a clue as to what to do with this information. The world would probably collapse. "
   ]
  }
 ],
 "metadata": {
  "kernelspec": {
   "display_name": "Python 3 (ipykernel)",
   "language": "python",
   "name": "python3"
  },
  "language_info": {
   "codemirror_mode": {
    "name": "ipython",
    "version": 3
   },
   "file_extension": ".py",
   "mimetype": "text/x-python",
   "name": "python",
   "nbconvert_exporter": "python",
   "pygments_lexer": "ipython3",
   "version": "3.10.16"
  }
 },
 "nbformat": 4,
 "nbformat_minor": 5
}
