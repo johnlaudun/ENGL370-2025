{
 "cells": [
  {
   "cell_type": "code",
   "execution_count": 17,
   "id": "09ee2a11-6a32-4d71-9daa-940ee3b2f6de",
   "metadata": {},
   "outputs": [],
   "source": [
    "# Imports\n",
    "import re\n",
    "\n",
    "# Open and read the file to create a string object\n",
    "with open(\"../assets/mdg.txt\", mode=\"r\") as f:\n",
    "    mdg_string = f.read()"
   ]
  },
  {
   "cell_type": "code",
   "execution_count": 18,
   "id": "eff5cabf-734b-4ab6-8a23-7dd07184262c",
   "metadata": {},
   "outputs": [
    {
     "data": {
      "text/plain": [
       "str"
      ]
     },
     "execution_count": 18,
     "metadata": {},
     "output_type": "execute_result"
    }
   ],
   "source": [
    "type(mdg_string)"
   ]
  },
  {
   "cell_type": "code",
   "execution_count": 19,
   "id": "2938a05d-ab5f-4350-b683-3cc755db02eb",
   "metadata": {},
   "outputs": [
    {
     "name": "stdout",
     "output_type": "stream",
     "text": [
      "\"Off there to the right -- somewhere -- is a large\n"
     ]
    }
   ],
   "source": [
    "# Check our work\n",
    "print(mdg_string[0:50])"
   ]
  },
  {
   "cell_type": "code",
   "execution_count": 21,
   "id": "3877a798-083d-43b5-b813-e2d400c02864",
   "metadata": {},
   "outputs": [
    {
     "name": "stdout",
     "output_type": "stream",
     "text": [
      "['off', 'there', 'to', 'the', 'right', 'somewhere', 'is', 'a', 'large', 'island', 'said', 'whitney', \"it's\", 'rather', 'a', 'mystery', 'what', 'island', 'is', 'it', 'rainsford', 'asked', 'the', 'old', 'charts', 'call', 'it', \"'ship\", 'trap', 'island', \"'\", 'whitney', 'replied', 'a', 'suggestive', 'name', \"isn't\", 'it', 'sailors', 'have', 'a', 'curious', 'dread', 'of', 'the', 'place', 'i', \"don't\", 'know', 'why']\n"
     ]
    }
   ],
   "source": [
    "type(mdg_string)\n",
    "\n",
    "# Imports\n",
    "import re\n",
    "\n",
    "# Let regex do the heavy lifting:\n",
    "mdg_words = re.sub(\"[^a-zA-Z']\",\" \", mdg_string).lower().split()\n",
    "\n",
    "# Check our work\n",
    "print(mdg_words [0:50])"
   ]
  },
  {
   "cell_type": "code",
   "execution_count": 23,
   "id": "aef704f5-99e2-4bc3-994f-1e284c40ec53",
   "metadata": {},
   "outputs": [
    {
     "name": "stdout",
     "output_type": "stream",
     "text": [
      "mdg_dict is a <class 'dict'> of 1947 entries (tokens).\n"
     ]
    }
   ],
   "source": [
    "# Using a dictionary \n",
    "mdg_dict = {}\n",
    "for word in mdg_words:\n",
    "    try: \n",
    "        mdg_dict[word] += 1 \n",
    "    except:\n",
    "        mdg_dict[word] = 1\n",
    "\n",
    "# When in doubt print something out\n",
    "print(f\"mdg_dict is a {type(mdg_dict)} of {len(mdg_dict)} entries (tokens).\")"
   ]
  },
  {
   "cell_type": "code",
   "execution_count": 24,
   "id": "d34724e8-60c2-4ee0-b9f3-eafc5b5ed28d",
   "metadata": {},
   "outputs": [
    {
     "data": {
      "text/plain": [
       "12"
      ]
     },
     "execution_count": 24,
     "metadata": {},
     "output_type": "execute_result"
    }
   ],
   "source": [
    "# To retrieve a value, enter the key:\n",
    "mdg_dict[\"jungle\"]"
   ]
  },
  {
   "cell_type": "code",
   "execution_count": null,
   "id": "78a5dccc-3405-4158-9a74-88bd285b5f33",
   "metadata": {},
   "outputs": [],
   "source": [
    "# Knowing this, you can actually get the most frequent tokens.\n",
    "# What would you change to get the least frequent tokens?\n",
    "for word in sorted(mdg_dict, key=mdg_dict.get, reverse = False)[0:80]:"
   ]
  }
 ],
 "metadata": {
  "kernelspec": {
   "display_name": "Python 3 (ipykernel)",
   "language": "python",
   "name": "python3"
  },
  "language_info": {
   "codemirror_mode": {
    "name": "ipython",
    "version": 3
   },
   "file_extension": ".py",
   "mimetype": "text/x-python",
   "name": "python",
   "nbconvert_exporter": "python",
   "pygments_lexer": "ipython3",
   "version": "3.10.16"
  }
 },
 "nbformat": 4,
 "nbformat_minor": 5
}
