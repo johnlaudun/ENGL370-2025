{
 "cells": [
  {
   "cell_type": "markdown",
   "id": "14ad67be-9bdb-4830-b54c-cebffa9ca3e1",
   "metadata": {
    "editable": true,
    "slideshow": {
     "slide_type": ""
    },
    "tags": []
   },
   "source": [
    "# Bella Bossier \n",
    "    \n",
    "My name is Bella, and I am from Baton Rouge. I went to a public school called Central High School, and I played volleyball there for all four years. I moved to Lafayette following my older sister, and I am currently a nursing major on my fourth semester.\n",
    "\n"
   ]
  },
  {
   "cell_type": "markdown",
   "id": "e5ae0046-1fd9-44b4-a050-ea1d61378ce6",
   "metadata": {},
   "source": [
    "- Blue\n",
    "- Moxy and Max\n",
    "- Chiefs"
   ]
  },
  {
   "cell_type": "code",
   "execution_count": 1,
   "id": "6e3f9015-cf05-40be-8d3e-94c694c27715",
   "metadata": {},
   "outputs": [
    {
     "name": "stdout",
     "output_type": "stream",
     "text": [
      "It was the best of times, it was the worst of times, it was the age of wisdom, it was the age of foolishness, it was the epoch of belief, it was the epoch of incredulity, it was the season of light, it was the season of darkness, it was the spring of hope, it was the winter of despair.\n",
      "Word Count =  60\n"
     ]
    }
   ],
   "source": [
    "import string\n",
    "\n",
    "file = open (\"..//assets/Dickens.txt\" , \"r\")\n",
    "dickens = file.read()\n",
    "print(dickens)\n",
    "\n",
    "\n",
    "\n",
    "dickens2 = dickens.translate(str.maketrans (\"\" , \"\" , string.punctuation))\n",
    "words = dickens2. split()\n",
    "WordCount= len(words)\n",
    "print(\"Word Count = \" , WordCount)\n"
   ]
  },
  {
   "cell_type": "code",
   "execution_count": null,
   "id": "98ec05c0-13d2-4f6d-86fe-27738fd948d9",
   "metadata": {},
   "outputs": [],
   "source": []
  }
 ],
 "metadata": {
  "kernelspec": {
   "display_name": "Python [conda env:370]",
   "language": "python",
   "name": "conda-env-370-py"
  },
  "language_info": {
   "codemirror_mode": {
    "name": "ipython",
    "version": 3
   },
   "file_extension": ".py",
   "mimetype": "text/x-python",
   "name": "python",
   "nbconvert_exporter": "python",
   "pygments_lexer": "ipython3",
   "version": "3.10.16"
  }
 },
 "nbformat": 4,
 "nbformat_minor": 5
}
