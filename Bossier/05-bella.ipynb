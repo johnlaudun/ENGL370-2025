{
 "cells": [
  {
   "cell_type": "markdown",
   "id": "3e3bff8f-a067-4749-8c9d-efa56b58336e",
   "metadata": {},
   "source": [
    "## What is a text? How do you know one when you see, or hear, one?\n",
    "A text is a form of writing that conveys meaning through symbols and sequences of information. Texts can be written, visual, or even spoken. Texts are seen in many different ways and formats like books, articles, speeches, messages, and conversations. You can recongize a text simply because they follow semantic rules. Grammer and structure help an audience to understand the meaning of the text. A text is differentiated by the structured use of language to convey a message. A texts purpose is to express ideas, tell stories, share information, or conjure up emotions. \n"
   ]
  },
  {
   "cell_type": "markdown",
   "id": "4cc14a1c-f696-4131-96b8-93e442d85c38",
   "metadata": {},
   "source": [
    "## Why examine more than one text? What's the point of examining dozens, hundreds, thousands, or millions of texts? What does \"big data\" mean for the study of texts?\n",
    "Reading multiple texts helps to find patterns, trends, and recurring themes that cannot be found in a single text. Reading vast collections of texts, or big data, allows us to track changes in languages, detect biases, and improve machine learning models. This approach enriches linguistics, psychology, and AI study with more data on how individuals communicate and how society changes.\n"
   ]
  },
  {
   "cell_type": "markdown",
   "id": "a2056dd7-9cc6-4d7e-86a8-a9249238ad5c",
   "metadata": {},
   "source": [
    "## If you could collect all of some kind of text, what would it be?\n",
    "If I were to gather all books of a certain kind, I would gather personal diaries and personal journals. They give firsthand, raw material about human life, feelings, and thoughts during different periods and societies. Personal diaries contrast with public texts in that they give honest observations regarding daily life, problems, and aspirations. Studying people in large groups could show us how social norms, attitudes, and individual motivations evolved over time. This kind of research would give us a cool insight into history, psychology, and how humans behave, helping us connect the dots between past and present generations in a really personal way.\n",
    "\n"
   ]
  },
  {
   "cell_type": "code",
   "execution_count": null,
   "id": "7e273ed1-d1ce-498f-95fe-b991eaff9456",
   "metadata": {},
   "outputs": [],
   "source": []
  }
 ],
 "metadata": {
  "kernelspec": {
   "display_name": "Python [conda env:370]",
   "language": "python",
   "name": "conda-env-370-py"
  },
  "language_info": {
   "codemirror_mode": {
    "name": "ipython",
    "version": 3
   },
   "file_extension": ".py",
   "mimetype": "text/x-python",
   "name": "python",
   "nbconvert_exporter": "python",
   "pygments_lexer": "ipython3",
   "version": "3.10.16"
  }
 },
 "nbformat": 4,
 "nbformat_minor": 5
}
