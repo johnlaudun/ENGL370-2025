{
 "cells": [
  {
   "cell_type": "code",
   "execution_count": 1,
   "id": "27e57001-f39d-4579-b7b6-b22ff4b4c24c",
   "metadata": {},
   "outputs": [
    {
     "ename": "SyntaxError",
     "evalue": "invalid syntax (1222020170.py, line 1)",
     "output_type": "error",
     "traceback": [
      "\u001b[0;36m  Cell \u001b[0;32mIn[1], line 1\u001b[0;36m\u001b[0m\n\u001b[0;31m    https://www.gutenberg.org/\u001b[0m\n\u001b[0m          ^\u001b[0m\n\u001b[0;31mSyntaxError\u001b[0m\u001b[0;31m:\u001b[0m invalid syntax\n"
     ]
    }
   ],
   "source": [
    "https://www.gutenberg.org/\n",
    "https://www.gutenberg.org/ebooks/75585\n",
    "https://www.gutenberg.org/cache/epub/75585/pg75585.txt\n"
   ]
  },
  {
   "cell_type": "markdown",
   "id": "cd60cb85-7b31-4783-8630-fc411426e240",
   "metadata": {},
   "source": [
    "To get from the main website( the first URL) , project gutenburg, to the page for a specific book, which is the second URL,you add /ebooks/75585, where 75585 is the uinque ID for that book. This URL takes you to the books main page, where you can find different formats of the book to read or download online. To go to the third link, which is the raw text of the book, the URL changes again. The /cache/epub/75585 part stores the different files for book. The last UR is the actual text (corpus) of the book,  the second URL is the webpage that provides acesss to it. \n"
   ]
  },
  {
   "cell_type": "code",
   "execution_count": 4,
   "id": "b2e0005b-9687-4622-8729-11bc5477d53d",
   "metadata": {},
   "outputs": [
    {
     "ename": "SyntaxError",
     "evalue": "invalid syntax (1828290416.py, line 1)",
     "output_type": "error",
     "traceback": [
      "\u001b[0;36m  Cell \u001b[0;32mIn[4], line 1\u001b[0;36m\u001b[0m\n\u001b[0;31m    https://textual-optics-lab.uchicago.edu/us_novel_corpus\u001b[0m\n\u001b[0m          ^\u001b[0m\n\u001b[0;31mSyntaxError\u001b[0m\u001b[0;31m:\u001b[0m invalid syntax\n"
     ]
    }
   ],
   "source": [
    "https://textual-optics-lab.uchicago.edu/us_novel_corpus\n",
    "https://artflsrv04.uchicago.edu/philologic4.7/chicago_novel_corpus_pre1923_12-20/navigate/148/table-of-contents\n",
    "https://artflsrv04.uchicago.edu/philologic4.7/chicago_novel_corpus_pre1923_12-20/navigate/148/1"
   ]
  },
  {
   "cell_type": "markdown",
   "id": "b30169cb-ce09-4593-b340-2dfe412e0d51",
   "metadata": {},
   "source": [
    "The first URL is the general project page.\n",
    "The second URL takes you to a specific book’s table of contents.\n",
    "The third URL accesses the first chapter of that book.\n",
    "The difference is the last part of the URL replacing \"table-of-contents\" with a number gives access to the text of that chapter."
   ]
  }
 ],
 "metadata": {
  "kernelspec": {
   "display_name": "Python [conda env:370]",
   "language": "python",
   "name": "conda-env-370-py"
  },
  "language_info": {
   "codemirror_mode": {
    "name": "ipython",
    "version": 3
   },
   "file_extension": ".py",
   "mimetype": "text/x-python",
   "name": "python",
   "nbconvert_exporter": "python",
   "pygments_lexer": "ipython3",
   "version": "3.10.16"
  }
 },
 "nbformat": 4,
 "nbformat_minor": 5
}
