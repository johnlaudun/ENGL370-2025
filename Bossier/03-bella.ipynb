{
 "cells": [
  {
   "cell_type": "code",
   "execution_count": 36,
   "id": "c440a962-c221-4b1d-a80a-5f92fbbaf67e",
   "metadata": {},
   "outputs": [
    {
     "name": "stdout",
     "output_type": "stream",
     "text": [
      "['ACT', 'I', 'SCENE', 'I.', 'An', 'open', 'Place.', 'Thunder', 'and', 'Lightning.']\n",
      "[('the', 24), ('to', 12), ('of', 11), ('his', 11), ('and', 10)]\n"
     ]
    }
   ],
   "source": [
    "# Open and read the Macbeth.txt file\n",
    "with open(\"Macbeth.txt\", \"r\", encoding=\"utf-8\") as file:\n",
    "    text = file.read()\n",
    "\n",
    "# Convert string to a list of words\n",
    "word_list = text.split()\n",
    "\n",
    "# Quick check - print the first 10 words\n",
    "print(word_list[:10])\n",
    "\n",
    "# Quick comparison - count the occurrences of each unique word\n",
    "from collections import Counter\n",
    "word_counts = Counter(word_list)\n",
    "\n",
    "# Display the 5 most common words\n",
    "print(word_counts.most_common(5))\n",
    "\n",
    "\n",
    "\n"
   ]
  },
  {
   "cell_type": "markdown",
   "id": "b2d254f1-4f3f-482b-a727-92a70b80ff20",
   "metadata": {
    "jp-MarkdownHeadingCollapsed": true
   },
   "source": [
    "The code above reads the Macbeth.txt, puts its text into a list of words, and analyzes the text most common words\n",
    "\n",
    "\n",
    "\n"
   ]
  },
  {
   "cell_type": "code",
   "execution_count": 47,
   "id": "711f60ed-03ea-4494-a5a9-a9ef17273421",
   "metadata": {},
   "outputs": [
    {
     "name": "stdout",
     "output_type": "stream",
     "text": [
      "Total words: 622\n",
      "Unique words: 418\n",
      "Lexical Diversity: 0.6720\n"
     ]
    }
   ],
   "source": [
    "# Calculate lexical diversity\n",
    "unique_words = set(word_list)  # Get unique words\n",
    "lexical_diversity = len(unique_words) / len(word_list)  # Compute ratio\n",
    "\n",
    "# Print results\n",
    "print(f\"Total words: {len(word_list)}\")\n",
    "print(f\"Unique words: {len(unique_words)}\")\n",
    "print(f\"Lexical Diversity: {lexical_diversity:.4f}\")\n"
   ]
  },
  {
   "cell_type": "markdown",
   "id": "6e13997c-34af-49da-a2e3-fa17e2108206",
   "metadata": {},
   "source": [
    "This code calculates lexical diversity, which measures the variety of vocabulary used in the text.\n",
    "\n",
    "\n"
   ]
  },
  {
   "cell_type": "code",
   "execution_count": 50,
   "id": "75527185-4fda-473c-8cdc-9804256c58a2",
   "metadata": {},
   "outputs": [],
   "source": [
    "# Open and read the Macbeth.txt file\n",
    "with open(\"Macbeth.txt\", \"r\", encoding=\"utf-8\") as file:\n",
    "    text = file.read()\n",
    "\n",
    "# Convert string to a list of words\n",
    "word_list = text.split()\n"
   ]
  },
  {
   "cell_type": "markdown",
   "id": "45334e3f-65a1-4a65-aafa-9fdb580b3aff",
   "metadata": {},
   "source": [
    "This code is reading the text file and splitting it into a list of words"
   ]
  },
  {
   "cell_type": "code",
   "execution_count": 8,
   "id": "8e3acb7b-66c1-4052-8bad-074ceff46b60",
   "metadata": {},
   "outputs": [
    {
     "name": "stdout",
     "output_type": "stream",
     "text": [
      "['ACT', 'I', 'SCENE', 'I.', 'An', 'open', 'Place.', 'Thunder', 'and', 'Lightning.']\n"
     ]
    }
   ],
   "source": [
    "import nltk\n",
    "from nltk.text import Text\n",
    "\n",
    "# Convert word list into an NLTK Text object\n",
    "nltk_text = Text(word_list)\n",
    "\n",
    "# Quick check - print first 10 words\n",
    "print(nltk_text[:10])\n"
   ]
  },
  {
   "cell_type": "markdown",
   "id": "a26893c4-77c5-4eda-885f-abafa47b0e25",
   "metadata": {},
   "source": [
    "This code converts the tokenized words into NLTK for advanced processes"
   ]
  },
  {
   "cell_type": "code",
   "execution_count": 55,
   "id": "be928393-c2e7-4eb0-99e7-bac71bb24953",
   "metadata": {
    "scrolled": true
   },
   "outputs": [
    {
     "name": "stdout",
     "output_type": "stream",
     "text": [
      "Displaying 5 of 5 matches:\n",
      " . THIRD WITCH . There to meet with Macbeth . FIRST WITCH . I come , Graymalkin\n",
      " . But all ’ s too weak ; For brave Macbeth ( well he deserves that name ) , Di\n",
      " Dismay ’ d not this Our captains , Macbeth and Banquo ? SOLDIER . Yes ; As spa\n",
      "h , And with his former title greet Macbeth . ROSS . I ’ ll see it done . DUNCA\n",
      " DUNCAN . What he hath lost , noble Macbeth hath won .\n"
     ]
    }
   ],
   "source": [
    "# Explore the word 'Macbeth' in context\n",
    "nltk_text.concordance(\"Macbeth\")\n",
    "\n",
    "\n",
    "\n"
   ]
  },
  {
   "cell_type": "markdown",
   "id": "639337c2-ba7f-4490-a7d8-fc24c916de0d",
   "metadata": {},
   "source": [
    "This code enables advanced text analysis\n",
    "\n",
    "\n"
   ]
  },
  {
   "cell_type": "code",
   "execution_count": 58,
   "id": "b6803437-1340-41a8-8362-cfa2d60956ae",
   "metadata": {},
   "outputs": [
    {
     "name": "stdout",
     "output_type": "stream",
     "text": [
      "\n"
     ]
    }
   ],
   "source": [
    "# Find words used in a similar context as 'Macbeth'\n",
    "nltk_text.similar(\"Macbeth\")\n"
   ]
  },
  {
   "cell_type": "code",
   "execution_count": 60,
   "id": "eb8fae34-f773-4cad-abbc-6ce0f403d725",
   "metadata": {},
   "outputs": [
    {
     "name": "stderr",
     "output_type": "stream",
     "text": [
      "[nltk_data] Downloading package punkt to\n",
      "[nltk_data]     /Users/bellabossier/nltk_data...\n",
      "[nltk_data]   Package punkt is already up-to-date!\n"
     ]
    },
    {
     "data": {
      "text/plain": [
       "True"
      ]
     },
     "execution_count": 60,
     "metadata": {},
     "output_type": "execute_result"
    }
   ],
   "source": [
    "import nltk\n",
    "nltk.download(\"punkt\")\n"
   ]
  },
  {
   "cell_type": "code",
   "execution_count": 16,
   "id": "a285d461-4252-4e46-a66a-c6ead32d6043",
   "metadata": {},
   "outputs": [],
   "source": [
    "from nltk.tokenize import word_tokenize\n",
    "\n",
    "# Tokenize text properly\n",
    "word_list = word_tokenize(text)\n",
    "\n",
    "# Convert to an NLTK Text object\n",
    "nltk_text = Text(word_list)\n"
   ]
  },
  {
   "cell_type": "code",
   "execution_count": 20,
   "id": "a7d9a2d8-bfef-4ff8-81a2-3e21a0f72339",
   "metadata": {},
   "outputs": [
    {
     "name": "stdout",
     "output_type": "stream",
     "text": [
      "revolt hare\n"
     ]
    }
   ],
   "source": [
    "nltk_text.similar(\"king\")\n"
   ]
  },
  {
   "cell_type": "code",
   "execution_count": 22,
   "id": "f8e4bf21-e69e-40af-8ef1-06642c0a884a",
   "metadata": {},
   "outputs": [
    {
     "name": "stdout",
     "output_type": "stream",
     "text": [
      "No matches\n"
     ]
    }
   ],
   "source": [
    "nltk_text.similar(\"blood\")\n"
   ]
  },
  {
   "cell_type": "markdown",
   "id": "aa793074-f31a-4c1a-96d2-bdadbd6a58af",
   "metadata": {},
   "source": [
    "finding similar words in the text for analysis\n"
   ]
  },
  {
   "cell_type": "code",
   "execution_count": 26,
   "id": "c42afc00-ca37-4378-9133-cf36d2e7ecc9",
   "metadata": {},
   "outputs": [
    {
     "name": "stdout",
     "output_type": "stream",
     "text": [
      "Collecting matplotlib\n",
      "  Downloading matplotlib-3.10.1-cp310-cp310-macosx_10_12_x86_64.whl.metadata (11 kB)\n",
      "Collecting contourpy>=1.0.1 (from matplotlib)\n",
      "  Downloading contourpy-1.3.1-cp310-cp310-macosx_10_9_x86_64.whl.metadata (5.4 kB)\n",
      "Collecting cycler>=0.10 (from matplotlib)\n",
      "  Downloading cycler-0.12.1-py3-none-any.whl.metadata (3.8 kB)\n",
      "Collecting fonttools>=4.22.0 (from matplotlib)\n",
      "  Downloading fonttools-4.56.0-cp310-cp310-macosx_10_9_x86_64.whl.metadata (101 kB)\n",
      "Collecting kiwisolver>=1.3.1 (from matplotlib)\n",
      "  Downloading kiwisolver-1.4.8-cp310-cp310-macosx_10_9_x86_64.whl.metadata (6.2 kB)\n",
      "Collecting numpy>=1.23 (from matplotlib)\n",
      "  Downloading numpy-2.2.3-cp310-cp310-macosx_14_0_x86_64.whl.metadata (62 kB)\n",
      "Requirement already satisfied: packaging>=20.0 in /opt/anaconda3/envs/370/lib/python3.10/site-packages (from matplotlib) (24.2)\n",
      "Collecting pillow>=8 (from matplotlib)\n",
      "  Downloading pillow-11.1.0-cp310-cp310-macosx_10_10_x86_64.whl.metadata (9.1 kB)\n",
      "Collecting pyparsing>=2.3.1 (from matplotlib)\n",
      "  Downloading pyparsing-3.2.1-py3-none-any.whl.metadata (5.0 kB)\n",
      "Requirement already satisfied: python-dateutil>=2.7 in /opt/anaconda3/envs/370/lib/python3.10/site-packages (from matplotlib) (2.9.0.post0)\n",
      "Requirement already satisfied: six>=1.5 in /opt/anaconda3/envs/370/lib/python3.10/site-packages (from python-dateutil>=2.7->matplotlib) (1.16.0)\n",
      "Downloading matplotlib-3.10.1-cp310-cp310-macosx_10_12_x86_64.whl (8.2 MB)\n",
      "\u001b[2K   \u001b[90m━━━━━━━━━━━━━━━━━━━━━━━━━━━━━━━━━━━━━━━━\u001b[0m \u001b[32m8.2/8.2 MB\u001b[0m \u001b[31m3.4 MB/s\u001b[0m eta \u001b[36m0:00:00\u001b[0ma \u001b[36m0:00:01\u001b[0m\n",
      "\u001b[?25hDownloading contourpy-1.3.1-cp310-cp310-macosx_10_9_x86_64.whl (268 kB)\n",
      "Downloading cycler-0.12.1-py3-none-any.whl (8.3 kB)\n",
      "Downloading fonttools-4.56.0-cp310-cp310-macosx_10_9_x86_64.whl (2.3 MB)\n",
      "\u001b[2K   \u001b[90m━━━━━━━━━━━━━━━━━━━━━━━━━━━━━━━━━━━━━━━━\u001b[0m \u001b[32m2.3/2.3 MB\u001b[0m \u001b[31m5.4 MB/s\u001b[0m eta \u001b[36m0:00:00\u001b[0ma \u001b[36m0:00:01\u001b[0m\n",
      "\u001b[?25hDownloading kiwisolver-1.4.8-cp310-cp310-macosx_10_9_x86_64.whl (66 kB)\n",
      "Downloading numpy-2.2.3-cp310-cp310-macosx_14_0_x86_64.whl (6.9 MB)\n",
      "\u001b[2K   \u001b[90m━━━━━━━━━━━━━━━━━━━━━━━━━━━━━━━━━━━━━━━━\u001b[0m \u001b[32m6.9/6.9 MB\u001b[0m \u001b[31m4.9 MB/s\u001b[0m eta \u001b[36m0:00:00\u001b[0ma \u001b[36m0:00:01\u001b[0m\n",
      "\u001b[?25hDownloading pillow-11.1.0-cp310-cp310-macosx_10_10_x86_64.whl (3.2 MB)\n",
      "\u001b[2K   \u001b[90m━━━━━━━━━━━━━━━━━━━━━━━━━━━━━━━━━━━━━━━━\u001b[0m \u001b[32m3.2/3.2 MB\u001b[0m \u001b[31m4.8 MB/s\u001b[0m eta \u001b[36m0:00:00\u001b[0ma \u001b[36m0:00:01\u001b[0m\n",
      "\u001b[?25hDownloading pyparsing-3.2.1-py3-none-any.whl (107 kB)\n",
      "Installing collected packages: pyparsing, pillow, numpy, kiwisolver, fonttools, cycler, contourpy, matplotlib\n",
      "Successfully installed contourpy-1.3.1 cycler-0.12.1 fonttools-4.56.0 kiwisolver-1.4.8 matplotlib-3.10.1 numpy-2.2.3 pillow-11.1.0 pyparsing-3.2.1\n"
     ]
    }
   ],
   "source": [
    "!pip install matplotlib\n"
   ]
  },
  {
   "cell_type": "code",
   "execution_count": 69,
   "id": "f70a4ce5-4887-4ee9-b118-705260c14ad1",
   "metadata": {},
   "outputs": [
    {
     "data": {
      "image/png": "[encoded data removed]",
      "text/plain": [
       "<Figure size 640x480 with 1 Axes>"
      ]
     },
     "metadata": {},
     "output_type": "display_data"
    }
   ],
   "source": [
    "import matplotlib.pyplot as plt\n",
    "\n",
    "# Generate a dispersion plot for selected words\n",
    "nltk_text.dispersion_plot([\"Macbeth\", \"king\", \"blood\", \"dagger\", \"witch\"])\n"
   ]
  },
  {
   "cell_type": "markdown",
   "id": "ba2b87dd-9333-49ed-9a39-35acc3a21585",
   "metadata": {},
   "source": [
    "This code generates a dispersion plot to visualize where specific words appear throughout the text.\n",
    "\"Macbeth\" appear frequently throughout the play, while \"dagger\" and \"witch\" are less frequent.\n",
    "This helps analyze themes, characters, and word usage patterns in Macbeth.\n",
    "\n",
    "\n"
   ]
  },
  {
   "cell_type": "code",
   "execution_count": 72,
   "id": "bc4e256e-257e-4223-9fe1-9dd16ae088bc",
   "metadata": {},
   "outputs": [
    {
     "name": "stdout",
     "output_type": "stream",
     "text": [
      "can not tell— But I am faint , my gashes cry for help . , like a good\n",
      "and hardy soldier , fought ’ Gainst my captivity.—Hail , brave friend\n",
      "! ? As whence the sun ’ gins his reflection Shipwracking storms and\n",
      "direful thunders break , So from that spring , whence comfort seem ’ d\n",
      "arms and new supplies of men , Began a fresh assault . the foe :\n",
      "Except they meant to bathe in reeking wounds , Or memorize another\n",
      "Golgotha , I can not tell— But I am faint , my gashes cry for help\n"
     ]
    },
    {
     "data": {
      "text/plain": [
       "'can not tell— But I am faint , my gashes cry for help . , like a good\\nand hardy soldier , fought ’ Gainst my captivity.—Hail , brave friend\\n! ? As whence the sun ’ gins his reflection Shipwracking storms and\\ndireful thunders break , So from that spring , whence comfort seem ’ d\\narms and new supplies of men , Began a fresh assault . the foe :\\nExcept they meant to bathe in reeking wounds , Or memorize another\\nGolgotha , I can not tell— But I am faint , my gashes cry for help'"
      ]
     },
     "execution_count": 72,
     "metadata": {},
     "output_type": "execute_result"
    }
   ],
   "source": [
    "nltk_text.generate()\n"
   ]
  },
  {
   "cell_type": "markdown",
   "id": "29e38fd8-cd7f-44b0-85d7-fa3a63eaf1f2",
   "metadata": {},
   "source": [
    "this creates new sentences, generates random texts based on the plays structure"
   ]
  }
 ],
 "metadata": {
  "kernelspec": {
   "display_name": "Python [conda env:370]",
   "language": "python",
   "name": "conda-env-370-py"
  },
  "language_info": {
   "codemirror_mode": {
    "name": "ipython",
    "version": 3
   },
   "file_extension": ".py",
   "mimetype": "text/x-python",
   "name": "python",
   "nbconvert_exporter": "python",
   "pygments_lexer": "ipython3",
   "version": "3.10.16"
  }
 },
 "nbformat": 4,
 "nbformat_minor": 5
}
