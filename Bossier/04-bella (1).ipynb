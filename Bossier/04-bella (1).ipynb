{
 "cells": [
  {
   "cell_type": "code",
   "execution_count": null,
   "id": "27e57001-f39d-4579-b7b6-b22ff4b4c24c",
   "metadata": {},
   "outputs": [],
   "source": [
    "https://www.gutenberg.org/\n",
    "https://www.gutenberg.org/ebooks/75585\n",
    "https://www.gutenberg.org/cache/epub/75585/pg75585.txt\n"
   ]
  },
  {
   "cell_type": "raw",
   "id": "800acdd8-33a6-418b-b976-b0cd7b546bc8",
   "metadata": {},
   "source": [
    "To get from the main website, project gutenburg, to the page for a specific book, which is the second URL,you add /ebooks/75585, where 75585 is the uinque ID for that book. This URL takes you to the books main page, where you can find different formats of the book to read or download online. To go to the third link, which is the raw text of the book, the URL changes again. The /cache/epub/75585 part stores the different files for book. Essentially, the last UR is the actual text (corpus) of the book, while the second URL is just the webpage that provides acesss to it. \n"
   ]
  },
  {
   "cell_type": "code",
   "execution_count": null,
   "id": "b2e0005b-9687-4622-8729-11bc5477d53d",
   "metadata": {},
   "outputs": [],
   "source": [
    "https://textual-optics-lab.uchicago.edu/us_novel_corpus\n",
    "https://artflsrv04.uchicago.edu/philologic4.7/chicago_novel_corpus_pre1923_12-20/navigate/148/table-of-contents\n",
    "https://artflsrv04.uchicago.edu/philologic4.7/chicago_novel_corpus_pre1923_12-20/navigate/148/1"
   ]
  },
  {
   "cell_type": "raw",
   "id": "07b69db1-9dbd-4f49-8e42-191df41de432",
   "metadata": {},
   "source": [
    "The first URL is the general project page.\n",
    "The second URL takes you to a specific book’s table of contents.\n",
    "The third URL accesses the first chapter (or section) of that book.\n",
    "The key difference is the last part of the URL: replacing \"table-of-contents\" with a number (like \"1\") gives access to the text of that chapter."
   ]
  }
 ],
 "metadata": {
  "kernelspec": {
   "display_name": "Python [conda env:370]",
   "language": "python",
   "name": "conda-env-370-py"
  },
  "language_info": {
   "codemirror_mode": {
    "name": "ipython",
    "version": 3
   },
   "file_extension": ".py",
   "mimetype": "text/x-python",
   "name": "python",
   "nbconvert_exporter": "python",
   "pygments_lexer": "ipython3",
   "version": "3.10.16"
  }
 },
 "nbformat": 4,
 "nbformat_minor": 5
}
