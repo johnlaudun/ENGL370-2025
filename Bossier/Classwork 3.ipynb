{
 "cells": [
  {
   "cell_type": "code",
   "execution_count": 2,
   "id": "b7bce9b2-8fc5-4473-ab55-b030ea55d649",
   "metadata": {},
   "outputs": [
    {
     "name": "stdout",
     "output_type": "stream",
     "text": [
      "['ACT', 'I', 'SCENE', 'I.', 'An', 'open', 'Place.', 'Thunder', 'and', 'Lightning.']\n",
      "[('the', 24), ('to', 12), ('of', 11), ('his', 11), ('and', 10)]\n"
     ]
    }
   ],
   "source": [
    "# Open and read the Macbeth.txt file\n",
    "with open(\"Macbeth.txt\", \"r\", encoding=\"utf-8\") as file:\n",
    "    text = file.read()\n",
    "\n",
    "# Convert string to a list of words\n",
    "word_list = text.split()\n",
    "\n",
    "# Quick check - print the first 10 words\n",
    "print(word_list[:10])\n",
    "\n",
    "# Quick comparison - count the occurrences of each unique word\n",
    "from collections import Counter\n",
    "word_counts = Counter(word_list)\n",
    "\n",
    "# Display the 5 most common words\n",
    "print(word_counts.most_common(5))\n"
   ]
  },
  {
   "cell_type": "code",
   "execution_count": 4,
   "id": "711f60ed-03ea-4494-a5a9-a9ef17273421",
   "metadata": {},
   "outputs": [
    {
     "name": "stdout",
     "output_type": "stream",
     "text": [
      "Total words: 622\n",
      "Unique words: 418\n",
      "Lexical Diversity: 0.6720\n"
     ]
    }
   ],
   "source": [
    "# Calculate lexical diversity\n",
    "unique_words = set(word_list)  # Get unique words\n",
    "lexical_diversity = len(unique_words) / len(word_list)  # Compute ratio\n",
    "\n",
    "# Print results\n",
    "print(f\"Total words: {len(word_list)}\")\n",
    "print(f\"Unique words: {len(unique_words)}\")\n",
    "print(f\"Lexical Diversity: {lexical_diversity:.4f}\")\n"
   ]
  },
  {
   "cell_type": "code",
   "execution_count": null,
   "id": "2e2b7f57-8698-4af4-b316-30fbbc56a024",
   "metadata": {},
   "outputs": [],
   "source": []
  }
 ],
 "metadata": {
  "kernelspec": {
   "display_name": "Python [conda env:370]",
   "language": "python",
   "name": "conda-env-370-py"
  },
  "language_info": {
   "codemirror_mode": {
    "name": "ipython",
    "version": 3
   },
   "file_extension": ".py",
   "mimetype": "text/x-python",
   "name": "python",
   "nbconvert_exporter": "python",
   "pygments_lexer": "ipython3",
   "version": "3.10.16"
  }
 },
 "nbformat": 4,
 "nbformat_minor": 5
}
