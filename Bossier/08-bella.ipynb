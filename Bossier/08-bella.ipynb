{
 "cells": [
  {
   "cell_type": "markdown",
   "id": "add12bee-5810-48bf-aeec-61daee16239b",
   "metadata": {},
   "source": [
    "In this notebook, I loaded only one text file and found all the adjectives and adverbs in it. Then I counted them and revelaed the 10 most common ones in each category.\n",
    "\n",
    "To start, I made sure the nltk library was available. This is a toolkit that helps Python understand and work with language. It can break up text into individual words by tokenizng and label each word with its part of speech\n",
    "I imported nltk at the beginning of my notebook so I could use its tools later in my code. \n"
   ]
  },
  {
   "cell_type": "code",
   "execution_count": 25,
   "id": "3bef220c-9502-4d58-a9da-8188e64ed761",
   "metadata": {},
   "outputs": [
    {
     "name": "stdout",
     "output_type": "stream",
     "text": [
      "['days', 'of', 'summer', 'written', 'by', 'scott', 'neustadter', 'michael', 'h.', 'weber', 'first', 'draft', 'simple', 'black', 'on', 'white', 'credits', 'roll', 'to', 'big', 'star', 's', 'i', 'm', 'in', 'love', 'with', 'a', 'girl', '.', 'when', 'all', 'is', 'said', 'and', 'done', 'up', 'comes', 'a', 'single', 'number', 'in', 'parenthesis', 'like', 'so', 'ext', '.', 'park', 'day', 'for']\n"
     ]
    }
   ],
   "source": [
    "import re\n",
    "import nltk\n",
    "\n",
    "def tknize(a_string):\n",
    "    clean = re.sub('[^a-zA-Z \\.]', ' ', a_string).lower()\n",
    "    return nltk.tokenize.word_tokenize(clean)\n",
    "\n",
    "# Read the file\n",
    "with open(\"500daysofsummer.txt\", mode=\"r\", encoding=\"utf-8\") as f:\n",
    "    summer = f.read()\n",
    "\n",
    "# Preview the first 50 tokens\n",
    "tokens = tknize(summer[:1000])  # or summer if you want the whole thing\n",
    "print(tokens[:50])"
   ]
  },
  {
   "cell_type": "markdown",
   "id": "af6f6f92-cfba-4d04-8c2b-5735eba455a3",
   "metadata": {},
   "source": [
    "This piece of code helps me go through the first 100 words of my text and find all the adjectives. The text has already been processed so that each word is labeled with its part of speech like if it’s a noun, verb, or adjective. I used a loop to look at each word one at a time. For each word, I checked if its label was “JJ,” which is the code for adjectives. If it was, I used the word. This allowed me to quickly see which adjectives were used at the beginning of the text.\n",
    "\n",
    "\n"
   ]
  },
  {
   "cell_type": "code",
   "execution_count": 34,
   "id": "6880ab36-22c0-425f-8cf8-a9e3d0e58dbb",
   "metadata": {},
   "outputs": [
    {
     "name": "stdout",
     "output_type": "stream",
     "text": [
      "simple\n",
      "black\n",
      "white\n",
      "big\n",
      "single\n",
      "ext\n",
      "few\n",
      "tom\n",
      "tom\n"
     ]
    }
   ],
   "source": [
    "# Print adjectives from first 100 tokens\n",
    "for t in summer_tagged[0:100]:\n",
    "    if t[1] == 'JJ':\n",
    "        print(t[0])"
   ]
  },
  {
   "cell_type": "markdown",
   "id": "c163d305-79de-4ceb-9261-d0dd7f30a563",
   "metadata": {},
   "source": [
    "I started by importing the nltk library, which helps me break up the text and figure out what kind of word each one is. Then I defined a function called getPOS() that lets me pick a part of speech like nouns and adjectives and search for just those in the text. Inside the function, I first break the text into words, then label each one with its part of speech. I go through all the words and if the tag matches the one I’m looking for but for this one I am looking for nouns which is NN, I save that word in a list. After running the function, I called it with \"NN\" to find all the nouns in my text and then printed the list to see the results. and got every single noun and it was a lot\n",
    "\n"
   ]
  },
  {
   "cell_type": "code",
   "execution_count": 51,
   "id": "cdedbd28-0c46-4dc3-a0bb-88404db953a6",
   "metadata": {},
   "outputs": [],
   "source": [
    "import nltk\n",
    "\n",
    "def getPOS(POS, a_string):\n",
    "    tokens = nltk.word_tokenize(a_string)\n",
    "    tagged = nltk.pos_tag(tokens)\n",
    "    the_list = []\n",
    "    for i in tagged:\n",
    "        if i[1] == POS:\n",
    "            the_list.append(i[0])\n",
    "    return the_list"
   ]
  },
  {
   "cell_type": "code",
   "execution_count": 60,
   "id": "95b894b0-dea0-4709-a6d7-864e7276e1d8",
   "metadata": {},
   "outputs": [
    {
     "name": "stdout",
     "output_type": "stream",
     "text": [
      "['number', 'parenthesis', 'DAY', 'park', 'bench', 'word', 'wedding', 'ring', 'way', 'woman', 'story', 'boy', 'conference', 'table', 'greeting', 'hair', 'shirt', 'coat', 'tennis', 'dress', 'code', 'boy', 'day', 'soulmate', 'CUT', 'bed', 'movie', 'TV', 'Elaine', 'Elaine', 'belief', 'exposure', 'pop', 'music', 'misreading', 'movie', 'CUT', 'girl', 'office', 'hair', 'boy', 'face', 'girl', 'share', 'belief', 'mirror', 'hair', 'back', 'NARRATOR', 'disintegration', 'marriage', 'hair', 'counter', 'second', 'nothing', 'SAME', 'side', 'screen', 'presentation', 'left', 'call', 'message', 'cubicle', 'hallway', 'office', 'building', 'instant', 'one', 'door', 'boardroom', 'face', 'face', 'time', 'story', 'love', 'story', 'year', 'bicycle', 'block', 'apartment', 'complex', 'bike', 'front', 'stairs', 'doorbell', 'LATER', 'door', 'birth', 'doctor', 'scrubs', 'cubicle', 'bike', 'helmet', 'thing', 'kitchen', 'insane', 'plate', 'floor', 'plate', 'girl', 'sit', 'side', 'key', 'glass', 'water', 'taste', 'beginning', 'breath', 'eat', 'park', 'day', 'drinking', 'coffee', 'newspaper', 'novel', 'coffee', 'movie', 'theatre', 'film', 'INT', 'shop', 'music', 'solo', 'album', 'music', 'day', 'booth', 'dinner', 'let', 'night', 'thing', 'SUMMER', 'PAUL', 'thing', 'whatever', 'SUMMER', 'lie', 'mood', 'thing', 'god', 'surprise', 'kitchen', 'knife', 'food', 'discussion', 'meal', 'eat', 'word', 'eat', 'travesty', 'history', 'mankind', 'food', 'disgust', 'fr', 'harsh', 'vodka', 'guy', 'someone', 'plenty', 'fish', 'sea', 'sea', 'sea', 'fish', 'share', 'look', 'friend', 'love', 'TO', 'SUMMER', 'smile', 'SUMMER', 'hair', 'SUMMER', 'SUMMER', 'eye', 'face', 'eye', 'SUMMER', 'scar', 'neck', 'operation', 'kid', 'SUMMER', 'shirt', 'SUMMER', 'SUMMER', 'sound', 'laugh', 'song', 'time', 'anything', 'life', 'SAME', 'love', 'girl', 'beat', 'shit', 'boardroom', 'mid-presentation', 'risque', 'jump', 'neo-Nazis', 'approach', 'family', 'holiday', 'home-made', 'family', 'portrait', 'kid', 'nod', 'digest', 'idea', 'head', 'department', 'idea', 'potential', 'door', 'call', 'line', 'girl', 'time', 'moment', 'table', 'Everyone', 'assistant', 'everyone', 'Everyone', 'wave', 'Vance', 'face', 'girl', 'girl', 'office', 'bitch', 'hell', 'copy', 'room', 'hurry', 'uppity', 'everyone', 'superskank', 'crap', 'cause', 'skin', 'world', 'cause', 'stuff', 'center', 'universe', 'explanation', 'elevator', 'show', 'music', 'wave', 'taste', 'music', 'beat', 'information', 'side', 'way', 'elevator', 'loud', 'god', 'office', 'Birthday', 'part', 'name', 'one', 'everyone', 'cake', 'Song', 'everyone', 'uh', 'city', 'firm', 'architect', 'story', 'city', 'company', 'job', 'friend', 'SUMMER', 'card', 'Today', 'seller', 'architect', 'adequate', 'writer', 'thank', 'college', 'spit-take', 'silence', 'cubicle', 'end', 'hall', 'walk', 'desk', 'sketch', 'house', 'architecture', 'sketch', 'wall', 'desk', 'insane', 'sense', 'amazing', 'boy', 'girl', 'bizarro', 'music', 'one', 'course', 'Dinner', 'mother', 'doorway', 'eat', 'living', 'room', 'area', 'stepdad', 'gentleman', 'type', 'girl', 'shit', 'NARRATOR', 'something', 'evidence', 'END', 'ON', 'age', 'vinyl', 'album', 'cover', 'Xanadu', 'devout', 'believer', 'idea', 'love', 'evidence', 'CUT', 'TO', '-8914', 'hairstyle', 'dress', 'cover', 'picture', 'boy', 'girl', 'heart', 'girl', 'picture', 'desk', 'word', 'seat', 'picture', 'drawing', '-5313', 'crowd', 'cheer', 'goodbye', 'frame', '-2825', 'girlfriend', 'spring', 'break', 'aisle', 'eye', 'contact', '-734', 'EXT', 'passenger', 'seat', 'week', 'disc', 'cd', 'player', 'music', 'nerd', 'pop', 'song', 'stereo', 'song', 'rush', 'button', 'something', 'fucking', 'song', 'booth', 'world', 'door', 'time', 'chance', 'silence', 'weekend', 'shit', 'something', 'Emphasis', 'weekend', 'sex', 'guy', 'gym', 'whore', 'Everyone', 'silent', 'hell', 'nothing', 'hey', 'hi', 'cause', 'desk', 'cubicle', 'supply', 'room', 'anything', 'beat', 'ok', 'prob', 'office', 'opportunity', 'CD', 'computer', 'song', 'reaction', 'nothing', 'beat', 'nothing', 'laugh', 'SUMMER', 'head', 'palm', 'bait', 'desk', 'end', 'hall', 'time', 'cubicle', 'way', 'paradise', 'city', 'grass', 'time', 'stage', 'bartender', 'place', 'sidewalk', 'night', 'life', 'day', 'MCKENZIE', 'work', 'thing', 'office', 'lot', 'stuff', 'care', 'office', 'realization', 'booth', 'place', 'microphone', 'sad', 'booth', 'loss', 'awkward', 'silent', 'beat', 'drunk', 'song', 'song', 'screen', 'shot', 'stage', 'mic', 'girl', 'fun', 'whistle', 'breath', 'opening', 'begin', 'actress', 'karaoke', 'video', 'song', 'something', 'convertible', 'sunset', 'midget', 'tuxedo', 'booth', 'shot', 'table', 'hopeful', 'disappointment', 'table', 'mid-conversation', 'way', 'til', 'SUMMER', 'cat', 'name', 'SUMMER', 'sense', 'boyfriend', 'comment', 'nothing', 'one', 'woman', 'somebody', 'girlfriend', 'anybody', 'anything', 'idea', 'world', 'fun', 'shit', 'someone', 'fall', 'love', 'stuff', 'course', 'idea', 'embarrassing', 'girl', 'story', 'ribs', 'hold', 'love', 'word', 'today', 'divorce', 'yeah', 'part', 'brain', 'person', 'fall', 'love', 'rock', 'love', 'take', 'quick', 'TOM', 'kind', 'thing', 'discontent', 'uh', 're', 'singing', 'turn', 'loverboy', 'morning', 'way', 'lot', 'self-confidence', 'Self-confidence', 'Ha', 'ribs', 'front', 'everyone', 'bar', 'singing', 'audience-participation', 'sight', 'table', 'something', 'idea', 'time', 'SUMMER', 'week', 'theme', 'song', 'share', 'laugh', 'way', 'shit', 'minute', 'drunk', 'stand', 'exit', 'place', 'Summer', 'guy', 'cab', 'walk', 'street', 'cab', 'beat', 'door', 'mile', 'minute', 'exchange', 'mind', 'time', 'guy', 'singing', 'course', 'friend', 'friend', 'friend', 'head', 'answer', 'SUMMER', 'ok', 'something', 'disappointment', 'perfect', 'Silence', 'way', 'night', 'walk', 'beat', 'way', 'breath', 'noticing', 'blue', 'case', 'scenario', 'MORNING', 'morning', 'time', 'street', 'street', 'shuffle', 'man', 'reflection', 'window', 'YOUNG', 'parade', 'everybody', 'today', 'song', 'celebration', 'achievement', 'night', 'man', 'sidewalk', 'time', 'pavement', 'fly', 'shoulder', 'office', 'whistling', 'corner', 'office', 'business', 'coy', 'smile', 'anyone', 'day', 'signal', 'return', 'none', 'cubicle', 'top', 'world', 'door', 'hospital', 'scrubs', 'son', 'bitch', 'invite', 'night', 'night', 'girl', 'girl', 'way', 'league', 'chance', 'matter', 'girl', 'job', 'job', 'level', 'friend', 'month', 'talk', 'talk', 'talk', 'girl', 'nothing', 'sound', 'toilet', 'flushing', 'bathroom', 'crap', '..', 'name', 'lady', 'look', 'life', 'track', 'Ok', 'doctor', 'talk', 'door', 'STARVING', 'eating', 'table', 'food', 'reaction', 'eating', 'right', 'SUMMER', 'business', 'Summer', 'booth', 'relationship', 'booth', 'room', 'dismount', 'dismount', 'night', 'SUMMER', 'patience', 'home', 'fun', 'anything', 'SUMMER', 'fun', 'pressure', 'hand', 'table', 'beat', 'bounding', 'bed', 'sec', 'hallway', 'sight', 'hallway', 'mirror', 'girl', 'time', 'bedroom', 'celebration', 'dance', 'Sex', 'air', 'SUMMER', 'teeth', 'SUMMER', 'haircut', 'SUMMER', 'knobby', 'SUMMER', 'head', 'SUMMER', 'scar', 'SUMMER', 'stupid', 'boobs', 'SUMMER', 'way', 'SUMMER', 'way', 'FUCKING', 'SONG', 'vehicle', 'desk', 'trash', 'reprint', 'garde', 'surrealist', 'painting', 'bin', 'family', 'heirloom', 'secretary', 'look', 'painting', 'complex', 'CU', 'painting', 'nothing', 'way', 'way', 'CU', 'painting', 'poop', 'nothing', 'marquee', 'theater', 'Everyone', 'popcorn', 'time', 'street', 'corner', 'ancient', 'lot', 'side', 'side', 'front', 'structure', 'guy', 'sit', 'view', 'city', 'peaceful', 'peace', 'front', 'gargantuan', 'building', 'torture', 'TOM', 'church', 'beauty', 'humility', 'mirror', 'thing', 'attention', 'need', 'glass', 'pen', 'purse', 'underside', 'arm', 'sketch', 'skin', 'face', 'enthusiasm', 'beam', 'landscape', 'building', 'nothing', 'co-worker', 'way', 'tongue', 'Co-Worker', 'cubicle', 'architecture', 'sketch', 'phone', 'cell', 'phone', 'office', 'copy', 'room', 'theme', 'song', 'singing', 'phone', 'word', 'sing', 'girl', 'phone', 'call', 'smile', 'face', 'curtain', 'sex', 'shower', 'something', 'mess', 'curtain', 'bar', 'top', 'laughing', 'way', 'SUMMER', 'nobody', 'curtained-off', 'section', 'box', 'movie', 'bit', 'eye', 'TV', 'CUT', 'TO', 'movie', 'drink', 'girlfriend', 'question', 'Watch', 'girlfriend', 'fact', 'fact', 'name', 'girl', 'school', 'girl', 'look', 'girlfriend', 'stuff', 'juvenile', 'girlfriend', 'girlfriend', 'type', 'CD', 'dude', 'talk', 'field', 'hockey', 'grade', 'team', 'bench', 'thinking', 'boat', 'kiss', 'death', 'girl', 'hell', 'boyfriend', 'f', 'mind', 'advice', 'kinda', 'stuff', 'trouble', 'question', 'answer', 'everything', 'answer', 'month', 'date', 'surfer', 'face', 'abs', 'son', 'bitch', 'whistle', 'field', 'dude', 'wait', 'pussy', 'face', 'SUMMER', 'teeth', 'ask', 'something', 'breath', 'radio', 'song', 'god', 'song', 'hand', 'shift', 'listening', 'something', 'moment', 'way', 'way', 'way', 'minute', 'girl', 'life', 'love', 'relief', 'nothing', 'tonight', 'party', 'reveal', 'anything', 'way', 'attention', 'while', 'attention', 'look', 'section', 'shelf', 'bed', 'heart', 'drinking', 'nothing', 'road', 'watch', 'day', 'SECONDS', 'bed', 'ice', 'cream', 'ice', 'cream', 'research', 'love', 'room', 'heart', 'man', 'Exercise', 'body', 'release', 'brain', 'sense', 'accomplishment', 'success', 'pass', 'speed', 'child', 'wheel', 'place', 'class', 'relaxation', 'core', 'understanding', 'self', 'shit', 'Everyone', 'class', 'peace', 'breathing', 'right', 'food', 'homeless', 'pain', 'line', 'fall', 'center', 'store', 'Indulge', 'forest', 'Travel', 'time', 'environment', 'world', 'peace', 'sunlight', 'breath', 'screen', 'step', 'TICK', 'leg', 'distance', 'rifle', 'sight', 'apartment', 'anew', 'task', 'fact', 'strength', 'face', 'mural', 'wall', 'book', 'bar', 'fashion', 'Everybody', 'tattoos', 'hoop', 'butterfly', 'tattoo', 'leg', 'SUMMER', 'exchange', 'point', 'guy', 'tool', 'Nothing', 'drink', 'thank', 'glance', 'point', 'guy', 'something', 'drink', 'thank', 'guy', 'buddy', 'country', 'eye', 'contact', 'beat', 'huh', 'guy', 'boyfriend', 'question', 'air', 'silence', 'pent', 'uncertainty', 'confusion', 'challenge', 'manhood', 'front', 'woman', 'spot', 'reeling', 'wince', 'pain', 'chin', 'fist', 'beat', 'calm', 'place', 'mess', 'punch', 'someone', 'grade', 'shirt', 'time', 'SUMMER', 'ass', 'time', 'guy', 'asshole', 'relationship', 'tomorrow', 'word', 'ass', 'bar', 'hear', 'shot', 'photocopy', 'room', 'bandage', 'nose', 'Nothing', 'shit', 're', 'sense', 'office', 'desk', 'phone', 'something', 'cubicle', 'INT', 'sleep', 'Right', 'awake', 'ceiling', 'Tom', 'phone', 'Right', 'phone', 'HOURS', 'buzzer', 'button', 'buzzing', 'alarm', 'door', 'jerk', 'jerk', 'SUMMER', 'tomorrow', 'way', 'SUMMER', 'Nobody', 'liar', 'beat', 'door', 'MORNING', 'wee', 'boyfriend', 'boyfriend', 'yeah', 'way', 'SUMMER', 'nothing', 'relationship', 'history', 'conversation', 'school', 'INSERT', 'photograph', 'mind', 'pass', 'slash', 'king', 'rower', 'party', 'time', 'college', 'INSERT', 'photograph', 'guitar', 'stage', 'semester', 'INSERT', 'photograph', 'posing', 'front', 'boner', 'cause', 'idea', 'TO', 'corner', 'walking', 'sigh', 'relief', 'TV', 'advertisement', 'toothpaste', 'actress', 'trolley', 'direction', 'PASSENGER', 'mess', 'girl', 'walk', 'cafe', 'name', 'night', 'school', 'way', 'eat', 'silence', 'uh', 'anything', 'silence', 'food', 'girl', 'story', 'someone', 'head', 'Cause', 'day', 'mind', 'fault', 'Summer', 'street', 'corner', 'lot', 'side', 'side', 'bullshit', 'head', 'pretend', 'day', 'heart', 'rabid', 'vampire', 'scene', 'baby', 'sleep', 'while', 'awake', 'drink', 'silence', 'weekend', 'sorry', 'strange', 'girlfriend', 'part', 'life', 'stuff', 'anything', 'thing', 'none', 'life', 'love', 'something', 'something', 'stage', 'song', 'singing', 'breakdown', 'music', 'man', '/So', 'something', 'fact', 'booth', 'face', 'date', 'fancy', 'night', 'pop', 'song', 'b.g', 'shirt', 'tie', 'teeth', 'aplomb', 'hair', 'head', 'mirror', 'coat', 'street', 'air', 'phone', 'INTERCUT', 'cell', 'apartment', 'gym', 'day', 'tonight', 'SUMMER', 'tomorrow', 'mad', 'weekend', 'eat', 'right', 'hungry', 'place', 'tie', 'frustration', 'tomorrow', 'night', 'night', 'birthday', 'line', 'head', 'chest', 'frustrating', 'night', 'CU', 'school', 'class', 'schedule', 'grade', 'cute', 'cute', 'word', 'question', 'everybody', 'theory', 'madness', 'love', 'reason', 'madness', 'light', 'home', 'someone', 'love', 'shit', 'nonsense', 'point', 'nothing', 'break', 'ass', 'nothing', 'girl', 'girl', 'rack', 'hair', 'truth', 'girl', 'nothing', 'recap', 'color', 'sequence', 'office', 'whistling', 'twenty', 'bar', 'mitzvah', 'job', 'way', 'nothing', 'today', 'card', 'room', 'desk', 'everyone', 'wife', 'love', 'life', 'something', 'spice', 'heart', 'something', 'one', 'hell', 'joy', 'desk', 'love', 'computer', 'terminal', 'aint', 'woman', 'girl', 'birthday', 'mocha', 'queen', 'gotten', 'cool', 'line', 'stabbing', 'shit', 'damn', 'carnage', 'something', 'front', 'line', 'shit', 'mom', 'step-dad', 'face', 'panic', 'coincidence', 'son', 'hug', 'face', 'girlfriend', 'deer', 'friend', 'girlfriend', 'word', 'killer', 'earshot', 'something', 'girlfriend', 'way', 'word', 'hug', 'loving', 'SUMMER', 'word', 'something', 'theatre', 'Answer-less', 'none', 'row', 'face', 'emotionless', 'eye', 'contact', 'something', 'head', 'way', 'movie', 'street', 'assassin', 'man', 'back', 'elaborate', 'violent', 'death', 'NIGHT', 'music', 'side', 'dance', 'floor', 'anyone', 'everyone', 'shirt', 'sweat', 'thing', 'SUMMER', 'fun', 'enough', 'dance', 'hour', 'time', 'Summer', 'shit', 'chaperone', 'home', 'buzzkill', 'guilt', 'rain', 'music', 'blaring', 'club', 'MORNING', 'morning', 'street', 'street', 'man', 'world', 'place', 'reflection', 'window', 'brother', 'bench', 'sign', 'parade', 'cartoon', 'shit', 'shoulder', 'bird', 'SAME', 'desk', 'way', 'desk', 'space', 'office', 'something', 'death', 'family', 'someone', 'ill', 'anything', 'something', 'assistant', 'everyone', 'reason', 'work', 'performance', 'example', 'something', 'week', 'card', 'energy', 'sympathy', 'sadness', 'loss', 'faith', 'office', 'MORNING', 'floor', 'routine', 'year', 'memory', 'impact', 'course', 'life', 'phone', 'table', 'PAUL', 'news', 'lie', 'fact', 'kind', 'girl', 'person', 'way', 'nothing', 'sit', 'SECONDS', 'place', 'behind', 'way', 'PAUL', 'face', 'room', 'wall', 'bottle', 'wine', 'something', 'cell', 'phone', 'balcony', 'bed', 'alarm', 'clock', 'button', 'thing', 'robe', 'boxer', 'milk', 'kissing', 'sidewalk', 'bench', 'walking', 'room', 'robe', 'clock', 'awake', 'day', 'reaction', 'alarm', 'pass', 'hello', 'desk', 'Nothing', 'yeah', 'anything', 'boardroom', 'position', 'comatose', 'front', 'room', 'mid-presentation', 'something', 'cat', 'CO-WORKER', 'slide', 'CO-WORKER', 'line', 'cat', 'seat', 'job', 'stuff', 'while', 'name', 'collection', 'anything', 'nothing', 'nothing', 'something', 'cat', 'disrespect', 'shit', 'screen', 'image', 'jump', 'card', 'cat', 'thing', 'life', 'place', 'business', 'cause', 'nonsense', 'card', 'company', 'paper', 'service', 'rest', 'room', 'TOM', 'level', 'card', 'grandmother', 'hell', 'truth', 'grandmother', 'card', 'credit', 'time', 'need', 'fact', 'grandma', 'Vance', 'team', 'card', 'baby', 'Eh', 'bout', 'baby', 'ya', 'buddy', 'card', 'fancy', 'Look', 'one', 'someone', 'card', 'shit', 'seat', 'boardroom', 'table', 'heartache', 'everything', 'Everyone', 'thing', 'truth', 'card', 'thought', 'dirty', 'work', 'someone', 'thing', 'love', 'galoogoo', 'Yeah', 'door', 'crap', 'crap', 'crap', 'bullshit', 'world', 'help', 'room', 'Someone', 'coughs', 'clap', 'MINUTES', 'front', 'building', 'face', 'thing', 'shit', 'SAME', 'sidewalk', 'deli', 'way', 'PAUL', 'PAUL', 'insane', 'sense', 'someone', 'everything', 'stuff', 'nothing', 'universe', 'FX', 'city', 'constant', 'world', 'brick', 'brick', 'beam', 'beam', 'force', 'nothing', 'OPENING', 'right', 'mix', 'cult', 'sister', 'family', 'circle', 'chair', 'center', 'circle', 'TO', 'cake', 'microphone', 'apple', 'number', 'mom', 'table', 'son', 'something', 'girlfriend', 'TOM', 'family', 'girl', 'stick', 'punum', 'friend', 'granddaughter', 'figure', 'man', 'work', 'bar', 'drink', 'gulp', 'table', 'band', 'everyone', 'dancing', 'glad', 'course', 'religion', 'adult', 'day', 'sister', 'life', 'yeah', 'nick', 'time', 'brother', 'dance', 'dance', 'floor', 'morning', 'yeah', 'yeah', 'Talk', 're', 'Summer', 'engagement', 'day', 'love', 'coven', 'dance', 'floor', 'fish', 'sea', 'love', 'fun', 'news', 'love', 'stuff', 'song', 'girl', 'stuff', 'kiss', 'go', 'MORNING', 'bed', 'phone', 'ear', 'phone', 'side', 'time', 'today', 'picnic', 'cause', 'page', 'day', 'sister', 'day', 'night', 'work', 'thing', 'restaurant', 'home', 'way', 'work', 'function', 'night', 'standard', 'silence', 'shopping', 'fruit', 'market', 'trouble', 'beard', 'apartment', 'furniture', 'room', 'pencil', 'wall', 'bookshelf', 'ruler', 'faint', 'line', 'wall', 'something', 'day', 'newspaper', 'novel', 'place', 'SUMMER', 'cool', 'air', 'film', 'sobs', 'sort', 'comfort', 'response', 'movie', 'line', 'wall', 'line', 'drawn', 'bit', 'wall', 'inspiration', 'image', 'skyscraper', 'drop', 'day', 'past', 'everything', 'alright', 'page', 'sobbing', 'movie', 'everything', 'alright', 'time', 'walk', 'air', 'INT', 'control', 'world', 'one', 'heard', 'look', 'album', 'hand', 'something', 'coincidence', 'hand', 'side', 'unsure', 'something', 'landscape', 'skyline', 'zone', 'EXT', 'day', 'outside', 'SUMMER', 'day', 'dinner', 'something', 'pasta', 'home', 'idea', 'breakfast', 'SUMMER', 'resistance', 'rest', 'history', 'shaven', 'bed', 'hand', 'phone', 'street', 'corner', 'city', 'skyline', 'table', 'building', 'design', 'portfolio', 'security', 'guard', 'lobby', 'high-rise', 'mom', 'cheer', 'sister', 'soccer', 'distraction', 'news', 'phone', 'list', 'wall', 'cityscape', 'list', 'car', 'side', 'road', 'distance', 'beams', 'bridge', 'time', 'news', 'machine', 'firm', 'list', 'remain', 'bed', 'beat', 'thought', 'TV', 'nothingness', 'DAY', 'bus', 'window', 'wedding', 'dress', 'veil', 'bride', 'suit', 'building', 'interview', 'distance', 'spot', 'city', 'bench', 'thought', 'voice', 'apparition', 'bench', 're', 'suit', 'SUMMER', 'lot', 'place', 'mention', 'frosty', 'tension', 'office', 'sleeping', 'silence', 'guy', 'guy', 'silence', 'beat', 'longer', 'someone', 'girlfriend', 'someone', 'wife', 'crazy', 'huh', 'SUMMER', 'day', 'nothing', 'way', 'morning', 'way', 'everything', 'bullshit', 'love', 'stuff', 'nothing', 'tale', 'nonsense', 'beat', 'hang', 'SUMMER', 'control', 'person', 'person', 'day', 'book', 'corner', 'deli', 'guy', 'husband', 'lunch', 'sun', 'shit', 'hand', 'wedding', 'ring', 'shot', 'scene', 'screenplay', 'face', 'time', 'SUMMER', 'CAMERA', 'park', 'FADE', 'IN', 'suit', 'batch', 'architecture', 'side', 'foyer', 'room', 'firm', 'time', 'chair', 'interview', 'position', 'competition', 'awkward', 'silence', 'time', 'something', 'face', 'look', 'girl', 'girl', 'uh', 'area', 'anything', 'church', 'structure', 'city', 'thing', 'doorway', 'girl', 'NARRATOR', 'anything', 'significance', 'event', 'Coincidence', 'anything', 'coincidence', 'clip', 'sequence', 'fast', 'time', 'thing', 'fate', 'Nothing', 'stranger', 'uh', 'cup', 'coffee', 'something', 'someone', 'problem', 'task', 'hand', 'job', 'interview', 'something', 'cute', 'hand', 'name', 'hand', 'face']\n"
     ]
    }
   ],
   "source": [
    "nouns = getPOS(\"NN\", summer)\n",
    "print(nouns)"
   ]
  },
  {
   "cell_type": "markdown",
   "id": "d25ffbca-09c0-4d79-b4ee-e632d64ea63f",
   "metadata": {},
   "source": [
    "In this code, I used a function that helps me pull out specific kinds of words from my text. the function is called getPOS, which stands for get part of speech. When I use this function, I give it two things the type of word I want to find like nouns or proper nounds and the text I want to search through.\n",
    "\n",
    "Inside the function, the first thing I do is break the text into individual words Then, I label each word with its part of speech so now Python knows which words are nouns, verbs, adjectives, \n",
    "\n",
    "After that, I set up a loop to go through every word and its tag. If a word’s tag matches the one I asked for (like \"JJ\" for adjectives), I add that word to a list. Once it is done, the function gives me back a list of only the words that match the part of speech I was looking for.\n",
    "\n",
    "this function just makes my life easier to get the adjectives and nounds i want "
   ]
  },
  {
   "cell_type": "code",
   "execution_count": 16,
   "id": "62959d4e-0d62-4f83-b16d-e959388e8586",
   "metadata": {},
   "outputs": [],
   "source": [
    "import nltk\n",
    "\n",
    "def getPOS(POS, a_string):\n",
    "    tokens = nltk.word_tokenize(a_string)\n",
    "    tagged = nltk.pos_tag(tokens)\n",
    "    the_list = []\n",
    "    for i in tagged:\n",
    "        if i[1] == POS:\n",
    "            the_list.append(i[0])\n",
    "    return the_list\n"
   ]
  },
  {
   "cell_type": "code",
   "execution_count": 9,
   "id": "35a33275-cf87-4c52-b0af-9d27996fb33a",
   "metadata": {},
   "outputs": [],
   "source": [
    "with open(\"500daysofsummer.txt\", mode=\"r\", encoding=\"utf-8\") as f:\n",
    "    summer = f.read()\n"
   ]
  },
  {
   "cell_type": "markdown",
   "id": "87d70ee5-54a3-4467-b9e9-571a9fff0ab0",
   "metadata": {},
   "source": [
    "this is where the code gets important \n",
    "Now that I’ve got my getPOS() function, I  start using it to find specific kinds of words in my text. First, I used the function to find all the adjectives by asking for the part-of-speech tag \"JJ\" \n",
    "Then I did the same thing to find all the adverbs, using the tag \"RB\". The results from both of these go into separate lists one called adjectives and the other called adverbs. \n",
    "After that, I used the len() function to count how many adjectives and how many adverbs were found, and I printed those numbers to see how many of each were used in the text.\n",
    "\n"
   ]
  },
  {
   "cell_type": "code",
   "execution_count": 11,
   "id": "e3583342-ebf5-471f-bec0-82a280e2a4ab",
   "metadata": {},
   "outputs": [
    {
     "name": "stdout",
     "output_type": "stream",
     "text": [
      "Number of adjectives: 864\n",
      "Number of adverbs: 1136\n"
     ]
    }
   ],
   "source": [
    "# Get all adjectives\n",
    "adjectives = getPOS(\"JJ\", summer)\n",
    "\n",
    "# Get all adverbs\n",
    "adverbs = getPOS(\"RB\", summer)\n",
    "\n",
    "# Print how many of each\n",
    "print(\"Number of adjectives:\", len(adjectives))\n",
    "print(\"Number of adverbs:\", len(adverbs))\n"
   ]
  },
  {
   "cell_type": "markdown",
   "id": "b41c1c84-136f-4f60-9448-6d696c38f228",
   "metadata": {},
   "source": [
    "now that I have lists of all the adjectives and adverbs in my text, I need to find out which ones were used the most. chatgpt gave me this code and i had to look up what it meant\n",
    "I used this Python tool called Counter from the collections module, which is pretty handy. It goes through a list and counts how many times each word shows up. I ran it on my lists of adjectives and adverbs. Then, I called the .most_common(10) method to grab the top 10 words from each list—basically the most frequently used adjectives and adverbs in the whole text. In the end, I printed both lists to see which words were popping up the most in the script.\n",
    "\n"
   ]
  },
  {
   "cell_type": "code",
   "execution_count": 13,
   "id": "a7e60022-7a5a-4423-9bfd-078a1c504490",
   "metadata": {},
   "outputs": [
    {
     "name": "stdout",
     "output_type": "stream",
     "text": [
      "Top 10 Adjectives:\n",
      "[('good', 28), ('few', 22), ('great', 18), ('other', 18), ('little', 18), ('new', 14), ('right', 13), ('next', 13), ('real', 12), ('same', 12)]\n",
      "\n",
      "Top 10 Adverbs:\n",
      "[(\"n't\", 177), ('just', 69), ('not', 66), ('back', 38), ('really', 38), ('now', 32), ('here', 31), ('so', 27), ('there', 25), ('then', 20)]\n"
     ]
    }
   ],
   "source": [
    "from collections import Counter\n",
    "\n",
    "# Get top 10 adjectives\n",
    "top_adjectives = Counter(adjectives).most_common(10)\n",
    "\n",
    "# Get top 10 adverbs\n",
    "top_adverbs = Counter(adverbs).most_common(10)\n",
    "\n",
    "print(\"Top 10 Adjectives:\")\n",
    "print(top_adjectives)\n",
    "\n",
    "print(\"\\nTop 10 Adverbs:\")\n",
    "print(top_adverbs)\n"
   ]
  },
  {
   "cell_type": "code",
   "execution_count": null,
   "id": "17777db4-9c82-4608-820c-a2d5725062c8",
   "metadata": {},
   "outputs": [],
   "source": []
  }
 ],
 "metadata": {
  "kernelspec": {
   "display_name": "Python [conda env:370]",
   "language": "python",
   "name": "conda-env-370-py"
  },
  "language_info": {
   "codemirror_mode": {
    "name": "ipython",
    "version": 3
   },
   "file_extension": ".py",
   "mimetype": "text/x-python",
   "name": "python",
   "nbconvert_exporter": "python",
   "pygments_lexer": "ipython3",
   "version": "3.10.16"
  }
 },
 "nbformat": 4,
 "nbformat_minor": 5
}
